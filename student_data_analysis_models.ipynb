{
 "cells": [
  {
   "cell_type": "code",
   "execution_count": 1,
   "metadata": {},
   "outputs": [],
   "source": [
    "from sklearn import tree\n",
    "%matplotlib inline\n",
    "import matplotlib.pyplot as plt\n",
    "import pandas as pd\n",
    "import os\n",
    "import numpy as np"
   ]
  },
  {
   "cell_type": "code",
   "execution_count": 2,
   "metadata": {},
   "outputs": [],
   "source": [
    "df = pd.read_csv('student-mat-por_combinedData.csv')"
   ]
  },
  {
   "cell_type": "code",
   "execution_count": 3,
   "metadata": {},
   "outputs": [
    {
     "data": {
      "text/html": [
       "<div>\n",
       "<style scoped>\n",
       "    .dataframe tbody tr th:only-of-type {\n",
       "        vertical-align: middle;\n",
       "    }\n",
       "\n",
       "    .dataframe tbody tr th {\n",
       "        vertical-align: top;\n",
       "    }\n",
       "\n",
       "    .dataframe thead th {\n",
       "        text-align: right;\n",
       "    }\n",
       "</style>\n",
       "<table border=\"1\" class=\"dataframe\">\n",
       "  <thead>\n",
       "    <tr style=\"text-align: right;\">\n",
       "      <th></th>\n",
       "      <th>Unnamed: 0</th>\n",
       "      <th>school</th>\n",
       "      <th>sex</th>\n",
       "      <th>age</th>\n",
       "      <th>address</th>\n",
       "      <th>famsize</th>\n",
       "      <th>Pstatus</th>\n",
       "      <th>Medu</th>\n",
       "      <th>Fedu</th>\n",
       "      <th>Mjob</th>\n",
       "      <th>...</th>\n",
       "      <th>freetime</th>\n",
       "      <th>goout</th>\n",
       "      <th>Dalc</th>\n",
       "      <th>Walc</th>\n",
       "      <th>health</th>\n",
       "      <th>absences</th>\n",
       "      <th>G1</th>\n",
       "      <th>G2</th>\n",
       "      <th>G3</th>\n",
       "      <th>subject</th>\n",
       "    </tr>\n",
       "  </thead>\n",
       "  <tbody>\n",
       "    <tr>\n",
       "      <th>0</th>\n",
       "      <td>0</td>\n",
       "      <td>GP</td>\n",
       "      <td>F</td>\n",
       "      <td>18</td>\n",
       "      <td>U</td>\n",
       "      <td>GT3</td>\n",
       "      <td>A</td>\n",
       "      <td>4</td>\n",
       "      <td>4</td>\n",
       "      <td>at_home</td>\n",
       "      <td>...</td>\n",
       "      <td>3</td>\n",
       "      <td>4</td>\n",
       "      <td>1</td>\n",
       "      <td>1</td>\n",
       "      <td>3</td>\n",
       "      <td>6</td>\n",
       "      <td>5</td>\n",
       "      <td>6</td>\n",
       "      <td>6</td>\n",
       "      <td>Math</td>\n",
       "    </tr>\n",
       "    <tr>\n",
       "      <th>1</th>\n",
       "      <td>1</td>\n",
       "      <td>GP</td>\n",
       "      <td>F</td>\n",
       "      <td>17</td>\n",
       "      <td>U</td>\n",
       "      <td>GT3</td>\n",
       "      <td>T</td>\n",
       "      <td>1</td>\n",
       "      <td>1</td>\n",
       "      <td>at_home</td>\n",
       "      <td>...</td>\n",
       "      <td>3</td>\n",
       "      <td>3</td>\n",
       "      <td>1</td>\n",
       "      <td>1</td>\n",
       "      <td>3</td>\n",
       "      <td>4</td>\n",
       "      <td>5</td>\n",
       "      <td>5</td>\n",
       "      <td>6</td>\n",
       "      <td>Math</td>\n",
       "    </tr>\n",
       "    <tr>\n",
       "      <th>2</th>\n",
       "      <td>2</td>\n",
       "      <td>GP</td>\n",
       "      <td>F</td>\n",
       "      <td>15</td>\n",
       "      <td>U</td>\n",
       "      <td>LE3</td>\n",
       "      <td>T</td>\n",
       "      <td>1</td>\n",
       "      <td>1</td>\n",
       "      <td>at_home</td>\n",
       "      <td>...</td>\n",
       "      <td>3</td>\n",
       "      <td>2</td>\n",
       "      <td>2</td>\n",
       "      <td>3</td>\n",
       "      <td>3</td>\n",
       "      <td>10</td>\n",
       "      <td>7</td>\n",
       "      <td>8</td>\n",
       "      <td>10</td>\n",
       "      <td>Math</td>\n",
       "    </tr>\n",
       "    <tr>\n",
       "      <th>3</th>\n",
       "      <td>3</td>\n",
       "      <td>GP</td>\n",
       "      <td>F</td>\n",
       "      <td>15</td>\n",
       "      <td>U</td>\n",
       "      <td>GT3</td>\n",
       "      <td>T</td>\n",
       "      <td>4</td>\n",
       "      <td>2</td>\n",
       "      <td>health</td>\n",
       "      <td>...</td>\n",
       "      <td>2</td>\n",
       "      <td>2</td>\n",
       "      <td>1</td>\n",
       "      <td>1</td>\n",
       "      <td>5</td>\n",
       "      <td>2</td>\n",
       "      <td>15</td>\n",
       "      <td>14</td>\n",
       "      <td>15</td>\n",
       "      <td>Math</td>\n",
       "    </tr>\n",
       "    <tr>\n",
       "      <th>4</th>\n",
       "      <td>4</td>\n",
       "      <td>GP</td>\n",
       "      <td>F</td>\n",
       "      <td>16</td>\n",
       "      <td>U</td>\n",
       "      <td>GT3</td>\n",
       "      <td>T</td>\n",
       "      <td>3</td>\n",
       "      <td>3</td>\n",
       "      <td>other</td>\n",
       "      <td>...</td>\n",
       "      <td>3</td>\n",
       "      <td>2</td>\n",
       "      <td>1</td>\n",
       "      <td>2</td>\n",
       "      <td>5</td>\n",
       "      <td>4</td>\n",
       "      <td>6</td>\n",
       "      <td>10</td>\n",
       "      <td>10</td>\n",
       "      <td>Math</td>\n",
       "    </tr>\n",
       "  </tbody>\n",
       "</table>\n",
       "<p>5 rows × 35 columns</p>\n",
       "</div>"
      ],
      "text/plain": [
       "   Unnamed: 0 school sex  age address famsize Pstatus  Medu  Fedu     Mjob  \\\n",
       "0           0     GP   F   18       U     GT3       A     4     4  at_home   \n",
       "1           1     GP   F   17       U     GT3       T     1     1  at_home   \n",
       "2           2     GP   F   15       U     LE3       T     1     1  at_home   \n",
       "3           3     GP   F   15       U     GT3       T     4     2   health   \n",
       "4           4     GP   F   16       U     GT3       T     3     3    other   \n",
       "\n",
       "   ... freetime goout Dalc  Walc  health  absences  G1  G2  G3 subject  \n",
       "0  ...        3     4    1     1       3         6   5   6   6    Math  \n",
       "1  ...        3     3    1     1       3         4   5   5   6    Math  \n",
       "2  ...        3     2    2     3       3        10   7   8  10    Math  \n",
       "3  ...        2     2    1     1       5         2  15  14  15    Math  \n",
       "4  ...        3     2    1     2       5         4   6  10  10    Math  \n",
       "\n",
       "[5 rows x 35 columns]"
      ]
     },
     "execution_count": 3,
     "metadata": {},
     "output_type": "execute_result"
    }
   ],
   "source": [
    "df.head()"
   ]
  },
  {
   "cell_type": "code",
   "execution_count": 4,
   "metadata": {},
   "outputs": [],
   "source": [
    "# df.astype('str')"
   ]
  },
  {
   "cell_type": "code",
   "execution_count": 5,
   "metadata": {},
   "outputs": [],
   "source": [
    "# df1 = pd.read_csv('student-por.csv', sep = ';', header=0)\n",
    "# df1.head()"
   ]
  },
  {
   "cell_type": "code",
   "execution_count": 6,
   "metadata": {},
   "outputs": [],
   "source": [
    "# df1.astype('str')"
   ]
  },
  {
   "cell_type": "code",
   "execution_count": 7,
   "metadata": {},
   "outputs": [
    {
     "name": "stdout",
     "output_type": "stream",
     "text": [
      "[2, 2, 3, 3, 3, 3, 3, 2, 4, 3, 2, 3, 3, 3, 4, 3, 3, 3, 2, 3, 3, 3, 4, 3, 2, 2, 3, 3, 3, 3, 3, 4, 4, 3, 3, 2, 4, 3, 3, 3, 3, 3, 4, 3, 2, 2, 3, 4, 3, 2, 3, 3, 3, 3, 3, 3, 3, 3, 2, 4, 3, 3, 2, 2, 3, 3, 3, 2, 2, 4, 3, 3, 2, 3, 3, 3, 3, 3, 3, 2, 3, 3, 2, 3, 3, 2, 2, 3, 3, 2, 2, 4, 2, 3, 3, 3, 3, 3, 3, 2, 2, 4, 3, 2, 4, 3, 2, 4, 3, 4, 4, 3, 3, 4, 2, 4, 3, 3, 2, 3, 3, 3, 3, 3, 2, 3, 3, 2, 1, 4, 1, 1, 3, 3, 1, 1, 1, 1, 3, 3, 1, 2, 3, 3, 1, 3, 1, 3, 1, 3, 1, 3, 3, 1, 3, 2, 3, 3, 3, 3, 1, 2, 1, 3, 2, 3, 3, 4, 1, 3, 1, 4, 3, 1, 2, 2, 3, 2, 2, 3, 2, 3, 4, 2, 3, 3, 3, 3, 2, 3, 3, 2, 2, 3, 3, 3, 4, 3, 4, 3, 4, 3, 3, 2, 3, 2, 2, 3, 3, 2, 2, 3, 3, 2, 3, 3, 1, 2, 2, 3, 2, 1, 4, 3, 3, 2, 3, 3, 2, 3, 3, 3, 2, 3, 2, 3, 3, 3, 3, 1, 3, 3, 1, 3, 1, 4, 3, 2, 2, 3, 2, 3, 2, 2, 3, 2, 3, 3, 3, 1, 4, 2, 3, 2, 1, 4, 3, 3, 3, 1, 2, 3, 3, 3, 3, 3, 2, 2, 2, 3, 2, 3, 3, 3, 3, 3, 4, 3, 3, 3, 3, 3, 3, 4, 3, 3, 1, 2, 3, 4, 3, 3, 3, 4, 3, 3, 4, 2, 3, 3, 1, 3, 3, 3, 3, 3, 1, 2, 3, 3, 3, 2, 3, 3, 3, 3, 4, 3, 2, 3, 2, 3, 1, 1, 1, 3, 3, 1, 4, 3, 3, 1, 3, 1, 3, 3, 4, 2, 3, 3, 2, 3, 2, 2, 3, 2, 3, 3, 3, 4, 3, 3, 3, 3, 3, 3, 3, 1, 3, 3, 2, 3, 3, 2, 4, 3, 3, 3, 3, 3, 3, 2, 3, 1, 2, 3, 2, 1, 2, 1, 2, 4, 2, 3, 2, 3, 3, 3, 3, 3, 3, 3, 3, 4, 3, 3, 3, 3, 3, 3, 4, 3, 3, 2, 3, 3, 3, 3, 3, 3, 3, 3, 3, 3, 3, 3, 3, 3, 3, 3, 3, 3, 3, 3, 3, 3, 3, 3, 3, 3, 3, 3, 4, 3, 3, 3, 4, 2, 3, 3, 3, 3, 4, 3, 4, 4, 4, 3, 3, 3, 4, 3, 3, 3, 3, 3, 3, 3, 3, 3, 3, 3, 3, 3, 3, 3, 2, 3, 3, 3, 3, 3, 3, 3, 3, 3, 3, 3, 3, 3, 3, 3, 3, 3, 3, 2, 4, 3, 3, 4, 3, 3, 3, 3, 3, 3, 3, 3, 4, 3, 3, 4, 3, 3, 3, 3, 3, 3, 3, 3, 2, 3, 3, 3, 3, 3, 2, 3, 3, 3, 3, 3, 3, 3, 3, 3, 3, 3, 3, 3, 3, 3, 3, 2, 3, 2, 3, 3, 3, 3, 2, 3, 3, 3, 3, 3, 2, 3, 1, 3, 3, 3, 3, 2, 3, 3, 3, 1, 3, 2, 2, 3, 2, 2, 2, 3, 4, 3, 4, 3, 4, 3, 3, 3, 3, 3, 3, 3, 3, 3, 3, 4, 3, 4, 3, 3, 4, 3, 3, 3, 3, 3, 3, 3, 4, 3, 3, 4, 3, 3, 3, 3, 3, 3, 2, 3, 3, 3, 3, 3, 3, 3, 3, 3, 3, 3, 3, 3, 3, 3, 3, 3, 3, 4, 2, 4, 3, 3, 4, 3, 3, 3, 3, 2, 3, 4, 3, 3, 3, 3, 2, 2, 2, 3, 3, 3, 3, 2, 2, 3, 3, 3, 3, 3, 3, 3, 3, 3, 3, 3, 3, 4, 3, 3, 2, 3, 3, 2, 3, 2, 3, 3, 3, 3, 4, 3, 3, 3, 3, 3, 3, 4, 3, 3, 3, 3, 3, 3, 3, 3, 2, 4, 3, 3, 3, 3, 3, 4, 3, 4, 3, 4, 3, 3, 3, 3, 3, 3, 3, 3, 3, 3, 4, 3, 3, 3, 3, 4, 3, 3, 4, 4, 4, 4, 3, 3, 3, 3, 4, 4, 3, 3, 2, 4, 4, 3, 3, 3, 3, 3, 3, 4, 4, 3, 4, 3, 3, 3, 3, 4, 4, 3, 3, 3, 3, 2, 3, 3, 3, 4, 3, 3, 3, 4, 3, 3, 3, 3, 3, 3, 3, 3, 3, 3, 3, 3, 3, 3, 3, 4, 3, 4, 3, 3, 4, 4, 3, 3, 3, 4, 3, 3, 3, 3, 3, 4, 3, 4, 3, 3, 3, 4, 4, 3, 3, 4, 3, 3, 3, 3, 3, 3, 4, 2, 3, 3, 3, 2, 3, 3, 3, 2, 3, 3, 4, 1, 2, 3, 2, 3, 2, 3, 2, 4, 3, 3, 3, 3, 2, 2, 2, 3, 3, 3, 3, 3, 3, 3, 3, 3, 2, 3, 3, 3, 3, 3, 3, 4, 3, 3, 3, 2, 3, 2, 3, 3, 3, 2, 3, 2, 3, 3, 3, 2, 3, 3, 2, 3, 3, 2, 3, 3, 3, 3, 4, 2, 3, 2, 3, 3, 3, 3, 3, 2, 4, 4, 3, 2, 2, 2, 3, 4, 3, 2, 1, 2, 3, 2, 2, 2, 4, 3, 3, 2, 3, 2, 3, 2, 4, 3, 3, 3, 3, 3, 3, 3, 3, 3, 2, 3, 2, 4, 3, 3, 4, 3, 3, 3, 3, 3, 3, 3, 3, 3, 3, 3, 3, 3, 1, 3, 2, 2, 1, 2, 2, 2, 2, 2, 3, 3, 3, 3, 3, 3, 2, 3, 2, 2, 1, 3, 2, 1, 2, 2, 3, 2, 3, 3, 3, 4, 4, 4, 1, 3, 3, 3, 3, 3, 1, 3, 1, 4, 3, 3, 3, 1, 3, 3, 3, 3, 3, 3, 4, 3, 3, 3, 3, 2, 4, 2, 3, 1, 3, 3, 2, 4, 3, 2, 3, 4, 2, 4, 1, 4, 1, 1, 3, 3, 3, 3, 4, 2, 3, 3]\n"
     ]
    }
   ],
   "source": [
    "grade = []\n",
    "for x in df[\"G3\"]:\n",
    "    \n",
    "    if x > 15:\n",
    "        grade.append(4)\n",
    "    elif x >= 10:\n",
    "        grade.append(3)\n",
    "    elif x >= 5:\n",
    "        grade.append(2)\n",
    "    else:\n",
    "        grade.append(1)\n",
    "print(grade)\n"
   ]
  },
  {
   "cell_type": "code",
   "execution_count": 8,
   "metadata": {},
   "outputs": [
    {
     "data": {
      "text/html": [
       "<div>\n",
       "<style scoped>\n",
       "    .dataframe tbody tr th:only-of-type {\n",
       "        vertical-align: middle;\n",
       "    }\n",
       "\n",
       "    .dataframe tbody tr th {\n",
       "        vertical-align: top;\n",
       "    }\n",
       "\n",
       "    .dataframe thead th {\n",
       "        text-align: right;\n",
       "    }\n",
       "</style>\n",
       "<table border=\"1\" class=\"dataframe\">\n",
       "  <thead>\n",
       "    <tr style=\"text-align: right;\">\n",
       "      <th></th>\n",
       "      <th>Unnamed: 0</th>\n",
       "      <th>school</th>\n",
       "      <th>sex</th>\n",
       "      <th>age</th>\n",
       "      <th>address</th>\n",
       "      <th>famsize</th>\n",
       "      <th>Pstatus</th>\n",
       "      <th>Medu</th>\n",
       "      <th>Fedu</th>\n",
       "      <th>Mjob</th>\n",
       "      <th>...</th>\n",
       "      <th>goout</th>\n",
       "      <th>Dalc</th>\n",
       "      <th>Walc</th>\n",
       "      <th>health</th>\n",
       "      <th>absences</th>\n",
       "      <th>G1</th>\n",
       "      <th>G2</th>\n",
       "      <th>G3</th>\n",
       "      <th>subject</th>\n",
       "      <th>grade</th>\n",
       "    </tr>\n",
       "  </thead>\n",
       "  <tbody>\n",
       "    <tr>\n",
       "      <th>0</th>\n",
       "      <td>0</td>\n",
       "      <td>GP</td>\n",
       "      <td>F</td>\n",
       "      <td>18</td>\n",
       "      <td>U</td>\n",
       "      <td>GT3</td>\n",
       "      <td>A</td>\n",
       "      <td>4</td>\n",
       "      <td>4</td>\n",
       "      <td>at_home</td>\n",
       "      <td>...</td>\n",
       "      <td>4</td>\n",
       "      <td>1</td>\n",
       "      <td>1</td>\n",
       "      <td>3</td>\n",
       "      <td>6</td>\n",
       "      <td>5</td>\n",
       "      <td>6</td>\n",
       "      <td>6</td>\n",
       "      <td>Math</td>\n",
       "      <td>2</td>\n",
       "    </tr>\n",
       "    <tr>\n",
       "      <th>1</th>\n",
       "      <td>1</td>\n",
       "      <td>GP</td>\n",
       "      <td>F</td>\n",
       "      <td>17</td>\n",
       "      <td>U</td>\n",
       "      <td>GT3</td>\n",
       "      <td>T</td>\n",
       "      <td>1</td>\n",
       "      <td>1</td>\n",
       "      <td>at_home</td>\n",
       "      <td>...</td>\n",
       "      <td>3</td>\n",
       "      <td>1</td>\n",
       "      <td>1</td>\n",
       "      <td>3</td>\n",
       "      <td>4</td>\n",
       "      <td>5</td>\n",
       "      <td>5</td>\n",
       "      <td>6</td>\n",
       "      <td>Math</td>\n",
       "      <td>2</td>\n",
       "    </tr>\n",
       "    <tr>\n",
       "      <th>2</th>\n",
       "      <td>2</td>\n",
       "      <td>GP</td>\n",
       "      <td>F</td>\n",
       "      <td>15</td>\n",
       "      <td>U</td>\n",
       "      <td>LE3</td>\n",
       "      <td>T</td>\n",
       "      <td>1</td>\n",
       "      <td>1</td>\n",
       "      <td>at_home</td>\n",
       "      <td>...</td>\n",
       "      <td>2</td>\n",
       "      <td>2</td>\n",
       "      <td>3</td>\n",
       "      <td>3</td>\n",
       "      <td>10</td>\n",
       "      <td>7</td>\n",
       "      <td>8</td>\n",
       "      <td>10</td>\n",
       "      <td>Math</td>\n",
       "      <td>3</td>\n",
       "    </tr>\n",
       "    <tr>\n",
       "      <th>3</th>\n",
       "      <td>3</td>\n",
       "      <td>GP</td>\n",
       "      <td>F</td>\n",
       "      <td>15</td>\n",
       "      <td>U</td>\n",
       "      <td>GT3</td>\n",
       "      <td>T</td>\n",
       "      <td>4</td>\n",
       "      <td>2</td>\n",
       "      <td>health</td>\n",
       "      <td>...</td>\n",
       "      <td>2</td>\n",
       "      <td>1</td>\n",
       "      <td>1</td>\n",
       "      <td>5</td>\n",
       "      <td>2</td>\n",
       "      <td>15</td>\n",
       "      <td>14</td>\n",
       "      <td>15</td>\n",
       "      <td>Math</td>\n",
       "      <td>3</td>\n",
       "    </tr>\n",
       "    <tr>\n",
       "      <th>4</th>\n",
       "      <td>4</td>\n",
       "      <td>GP</td>\n",
       "      <td>F</td>\n",
       "      <td>16</td>\n",
       "      <td>U</td>\n",
       "      <td>GT3</td>\n",
       "      <td>T</td>\n",
       "      <td>3</td>\n",
       "      <td>3</td>\n",
       "      <td>other</td>\n",
       "      <td>...</td>\n",
       "      <td>2</td>\n",
       "      <td>1</td>\n",
       "      <td>2</td>\n",
       "      <td>5</td>\n",
       "      <td>4</td>\n",
       "      <td>6</td>\n",
       "      <td>10</td>\n",
       "      <td>10</td>\n",
       "      <td>Math</td>\n",
       "      <td>3</td>\n",
       "    </tr>\n",
       "    <tr>\n",
       "      <th>...</th>\n",
       "      <td>...</td>\n",
       "      <td>...</td>\n",
       "      <td>...</td>\n",
       "      <td>...</td>\n",
       "      <td>...</td>\n",
       "      <td>...</td>\n",
       "      <td>...</td>\n",
       "      <td>...</td>\n",
       "      <td>...</td>\n",
       "      <td>...</td>\n",
       "      <td>...</td>\n",
       "      <td>...</td>\n",
       "      <td>...</td>\n",
       "      <td>...</td>\n",
       "      <td>...</td>\n",
       "      <td>...</td>\n",
       "      <td>...</td>\n",
       "      <td>...</td>\n",
       "      <td>...</td>\n",
       "      <td>...</td>\n",
       "      <td>...</td>\n",
       "    </tr>\n",
       "    <tr>\n",
       "      <th>1039</th>\n",
       "      <td>1039</td>\n",
       "      <td>MS</td>\n",
       "      <td>F</td>\n",
       "      <td>19</td>\n",
       "      <td>R</td>\n",
       "      <td>GT3</td>\n",
       "      <td>T</td>\n",
       "      <td>2</td>\n",
       "      <td>3</td>\n",
       "      <td>services</td>\n",
       "      <td>...</td>\n",
       "      <td>2</td>\n",
       "      <td>1</td>\n",
       "      <td>2</td>\n",
       "      <td>5</td>\n",
       "      <td>4</td>\n",
       "      <td>10</td>\n",
       "      <td>11</td>\n",
       "      <td>10</td>\n",
       "      <td>Por</td>\n",
       "      <td>3</td>\n",
       "    </tr>\n",
       "    <tr>\n",
       "      <th>1040</th>\n",
       "      <td>1040</td>\n",
       "      <td>MS</td>\n",
       "      <td>F</td>\n",
       "      <td>18</td>\n",
       "      <td>U</td>\n",
       "      <td>LE3</td>\n",
       "      <td>T</td>\n",
       "      <td>3</td>\n",
       "      <td>1</td>\n",
       "      <td>teacher</td>\n",
       "      <td>...</td>\n",
       "      <td>4</td>\n",
       "      <td>1</td>\n",
       "      <td>1</td>\n",
       "      <td>1</td>\n",
       "      <td>4</td>\n",
       "      <td>15</td>\n",
       "      <td>15</td>\n",
       "      <td>16</td>\n",
       "      <td>Por</td>\n",
       "      <td>4</td>\n",
       "    </tr>\n",
       "    <tr>\n",
       "      <th>1041</th>\n",
       "      <td>1041</td>\n",
       "      <td>MS</td>\n",
       "      <td>F</td>\n",
       "      <td>18</td>\n",
       "      <td>U</td>\n",
       "      <td>GT3</td>\n",
       "      <td>T</td>\n",
       "      <td>1</td>\n",
       "      <td>1</td>\n",
       "      <td>other</td>\n",
       "      <td>...</td>\n",
       "      <td>1</td>\n",
       "      <td>1</td>\n",
       "      <td>1</td>\n",
       "      <td>5</td>\n",
       "      <td>6</td>\n",
       "      <td>11</td>\n",
       "      <td>12</td>\n",
       "      <td>9</td>\n",
       "      <td>Por</td>\n",
       "      <td>2</td>\n",
       "    </tr>\n",
       "    <tr>\n",
       "      <th>1042</th>\n",
       "      <td>1042</td>\n",
       "      <td>MS</td>\n",
       "      <td>M</td>\n",
       "      <td>17</td>\n",
       "      <td>U</td>\n",
       "      <td>LE3</td>\n",
       "      <td>T</td>\n",
       "      <td>3</td>\n",
       "      <td>1</td>\n",
       "      <td>services</td>\n",
       "      <td>...</td>\n",
       "      <td>5</td>\n",
       "      <td>3</td>\n",
       "      <td>4</td>\n",
       "      <td>2</td>\n",
       "      <td>6</td>\n",
       "      <td>10</td>\n",
       "      <td>10</td>\n",
       "      <td>10</td>\n",
       "      <td>Por</td>\n",
       "      <td>3</td>\n",
       "    </tr>\n",
       "    <tr>\n",
       "      <th>1043</th>\n",
       "      <td>1043</td>\n",
       "      <td>MS</td>\n",
       "      <td>M</td>\n",
       "      <td>18</td>\n",
       "      <td>R</td>\n",
       "      <td>LE3</td>\n",
       "      <td>T</td>\n",
       "      <td>3</td>\n",
       "      <td>2</td>\n",
       "      <td>services</td>\n",
       "      <td>...</td>\n",
       "      <td>1</td>\n",
       "      <td>3</td>\n",
       "      <td>4</td>\n",
       "      <td>5</td>\n",
       "      <td>4</td>\n",
       "      <td>10</td>\n",
       "      <td>11</td>\n",
       "      <td>11</td>\n",
       "      <td>Por</td>\n",
       "      <td>3</td>\n",
       "    </tr>\n",
       "  </tbody>\n",
       "</table>\n",
       "<p>1044 rows × 36 columns</p>\n",
       "</div>"
      ],
      "text/plain": [
       "      Unnamed: 0 school sex  age address famsize Pstatus  Medu  Fedu  \\\n",
       "0              0     GP   F   18       U     GT3       A     4     4   \n",
       "1              1     GP   F   17       U     GT3       T     1     1   \n",
       "2              2     GP   F   15       U     LE3       T     1     1   \n",
       "3              3     GP   F   15       U     GT3       T     4     2   \n",
       "4              4     GP   F   16       U     GT3       T     3     3   \n",
       "...          ...    ...  ..  ...     ...     ...     ...   ...   ...   \n",
       "1039        1039     MS   F   19       R     GT3       T     2     3   \n",
       "1040        1040     MS   F   18       U     LE3       T     3     1   \n",
       "1041        1041     MS   F   18       U     GT3       T     1     1   \n",
       "1042        1042     MS   M   17       U     LE3       T     3     1   \n",
       "1043        1043     MS   M   18       R     LE3       T     3     2   \n",
       "\n",
       "          Mjob  ... goout Dalc Walc  health  absences  G1  G2  G3 subject  \\\n",
       "0      at_home  ...     4    1    1       3         6   5   6   6    Math   \n",
       "1      at_home  ...     3    1    1       3         4   5   5   6    Math   \n",
       "2      at_home  ...     2    2    3       3        10   7   8  10    Math   \n",
       "3       health  ...     2    1    1       5         2  15  14  15    Math   \n",
       "4        other  ...     2    1    2       5         4   6  10  10    Math   \n",
       "...        ...  ...   ...  ...  ...     ...       ...  ..  ..  ..     ...   \n",
       "1039  services  ...     2    1    2       5         4  10  11  10     Por   \n",
       "1040   teacher  ...     4    1    1       1         4  15  15  16     Por   \n",
       "1041     other  ...     1    1    1       5         6  11  12   9     Por   \n",
       "1042  services  ...     5    3    4       2         6  10  10  10     Por   \n",
       "1043  services  ...     1    3    4       5         4  10  11  11     Por   \n",
       "\n",
       "     grade  \n",
       "0        2  \n",
       "1        2  \n",
       "2        3  \n",
       "3        3  \n",
       "4        3  \n",
       "...    ...  \n",
       "1039     3  \n",
       "1040     4  \n",
       "1041     2  \n",
       "1042     3  \n",
       "1043     3  \n",
       "\n",
       "[1044 rows x 36 columns]"
      ]
     },
     "execution_count": 8,
     "metadata": {},
     "output_type": "execute_result"
    }
   ],
   "source": [
    "df[\"grade\"] = grade\n",
    "df"
   ]
  },
  {
   "cell_type": "code",
   "execution_count": 9,
   "metadata": {},
   "outputs": [
    {
     "data": {
      "text/html": [
       "<div>\n",
       "<style scoped>\n",
       "    .dataframe tbody tr th:only-of-type {\n",
       "        vertical-align: middle;\n",
       "    }\n",
       "\n",
       "    .dataframe tbody tr th {\n",
       "        vertical-align: top;\n",
       "    }\n",
       "\n",
       "    .dataframe thead th {\n",
       "        text-align: right;\n",
       "    }\n",
       "</style>\n",
       "<table border=\"1\" class=\"dataframe\">\n",
       "  <thead>\n",
       "    <tr style=\"text-align: right;\">\n",
       "      <th></th>\n",
       "      <th>school</th>\n",
       "      <th>sex</th>\n",
       "      <th>age</th>\n",
       "      <th>address</th>\n",
       "      <th>famsize</th>\n",
       "      <th>Pstatus</th>\n",
       "      <th>Medu</th>\n",
       "      <th>Fedu</th>\n",
       "      <th>Mjob</th>\n",
       "      <th>Fjob</th>\n",
       "      <th>...</th>\n",
       "      <th>romantic</th>\n",
       "      <th>famrel</th>\n",
       "      <th>freetime</th>\n",
       "      <th>goout</th>\n",
       "      <th>Dalc</th>\n",
       "      <th>Walc</th>\n",
       "      <th>health</th>\n",
       "      <th>absences</th>\n",
       "      <th>subject</th>\n",
       "      <th>grade</th>\n",
       "    </tr>\n",
       "  </thead>\n",
       "  <tbody>\n",
       "    <tr>\n",
       "      <th>0</th>\n",
       "      <td>GP</td>\n",
       "      <td>F</td>\n",
       "      <td>18</td>\n",
       "      <td>U</td>\n",
       "      <td>GT3</td>\n",
       "      <td>A</td>\n",
       "      <td>4</td>\n",
       "      <td>4</td>\n",
       "      <td>at_home</td>\n",
       "      <td>teacher</td>\n",
       "      <td>...</td>\n",
       "      <td>no</td>\n",
       "      <td>4</td>\n",
       "      <td>3</td>\n",
       "      <td>4</td>\n",
       "      <td>1</td>\n",
       "      <td>1</td>\n",
       "      <td>3</td>\n",
       "      <td>6</td>\n",
       "      <td>Math</td>\n",
       "      <td>2</td>\n",
       "    </tr>\n",
       "    <tr>\n",
       "      <th>1</th>\n",
       "      <td>GP</td>\n",
       "      <td>F</td>\n",
       "      <td>17</td>\n",
       "      <td>U</td>\n",
       "      <td>GT3</td>\n",
       "      <td>T</td>\n",
       "      <td>1</td>\n",
       "      <td>1</td>\n",
       "      <td>at_home</td>\n",
       "      <td>other</td>\n",
       "      <td>...</td>\n",
       "      <td>no</td>\n",
       "      <td>5</td>\n",
       "      <td>3</td>\n",
       "      <td>3</td>\n",
       "      <td>1</td>\n",
       "      <td>1</td>\n",
       "      <td>3</td>\n",
       "      <td>4</td>\n",
       "      <td>Math</td>\n",
       "      <td>2</td>\n",
       "    </tr>\n",
       "    <tr>\n",
       "      <th>2</th>\n",
       "      <td>GP</td>\n",
       "      <td>F</td>\n",
       "      <td>15</td>\n",
       "      <td>U</td>\n",
       "      <td>LE3</td>\n",
       "      <td>T</td>\n",
       "      <td>1</td>\n",
       "      <td>1</td>\n",
       "      <td>at_home</td>\n",
       "      <td>other</td>\n",
       "      <td>...</td>\n",
       "      <td>no</td>\n",
       "      <td>4</td>\n",
       "      <td>3</td>\n",
       "      <td>2</td>\n",
       "      <td>2</td>\n",
       "      <td>3</td>\n",
       "      <td>3</td>\n",
       "      <td>10</td>\n",
       "      <td>Math</td>\n",
       "      <td>3</td>\n",
       "    </tr>\n",
       "    <tr>\n",
       "      <th>3</th>\n",
       "      <td>GP</td>\n",
       "      <td>F</td>\n",
       "      <td>15</td>\n",
       "      <td>U</td>\n",
       "      <td>GT3</td>\n",
       "      <td>T</td>\n",
       "      <td>4</td>\n",
       "      <td>2</td>\n",
       "      <td>health</td>\n",
       "      <td>services</td>\n",
       "      <td>...</td>\n",
       "      <td>yes</td>\n",
       "      <td>3</td>\n",
       "      <td>2</td>\n",
       "      <td>2</td>\n",
       "      <td>1</td>\n",
       "      <td>1</td>\n",
       "      <td>5</td>\n",
       "      <td>2</td>\n",
       "      <td>Math</td>\n",
       "      <td>3</td>\n",
       "    </tr>\n",
       "    <tr>\n",
       "      <th>4</th>\n",
       "      <td>GP</td>\n",
       "      <td>F</td>\n",
       "      <td>16</td>\n",
       "      <td>U</td>\n",
       "      <td>GT3</td>\n",
       "      <td>T</td>\n",
       "      <td>3</td>\n",
       "      <td>3</td>\n",
       "      <td>other</td>\n",
       "      <td>other</td>\n",
       "      <td>...</td>\n",
       "      <td>no</td>\n",
       "      <td>4</td>\n",
       "      <td>3</td>\n",
       "      <td>2</td>\n",
       "      <td>1</td>\n",
       "      <td>2</td>\n",
       "      <td>5</td>\n",
       "      <td>4</td>\n",
       "      <td>Math</td>\n",
       "      <td>3</td>\n",
       "    </tr>\n",
       "    <tr>\n",
       "      <th>...</th>\n",
       "      <td>...</td>\n",
       "      <td>...</td>\n",
       "      <td>...</td>\n",
       "      <td>...</td>\n",
       "      <td>...</td>\n",
       "      <td>...</td>\n",
       "      <td>...</td>\n",
       "      <td>...</td>\n",
       "      <td>...</td>\n",
       "      <td>...</td>\n",
       "      <td>...</td>\n",
       "      <td>...</td>\n",
       "      <td>...</td>\n",
       "      <td>...</td>\n",
       "      <td>...</td>\n",
       "      <td>...</td>\n",
       "      <td>...</td>\n",
       "      <td>...</td>\n",
       "      <td>...</td>\n",
       "      <td>...</td>\n",
       "      <td>...</td>\n",
       "    </tr>\n",
       "    <tr>\n",
       "      <th>1039</th>\n",
       "      <td>MS</td>\n",
       "      <td>F</td>\n",
       "      <td>19</td>\n",
       "      <td>R</td>\n",
       "      <td>GT3</td>\n",
       "      <td>T</td>\n",
       "      <td>2</td>\n",
       "      <td>3</td>\n",
       "      <td>services</td>\n",
       "      <td>other</td>\n",
       "      <td>...</td>\n",
       "      <td>no</td>\n",
       "      <td>5</td>\n",
       "      <td>4</td>\n",
       "      <td>2</td>\n",
       "      <td>1</td>\n",
       "      <td>2</td>\n",
       "      <td>5</td>\n",
       "      <td>4</td>\n",
       "      <td>Por</td>\n",
       "      <td>3</td>\n",
       "    </tr>\n",
       "    <tr>\n",
       "      <th>1040</th>\n",
       "      <td>MS</td>\n",
       "      <td>F</td>\n",
       "      <td>18</td>\n",
       "      <td>U</td>\n",
       "      <td>LE3</td>\n",
       "      <td>T</td>\n",
       "      <td>3</td>\n",
       "      <td>1</td>\n",
       "      <td>teacher</td>\n",
       "      <td>services</td>\n",
       "      <td>...</td>\n",
       "      <td>no</td>\n",
       "      <td>4</td>\n",
       "      <td>3</td>\n",
       "      <td>4</td>\n",
       "      <td>1</td>\n",
       "      <td>1</td>\n",
       "      <td>1</td>\n",
       "      <td>4</td>\n",
       "      <td>Por</td>\n",
       "      <td>4</td>\n",
       "    </tr>\n",
       "    <tr>\n",
       "      <th>1041</th>\n",
       "      <td>MS</td>\n",
       "      <td>F</td>\n",
       "      <td>18</td>\n",
       "      <td>U</td>\n",
       "      <td>GT3</td>\n",
       "      <td>T</td>\n",
       "      <td>1</td>\n",
       "      <td>1</td>\n",
       "      <td>other</td>\n",
       "      <td>other</td>\n",
       "      <td>...</td>\n",
       "      <td>no</td>\n",
       "      <td>1</td>\n",
       "      <td>1</td>\n",
       "      <td>1</td>\n",
       "      <td>1</td>\n",
       "      <td>1</td>\n",
       "      <td>5</td>\n",
       "      <td>6</td>\n",
       "      <td>Por</td>\n",
       "      <td>2</td>\n",
       "    </tr>\n",
       "    <tr>\n",
       "      <th>1042</th>\n",
       "      <td>MS</td>\n",
       "      <td>M</td>\n",
       "      <td>17</td>\n",
       "      <td>U</td>\n",
       "      <td>LE3</td>\n",
       "      <td>T</td>\n",
       "      <td>3</td>\n",
       "      <td>1</td>\n",
       "      <td>services</td>\n",
       "      <td>services</td>\n",
       "      <td>...</td>\n",
       "      <td>no</td>\n",
       "      <td>2</td>\n",
       "      <td>4</td>\n",
       "      <td>5</td>\n",
       "      <td>3</td>\n",
       "      <td>4</td>\n",
       "      <td>2</td>\n",
       "      <td>6</td>\n",
       "      <td>Por</td>\n",
       "      <td>3</td>\n",
       "    </tr>\n",
       "    <tr>\n",
       "      <th>1043</th>\n",
       "      <td>MS</td>\n",
       "      <td>M</td>\n",
       "      <td>18</td>\n",
       "      <td>R</td>\n",
       "      <td>LE3</td>\n",
       "      <td>T</td>\n",
       "      <td>3</td>\n",
       "      <td>2</td>\n",
       "      <td>services</td>\n",
       "      <td>other</td>\n",
       "      <td>...</td>\n",
       "      <td>no</td>\n",
       "      <td>4</td>\n",
       "      <td>4</td>\n",
       "      <td>1</td>\n",
       "      <td>3</td>\n",
       "      <td>4</td>\n",
       "      <td>5</td>\n",
       "      <td>4</td>\n",
       "      <td>Por</td>\n",
       "      <td>3</td>\n",
       "    </tr>\n",
       "  </tbody>\n",
       "</table>\n",
       "<p>1044 rows × 32 columns</p>\n",
       "</div>"
      ],
      "text/plain": [
       "     school sex  age address famsize Pstatus  Medu  Fedu      Mjob      Fjob  \\\n",
       "0        GP   F   18       U     GT3       A     4     4   at_home   teacher   \n",
       "1        GP   F   17       U     GT3       T     1     1   at_home     other   \n",
       "2        GP   F   15       U     LE3       T     1     1   at_home     other   \n",
       "3        GP   F   15       U     GT3       T     4     2    health  services   \n",
       "4        GP   F   16       U     GT3       T     3     3     other     other   \n",
       "...     ...  ..  ...     ...     ...     ...   ...   ...       ...       ...   \n",
       "1039     MS   F   19       R     GT3       T     2     3  services     other   \n",
       "1040     MS   F   18       U     LE3       T     3     1   teacher  services   \n",
       "1041     MS   F   18       U     GT3       T     1     1     other     other   \n",
       "1042     MS   M   17       U     LE3       T     3     1  services  services   \n",
       "1043     MS   M   18       R     LE3       T     3     2  services     other   \n",
       "\n",
       "      ... romantic famrel  freetime  goout  Dalc Walc health absences subject  \\\n",
       "0     ...       no      4         3      4     1    1      3        6    Math   \n",
       "1     ...       no      5         3      3     1    1      3        4    Math   \n",
       "2     ...       no      4         3      2     2    3      3       10    Math   \n",
       "3     ...      yes      3         2      2     1    1      5        2    Math   \n",
       "4     ...       no      4         3      2     1    2      5        4    Math   \n",
       "...   ...      ...    ...       ...    ...   ...  ...    ...      ...     ...   \n",
       "1039  ...       no      5         4      2     1    2      5        4     Por   \n",
       "1040  ...       no      4         3      4     1    1      1        4     Por   \n",
       "1041  ...       no      1         1      1     1    1      5        6     Por   \n",
       "1042  ...       no      2         4      5     3    4      2        6     Por   \n",
       "1043  ...       no      4         4      1     3    4      5        4     Por   \n",
       "\n",
       "     grade  \n",
       "0        2  \n",
       "1        2  \n",
       "2        3  \n",
       "3        3  \n",
       "4        3  \n",
       "...    ...  \n",
       "1039     3  \n",
       "1040     4  \n",
       "1041     2  \n",
       "1042     3  \n",
       "1043     3  \n",
       "\n",
       "[1044 rows x 32 columns]"
      ]
     },
     "execution_count": 9,
     "metadata": {},
     "output_type": "execute_result"
    }
   ],
   "source": [
    "new_df = df.drop(columns = [\"G2\",\"G1\",\"G3\",\"Unnamed: 0\"])\n",
    "new_df"
   ]
  },
  {
   "cell_type": "code",
   "execution_count": 10,
   "metadata": {},
   "outputs": [
    {
     "data": {
      "text/plain": [
       "0       2\n",
       "1       2\n",
       "2       3\n",
       "3       3\n",
       "4       3\n",
       "       ..\n",
       "1039    3\n",
       "1040    4\n",
       "1041    2\n",
       "1042    3\n",
       "1043    3\n",
       "Name: grade, Length: 1044, dtype: int64"
      ]
     },
     "execution_count": 10,
     "metadata": {},
     "output_type": "execute_result"
    }
   ],
   "source": [
    "data = new_df.values\n",
    "X = new_df.drop(columns =[\"grade\"])\n",
    "y = new_df['grade']\n",
    "y"
   ]
  },
  {
   "cell_type": "code",
   "execution_count": 11,
   "metadata": {},
   "outputs": [
    {
     "data": {
      "text/plain": [
       "['freetime', 'studytime', 'health', 'Walc', 'goout']"
      ]
     },
     "execution_count": 11,
     "metadata": {},
     "output_type": "execute_result"
    }
   ],
   "source": [
    "cat_columns = [\"school\",\"sex\",\"address\",\"famsize\",\"Pstatus\",\"Mjob\",\"Fjob\",\"reason\",\"guardian\",\"schoolsup\",\"famsup\",\"paid\",\"activities\",\"nursery\",\"higher\",\"internet\",\"romantic\",\"subject\"]\n",
    "cat_columns2 = [\"freetime\",\"studytime\",\"health\",\"Walc\",\"goout\"]\n",
    "cat_columns2"
   ]
  },
  {
   "cell_type": "code",
   "execution_count": 12,
   "metadata": {},
   "outputs": [],
   "source": [
    "from sklearn.preprocessing import LabelEncoder\n",
    "from sklearn.preprocessing import OneHotEncoder\n",
    "label_encoder = LabelEncoder()"
   ]
  },
  {
   "cell_type": "code",
   "execution_count": 13,
   "metadata": {},
   "outputs": [
    {
     "data": {
      "text/html": [
       "<div>\n",
       "<style scoped>\n",
       "    .dataframe tbody tr th:only-of-type {\n",
       "        vertical-align: middle;\n",
       "    }\n",
       "\n",
       "    .dataframe tbody tr th {\n",
       "        vertical-align: top;\n",
       "    }\n",
       "\n",
       "    .dataframe thead th {\n",
       "        text-align: right;\n",
       "    }\n",
       "</style>\n",
       "<table border=\"1\" class=\"dataframe\">\n",
       "  <thead>\n",
       "    <tr style=\"text-align: right;\">\n",
       "      <th></th>\n",
       "      <th>school</th>\n",
       "      <th>sex</th>\n",
       "      <th>age</th>\n",
       "      <th>address</th>\n",
       "      <th>famsize</th>\n",
       "      <th>Pstatus</th>\n",
       "      <th>Medu</th>\n",
       "      <th>Fedu</th>\n",
       "      <th>Mjob</th>\n",
       "      <th>Fjob</th>\n",
       "      <th>...</th>\n",
       "      <th>internet</th>\n",
       "      <th>romantic</th>\n",
       "      <th>famrel</th>\n",
       "      <th>freetime</th>\n",
       "      <th>goout</th>\n",
       "      <th>Dalc</th>\n",
       "      <th>Walc</th>\n",
       "      <th>health</th>\n",
       "      <th>absences</th>\n",
       "      <th>subject</th>\n",
       "    </tr>\n",
       "  </thead>\n",
       "  <tbody>\n",
       "    <tr>\n",
       "      <th>0</th>\n",
       "      <td>0</td>\n",
       "      <td>0</td>\n",
       "      <td>18</td>\n",
       "      <td>1</td>\n",
       "      <td>0</td>\n",
       "      <td>0</td>\n",
       "      <td>4</td>\n",
       "      <td>4</td>\n",
       "      <td>0</td>\n",
       "      <td>4</td>\n",
       "      <td>...</td>\n",
       "      <td>0</td>\n",
       "      <td>0</td>\n",
       "      <td>4</td>\n",
       "      <td>3</td>\n",
       "      <td>4</td>\n",
       "      <td>1</td>\n",
       "      <td>1</td>\n",
       "      <td>3</td>\n",
       "      <td>6</td>\n",
       "      <td>0</td>\n",
       "    </tr>\n",
       "    <tr>\n",
       "      <th>1</th>\n",
       "      <td>0</td>\n",
       "      <td>0</td>\n",
       "      <td>17</td>\n",
       "      <td>1</td>\n",
       "      <td>0</td>\n",
       "      <td>1</td>\n",
       "      <td>1</td>\n",
       "      <td>1</td>\n",
       "      <td>0</td>\n",
       "      <td>2</td>\n",
       "      <td>...</td>\n",
       "      <td>1</td>\n",
       "      <td>0</td>\n",
       "      <td>5</td>\n",
       "      <td>3</td>\n",
       "      <td>3</td>\n",
       "      <td>1</td>\n",
       "      <td>1</td>\n",
       "      <td>3</td>\n",
       "      <td>4</td>\n",
       "      <td>0</td>\n",
       "    </tr>\n",
       "    <tr>\n",
       "      <th>2</th>\n",
       "      <td>0</td>\n",
       "      <td>0</td>\n",
       "      <td>15</td>\n",
       "      <td>1</td>\n",
       "      <td>1</td>\n",
       "      <td>1</td>\n",
       "      <td>1</td>\n",
       "      <td>1</td>\n",
       "      <td>0</td>\n",
       "      <td>2</td>\n",
       "      <td>...</td>\n",
       "      <td>1</td>\n",
       "      <td>0</td>\n",
       "      <td>4</td>\n",
       "      <td>3</td>\n",
       "      <td>2</td>\n",
       "      <td>2</td>\n",
       "      <td>3</td>\n",
       "      <td>3</td>\n",
       "      <td>10</td>\n",
       "      <td>0</td>\n",
       "    </tr>\n",
       "    <tr>\n",
       "      <th>3</th>\n",
       "      <td>0</td>\n",
       "      <td>0</td>\n",
       "      <td>15</td>\n",
       "      <td>1</td>\n",
       "      <td>0</td>\n",
       "      <td>1</td>\n",
       "      <td>4</td>\n",
       "      <td>2</td>\n",
       "      <td>1</td>\n",
       "      <td>3</td>\n",
       "      <td>...</td>\n",
       "      <td>1</td>\n",
       "      <td>1</td>\n",
       "      <td>3</td>\n",
       "      <td>2</td>\n",
       "      <td>2</td>\n",
       "      <td>1</td>\n",
       "      <td>1</td>\n",
       "      <td>5</td>\n",
       "      <td>2</td>\n",
       "      <td>0</td>\n",
       "    </tr>\n",
       "    <tr>\n",
       "      <th>4</th>\n",
       "      <td>0</td>\n",
       "      <td>0</td>\n",
       "      <td>16</td>\n",
       "      <td>1</td>\n",
       "      <td>0</td>\n",
       "      <td>1</td>\n",
       "      <td>3</td>\n",
       "      <td>3</td>\n",
       "      <td>2</td>\n",
       "      <td>2</td>\n",
       "      <td>...</td>\n",
       "      <td>0</td>\n",
       "      <td>0</td>\n",
       "      <td>4</td>\n",
       "      <td>3</td>\n",
       "      <td>2</td>\n",
       "      <td>1</td>\n",
       "      <td>2</td>\n",
       "      <td>5</td>\n",
       "      <td>4</td>\n",
       "      <td>0</td>\n",
       "    </tr>\n",
       "    <tr>\n",
       "      <th>...</th>\n",
       "      <td>...</td>\n",
       "      <td>...</td>\n",
       "      <td>...</td>\n",
       "      <td>...</td>\n",
       "      <td>...</td>\n",
       "      <td>...</td>\n",
       "      <td>...</td>\n",
       "      <td>...</td>\n",
       "      <td>...</td>\n",
       "      <td>...</td>\n",
       "      <td>...</td>\n",
       "      <td>...</td>\n",
       "      <td>...</td>\n",
       "      <td>...</td>\n",
       "      <td>...</td>\n",
       "      <td>...</td>\n",
       "      <td>...</td>\n",
       "      <td>...</td>\n",
       "      <td>...</td>\n",
       "      <td>...</td>\n",
       "      <td>...</td>\n",
       "    </tr>\n",
       "    <tr>\n",
       "      <th>1039</th>\n",
       "      <td>1</td>\n",
       "      <td>0</td>\n",
       "      <td>19</td>\n",
       "      <td>0</td>\n",
       "      <td>0</td>\n",
       "      <td>1</td>\n",
       "      <td>2</td>\n",
       "      <td>3</td>\n",
       "      <td>3</td>\n",
       "      <td>2</td>\n",
       "      <td>...</td>\n",
       "      <td>1</td>\n",
       "      <td>0</td>\n",
       "      <td>5</td>\n",
       "      <td>4</td>\n",
       "      <td>2</td>\n",
       "      <td>1</td>\n",
       "      <td>2</td>\n",
       "      <td>5</td>\n",
       "      <td>4</td>\n",
       "      <td>1</td>\n",
       "    </tr>\n",
       "    <tr>\n",
       "      <th>1040</th>\n",
       "      <td>1</td>\n",
       "      <td>0</td>\n",
       "      <td>18</td>\n",
       "      <td>1</td>\n",
       "      <td>1</td>\n",
       "      <td>1</td>\n",
       "      <td>3</td>\n",
       "      <td>1</td>\n",
       "      <td>4</td>\n",
       "      <td>3</td>\n",
       "      <td>...</td>\n",
       "      <td>1</td>\n",
       "      <td>0</td>\n",
       "      <td>4</td>\n",
       "      <td>3</td>\n",
       "      <td>4</td>\n",
       "      <td>1</td>\n",
       "      <td>1</td>\n",
       "      <td>1</td>\n",
       "      <td>4</td>\n",
       "      <td>1</td>\n",
       "    </tr>\n",
       "    <tr>\n",
       "      <th>1041</th>\n",
       "      <td>1</td>\n",
       "      <td>0</td>\n",
       "      <td>18</td>\n",
       "      <td>1</td>\n",
       "      <td>0</td>\n",
       "      <td>1</td>\n",
       "      <td>1</td>\n",
       "      <td>1</td>\n",
       "      <td>2</td>\n",
       "      <td>2</td>\n",
       "      <td>...</td>\n",
       "      <td>0</td>\n",
       "      <td>0</td>\n",
       "      <td>1</td>\n",
       "      <td>1</td>\n",
       "      <td>1</td>\n",
       "      <td>1</td>\n",
       "      <td>1</td>\n",
       "      <td>5</td>\n",
       "      <td>6</td>\n",
       "      <td>1</td>\n",
       "    </tr>\n",
       "    <tr>\n",
       "      <th>1042</th>\n",
       "      <td>1</td>\n",
       "      <td>1</td>\n",
       "      <td>17</td>\n",
       "      <td>1</td>\n",
       "      <td>1</td>\n",
       "      <td>1</td>\n",
       "      <td>3</td>\n",
       "      <td>1</td>\n",
       "      <td>3</td>\n",
       "      <td>3</td>\n",
       "      <td>...</td>\n",
       "      <td>1</td>\n",
       "      <td>0</td>\n",
       "      <td>2</td>\n",
       "      <td>4</td>\n",
       "      <td>5</td>\n",
       "      <td>3</td>\n",
       "      <td>4</td>\n",
       "      <td>2</td>\n",
       "      <td>6</td>\n",
       "      <td>1</td>\n",
       "    </tr>\n",
       "    <tr>\n",
       "      <th>1043</th>\n",
       "      <td>1</td>\n",
       "      <td>1</td>\n",
       "      <td>18</td>\n",
       "      <td>0</td>\n",
       "      <td>1</td>\n",
       "      <td>1</td>\n",
       "      <td>3</td>\n",
       "      <td>2</td>\n",
       "      <td>3</td>\n",
       "      <td>2</td>\n",
       "      <td>...</td>\n",
       "      <td>1</td>\n",
       "      <td>0</td>\n",
       "      <td>4</td>\n",
       "      <td>4</td>\n",
       "      <td>1</td>\n",
       "      <td>3</td>\n",
       "      <td>4</td>\n",
       "      <td>5</td>\n",
       "      <td>4</td>\n",
       "      <td>1</td>\n",
       "    </tr>\n",
       "  </tbody>\n",
       "</table>\n",
       "<p>1044 rows × 31 columns</p>\n",
       "</div>"
      ],
      "text/plain": [
       "      school  sex  age  address  famsize  Pstatus  Medu  Fedu  Mjob  Fjob  \\\n",
       "0          0    0   18        1        0        0     4     4     0     4   \n",
       "1          0    0   17        1        0        1     1     1     0     2   \n",
       "2          0    0   15        1        1        1     1     1     0     2   \n",
       "3          0    0   15        1        0        1     4     2     1     3   \n",
       "4          0    0   16        1        0        1     3     3     2     2   \n",
       "...      ...  ...  ...      ...      ...      ...   ...   ...   ...   ...   \n",
       "1039       1    0   19        0        0        1     2     3     3     2   \n",
       "1040       1    0   18        1        1        1     3     1     4     3   \n",
       "1041       1    0   18        1        0        1     1     1     2     2   \n",
       "1042       1    1   17        1        1        1     3     1     3     3   \n",
       "1043       1    1   18        0        1        1     3     2     3     2   \n",
       "\n",
       "      ...  internet  romantic  famrel  freetime  goout  Dalc  Walc  health  \\\n",
       "0     ...         0         0       4         3      4     1     1       3   \n",
       "1     ...         1         0       5         3      3     1     1       3   \n",
       "2     ...         1         0       4         3      2     2     3       3   \n",
       "3     ...         1         1       3         2      2     1     1       5   \n",
       "4     ...         0         0       4         3      2     1     2       5   \n",
       "...   ...       ...       ...     ...       ...    ...   ...   ...     ...   \n",
       "1039  ...         1         0       5         4      2     1     2       5   \n",
       "1040  ...         1         0       4         3      4     1     1       1   \n",
       "1041  ...         0         0       1         1      1     1     1       5   \n",
       "1042  ...         1         0       2         4      5     3     4       2   \n",
       "1043  ...         1         0       4         4      1     3     4       5   \n",
       "\n",
       "      absences  subject  \n",
       "0            6        0  \n",
       "1            4        0  \n",
       "2           10        0  \n",
       "3            2        0  \n",
       "4            4        0  \n",
       "...        ...      ...  \n",
       "1039         4        1  \n",
       "1040         4        1  \n",
       "1041         6        1  \n",
       "1042         6        1  \n",
       "1043         4        1  \n",
       "\n",
       "[1044 rows x 31 columns]"
      ]
     },
     "execution_count": 13,
     "metadata": {},
     "output_type": "execute_result"
    }
   ],
   "source": [
    "X[cat_columns] = X[cat_columns].apply(LabelEncoder().fit_transform)\n",
    "X"
   ]
  },
  {
   "cell_type": "code",
   "execution_count": 14,
   "metadata": {},
   "outputs": [],
   "source": [
    "X2= X[cat_columns2]\n",
    "X2= X2.apply(LabelEncoder().fit_transform)"
   ]
  },
  {
   "cell_type": "code",
   "execution_count": 15,
   "metadata": {},
   "outputs": [
    {
     "data": {
      "text/html": [
       "<div>\n",
       "<style scoped>\n",
       "    .dataframe tbody tr th:only-of-type {\n",
       "        vertical-align: middle;\n",
       "    }\n",
       "\n",
       "    .dataframe tbody tr th {\n",
       "        vertical-align: top;\n",
       "    }\n",
       "\n",
       "    .dataframe thead th {\n",
       "        text-align: right;\n",
       "    }\n",
       "</style>\n",
       "<table border=\"1\" class=\"dataframe\">\n",
       "  <thead>\n",
       "    <tr style=\"text-align: right;\">\n",
       "      <th></th>\n",
       "      <th>freetime</th>\n",
       "      <th>studytime</th>\n",
       "      <th>health</th>\n",
       "      <th>Walc</th>\n",
       "      <th>goout</th>\n",
       "    </tr>\n",
       "  </thead>\n",
       "  <tbody>\n",
       "    <tr>\n",
       "      <th>0</th>\n",
       "      <td>2</td>\n",
       "      <td>1</td>\n",
       "      <td>2</td>\n",
       "      <td>0</td>\n",
       "      <td>3</td>\n",
       "    </tr>\n",
       "    <tr>\n",
<<<<<<< HEAD
       "      <td>1</td>\n",
=======
       "      <th>1</th>\n",
>>>>>>> c8dd488261b3ad16245dca7212435eb93a0a91c5
       "      <td>2</td>\n",
       "      <td>1</td>\n",
       "      <td>2</td>\n",
       "      <td>0</td>\n",
       "      <td>2</td>\n",
       "    </tr>\n",
       "    <tr>\n",
       "      <th>2</th>\n",
       "      <td>2</td>\n",
<<<<<<< HEAD
       "      <td>2</td>\n",
=======
>>>>>>> c8dd488261b3ad16245dca7212435eb93a0a91c5
       "      <td>1</td>\n",
       "      <td>2</td>\n",
       "      <td>2</td>\n",
       "      <td>1</td>\n",
       "    </tr>\n",
       "    <tr>\n",
       "      <th>3</th>\n",
       "      <td>1</td>\n",
       "      <td>2</td>\n",
       "      <td>4</td>\n",
       "      <td>0</td>\n",
       "      <td>1</td>\n",
       "    </tr>\n",
       "    <tr>\n",
       "      <th>4</th>\n",
       "      <td>2</td>\n",
       "      <td>1</td>\n",
       "      <td>4</td>\n",
       "      <td>1</td>\n",
       "      <td>1</td>\n",
       "    </tr>\n",
       "    <tr>\n",
       "      <th>...</th>\n",
       "      <td>...</td>\n",
       "      <td>...</td>\n",
       "      <td>...</td>\n",
       "      <td>...</td>\n",
       "      <td>...</td>\n",
       "    </tr>\n",
       "    <tr>\n",
       "      <th>1039</th>\n",
       "      <td>3</td>\n",
       "      <td>2</td>\n",
       "      <td>4</td>\n",
       "      <td>1</td>\n",
       "      <td>1</td>\n",
       "    </tr>\n",
       "    <tr>\n",
       "      <th>1040</th>\n",
       "      <td>2</td>\n",
       "      <td>1</td>\n",
       "      <td>0</td>\n",
       "      <td>0</td>\n",
       "      <td>3</td>\n",
       "    </tr>\n",
       "    <tr>\n",
       "      <th>1041</th>\n",
       "      <td>0</td>\n",
       "      <td>1</td>\n",
       "      <td>4</td>\n",
       "      <td>0</td>\n",
       "      <td>0</td>\n",
       "    </tr>\n",
       "    <tr>\n",
       "      <th>1042</th>\n",
       "      <td>3</td>\n",
       "      <td>0</td>\n",
       "      <td>1</td>\n",
       "      <td>3</td>\n",
       "      <td>4</td>\n",
       "    </tr>\n",
       "    <tr>\n",
<<<<<<< HEAD
       "      <td>1043</td>\n",
=======
       "      <th>1043</th>\n",
>>>>>>> c8dd488261b3ad16245dca7212435eb93a0a91c5
       "      <td>3</td>\n",
       "      <td>0</td>\n",
       "      <td>4</td>\n",
       "      <td>3</td>\n",
       "      <td>0</td>\n",
       "    </tr>\n",
       "  </tbody>\n",
       "</table>\n",
       "<p>1044 rows × 5 columns</p>\n",
       "</div>"
      ],
      "text/plain": [
       "      freetime  studytime  health  Walc  goout\n",
       "0            2          1       2     0      3\n",
       "1            2          1       2     0      2\n",
       "2            2          1       2     2      1\n",
       "3            1          2       4     0      1\n",
       "4            2          1       4     1      1\n",
       "...        ...        ...     ...   ...    ...\n",
       "1039         3          2       4     1      1\n",
       "1040         2          1       0     0      3\n",
       "1041         0          1       4     0      0\n",
       "1042         3          0       1     3      4\n",
       "1043         3          0       4     3      0\n",
       "\n",
       "[1044 rows x 5 columns]"
      ]
     },
     "execution_count": 15,
     "metadata": {},
     "output_type": "execute_result"
    }
   ],
   "source": [
    "X2"
   ]
  },
  {
   "cell_type": "code",
   "execution_count": 16,
   "metadata": {},
   "outputs": [
    {
     "data": {
      "text/plain": [
       "0       2\n",
       "1       2\n",
       "2       3\n",
       "3       3\n",
       "4       3\n",
       "       ..\n",
       "1039    3\n",
       "1040    4\n",
       "1041    2\n",
       "1042    3\n",
       "1043    3\n",
       "Name: grade, Length: 1044, dtype: int64"
      ]
     },
     "execution_count": 16,
     "metadata": {},
     "output_type": "execute_result"
    }
   ],
   "source": [
    "y"
   ]
  },
  {
   "cell_type": "code",
   "execution_count": 17,
   "metadata": {},
   "outputs": [],
   "source": [
    "from sklearn.model_selection import train_test_split\n",
    "\n",
    "X_train, X_test, y_train, y_test = train_test_split(X, y, test_size=0.01,random_state=52)"
   ]
  },
  {
   "cell_type": "code",
   "execution_count": 18,
   "metadata": {},
   "outputs": [
    {
     "data": {
      "text/html": [
       "<div>\n",
       "<style scoped>\n",
       "    .dataframe tbody tr th:only-of-type {\n",
       "        vertical-align: middle;\n",
       "    }\n",
       "\n",
       "    .dataframe tbody tr th {\n",
       "        vertical-align: top;\n",
       "    }\n",
       "\n",
       "    .dataframe thead th {\n",
       "        text-align: right;\n",
       "    }\n",
       "</style>\n",
       "<table border=\"1\" class=\"dataframe\">\n",
       "  <thead>\n",
       "    <tr style=\"text-align: right;\">\n",
       "      <th></th>\n",
       "      <th>school</th>\n",
       "      <th>sex</th>\n",
       "      <th>age</th>\n",
       "      <th>address</th>\n",
       "      <th>famsize</th>\n",
       "      <th>Pstatus</th>\n",
       "      <th>Medu</th>\n",
       "      <th>Fedu</th>\n",
       "      <th>Mjob</th>\n",
       "      <th>Fjob</th>\n",
       "      <th>...</th>\n",
       "      <th>internet</th>\n",
       "      <th>romantic</th>\n",
       "      <th>famrel</th>\n",
       "      <th>freetime</th>\n",
       "      <th>goout</th>\n",
       "      <th>Dalc</th>\n",
       "      <th>Walc</th>\n",
       "      <th>health</th>\n",
       "      <th>absences</th>\n",
       "      <th>subject</th>\n",
       "    </tr>\n",
       "  </thead>\n",
       "  <tbody>\n",
       "    <tr>\n",
<<<<<<< HEAD
       "      <td>331</td>\n",
=======
       "      <th>331</th>\n",
>>>>>>> c8dd488261b3ad16245dca7212435eb93a0a91c5
       "      <td>0</td>\n",
       "      <td>0</td>\n",
       "      <td>17</td>\n",
       "      <td>0</td>\n",
       "      <td>0</td>\n",
       "      <td>1</td>\n",
       "      <td>2</td>\n",
       "      <td>4</td>\n",
       "      <td>0</td>\n",
       "      <td>2</td>\n",
       "      <td>...</td>\n",
       "      <td>1</td>\n",
       "      <td>1</td>\n",
       "      <td>4</td>\n",
       "      <td>4</td>\n",
       "      <td>3</td>\n",
       "      <td>1</td>\n",
       "      <td>1</td>\n",
       "      <td>5</td>\n",
       "      <td>7</td>\n",
       "      <td>0</td>\n",
       "    </tr>\n",
       "    <tr>\n",
<<<<<<< HEAD
       "      <td>369</td>\n",
=======
       "      <th>369</th>\n",
>>>>>>> c8dd488261b3ad16245dca7212435eb93a0a91c5
       "      <td>1</td>\n",
       "      <td>0</td>\n",
       "      <td>18</td>\n",
       "      <td>0</td>\n",
       "      <td>0</td>\n",
       "      <td>1</td>\n",
       "      <td>4</td>\n",
       "      <td>4</td>\n",
       "      <td>2</td>\n",
       "      <td>4</td>\n",
       "      <td>...</td>\n",
       "      <td>1</td>\n",
       "      <td>1</td>\n",
       "      <td>3</td>\n",
       "      <td>2</td>\n",
       "      <td>2</td>\n",
       "      <td>4</td>\n",
       "      <td>2</td>\n",
       "      <td>5</td>\n",
       "      <td>10</td>\n",
       "      <td>0</td>\n",
       "    </tr>\n",
       "    <tr>\n",
<<<<<<< HEAD
       "      <td>777</td>\n",
=======
       "      <th>777</th>\n",
>>>>>>> c8dd488261b3ad16245dca7212435eb93a0a91c5
       "      <td>0</td>\n",
       "      <td>0</td>\n",
       "      <td>17</td>\n",
       "      <td>1</td>\n",
       "      <td>0</td>\n",
       "      <td>1</td>\n",
       "      <td>3</td>\n",
       "      <td>3</td>\n",
       "      <td>0</td>\n",
       "      <td>2</td>\n",
       "      <td>...</td>\n",
       "      <td>1</td>\n",
       "      <td>0</td>\n",
       "      <td>4</td>\n",
       "      <td>2</td>\n",
       "      <td>5</td>\n",
       "      <td>2</td>\n",
       "      <td>5</td>\n",
       "      <td>5</td>\n",
       "      <td>2</td>\n",
       "      <td>1</td>\n",
       "    </tr>\n",
       "    <tr>\n",
<<<<<<< HEAD
       "      <td>691</td>\n",
=======
       "      <th>691</th>\n",
>>>>>>> c8dd488261b3ad16245dca7212435eb93a0a91c5
       "      <td>0</td>\n",
       "      <td>1</td>\n",
       "      <td>18</td>\n",
       "      <td>1</td>\n",
       "      <td>0</td>\n",
       "      <td>1</td>\n",
       "      <td>2</td>\n",
       "      <td>1</td>\n",
       "      <td>2</td>\n",
       "      <td>2</td>\n",
       "      <td>...</td>\n",
       "      <td>1</td>\n",
       "      <td>0</td>\n",
       "      <td>5</td>\n",
       "      <td>2</td>\n",
       "      <td>4</td>\n",
       "      <td>1</td>\n",
       "      <td>2</td>\n",
       "      <td>4</td>\n",
       "      <td>2</td>\n",
       "      <td>1</td>\n",
       "    </tr>\n",
       "    <tr>\n",
<<<<<<< HEAD
       "      <td>193</td>\n",
=======
       "      <th>193</th>\n",
>>>>>>> c8dd488261b3ad16245dca7212435eb93a0a91c5
       "      <td>0</td>\n",
       "      <td>1</td>\n",
       "      <td>16</td>\n",
       "      <td>0</td>\n",
       "      <td>0</td>\n",
       "      <td>1</td>\n",
       "      <td>3</td>\n",
       "      <td>3</td>\n",
       "      <td>3</td>\n",
       "      <td>3</td>\n",
       "      <td>...</td>\n",
       "      <td>1</td>\n",
       "      <td>0</td>\n",
       "      <td>4</td>\n",
<<<<<<< HEAD
       "      <td>3</td>\n",
       "      <td>2</td>\n",
       "      <td>3</td>\n",
=======
       "      <td>3</td>\n",
       "      <td>2</td>\n",
       "      <td>3</td>\n",
>>>>>>> c8dd488261b3ad16245dca7212435eb93a0a91c5
       "      <td>4</td>\n",
       "      <td>5</td>\n",
       "      <td>8</td>\n",
       "      <td>0</td>\n",
       "    </tr>\n",
       "    <tr>\n",
       "      <th>...</th>\n",
       "      <td>...</td>\n",
       "      <td>...</td>\n",
       "      <td>...</td>\n",
       "      <td>...</td>\n",
       "      <td>...</td>\n",
       "      <td>...</td>\n",
       "      <td>...</td>\n",
       "      <td>...</td>\n",
       "      <td>...</td>\n",
       "      <td>...</td>\n",
       "      <td>...</td>\n",
       "      <td>...</td>\n",
       "      <td>...</td>\n",
       "      <td>...</td>\n",
       "      <td>...</td>\n",
       "      <td>...</td>\n",
       "      <td>...</td>\n",
       "      <td>...</td>\n",
       "      <td>...</td>\n",
       "      <td>...</td>\n",
       "      <td>...</td>\n",
       "    </tr>\n",
       "    <tr>\n",
<<<<<<< HEAD
       "      <td>924</td>\n",
=======
       "      <th>924</th>\n",
>>>>>>> c8dd488261b3ad16245dca7212435eb93a0a91c5
       "      <td>1</td>\n",
       "      <td>0</td>\n",
       "      <td>16</td>\n",
       "      <td>1</td>\n",
       "      <td>1</td>\n",
       "      <td>1</td>\n",
       "      <td>4</td>\n",
       "      <td>4</td>\n",
       "      <td>3</td>\n",
       "      <td>3</td>\n",
       "      <td>...</td>\n",
       "      <td>0</td>\n",
       "      <td>0</td>\n",
       "      <td>5</td>\n",
       "      <td>1</td>\n",
       "      <td>3</td>\n",
       "      <td>1</td>\n",
       "      <td>2</td>\n",
       "      <td>5</td>\n",
       "      <td>1</td>\n",
       "      <td>1</td>\n",
       "    </tr>\n",
       "    <tr>\n",
<<<<<<< HEAD
       "      <td>86</td>\n",
=======
       "      <th>86</th>\n",
>>>>>>> c8dd488261b3ad16245dca7212435eb93a0a91c5
       "      <td>0</td>\n",
       "      <td>0</td>\n",
       "      <td>16</td>\n",
       "      <td>1</td>\n",
       "      <td>1</td>\n",
       "      <td>1</td>\n",
       "      <td>2</td>\n",
       "      <td>2</td>\n",
       "      <td>0</td>\n",
       "      <td>2</td>\n",
       "      <td>...</td>\n",
       "      <td>0</td>\n",
       "      <td>0</td>\n",
       "      <td>4</td>\n",
       "      <td>3</td>\n",
       "      <td>4</td>\n",
       "      <td>1</td>\n",
       "      <td>2</td>\n",
       "      <td>2</td>\n",
       "      <td>4</td>\n",
       "      <td>0</td>\n",
       "    </tr>\n",
       "    <tr>\n",
<<<<<<< HEAD
       "      <td>151</td>\n",
=======
       "      <th>151</th>\n",
>>>>>>> c8dd488261b3ad16245dca7212435eb93a0a91c5
       "      <td>0</td>\n",
       "      <td>1</td>\n",
       "      <td>16</td>\n",
       "      <td>1</td>\n",
       "      <td>1</td>\n",
       "      <td>1</td>\n",
       "      <td>2</td>\n",
       "      <td>1</td>\n",
       "      <td>0</td>\n",
       "      <td>2</td>\n",
       "      <td>...</td>\n",
       "      <td>0</td>\n",
       "      <td>1</td>\n",
       "      <td>4</td>\n",
       "      <td>4</td>\n",
       "      <td>4</td>\n",
       "      <td>3</td>\n",
       "      <td>5</td>\n",
       "      <td>5</td>\n",
       "      <td>6</td>\n",
       "      <td>0</td>\n",
       "    </tr>\n",
       "    <tr>\n",
<<<<<<< HEAD
       "      <td>779</td>\n",
=======
       "      <th>779</th>\n",
>>>>>>> c8dd488261b3ad16245dca7212435eb93a0a91c5
       "      <td>0</td>\n",
       "      <td>1</td>\n",
       "      <td>19</td>\n",
       "      <td>0</td>\n",
       "      <td>0</td>\n",
       "      <td>1</td>\n",
       "      <td>3</td>\n",
       "      <td>2</td>\n",
       "      <td>0</td>\n",
       "      <td>3</td>\n",
       "      <td>...</td>\n",
       "      <td>0</td>\n",
       "      <td>1</td>\n",
       "      <td>5</td>\n",
       "      <td>3</td>\n",
       "      <td>4</td>\n",
       "      <td>2</td>\n",
       "      <td>2</td>\n",
       "      <td>5</td>\n",
       "      <td>0</td>\n",
       "      <td>1</td>\n",
       "    </tr>\n",
       "    <tr>\n",
<<<<<<< HEAD
       "      <td>1013</td>\n",
=======
       "      <th>1013</th>\n",
>>>>>>> c8dd488261b3ad16245dca7212435eb93a0a91c5
       "      <td>1</td>\n",
       "      <td>0</td>\n",
       "      <td>18</td>\n",
       "      <td>0</td>\n",
       "      <td>1</td>\n",
       "      <td>0</td>\n",
       "      <td>1</td>\n",
       "      <td>2</td>\n",
       "      <td>0</td>\n",
       "      <td>2</td>\n",
       "      <td>...</td>\n",
       "      <td>0</td>\n",
       "      <td>1</td>\n",
       "      <td>4</td>\n",
       "      <td>3</td>\n",
       "      <td>4</td>\n",
       "      <td>1</td>\n",
       "      <td>4</td>\n",
       "      <td>5</td>\n",
       "      <td>0</td>\n",
       "      <td>1</td>\n",
       "    </tr>\n",
       "  </tbody>\n",
       "</table>\n",
       "<p>1033 rows × 31 columns</p>\n",
       "</div>"
      ],
      "text/plain": [
       "      school  sex  age  address  famsize  Pstatus  Medu  Fedu  Mjob  Fjob  \\\n",
       "331        0    0   17        0        0        1     2     4     0     2   \n",
       "369        1    0   18        0        0        1     4     4     2     4   \n",
       "777        0    0   17        1        0        1     3     3     0     2   \n",
       "691        0    1   18        1        0        1     2     1     2     2   \n",
       "193        0    1   16        0        0        1     3     3     3     3   \n",
       "...      ...  ...  ...      ...      ...      ...   ...   ...   ...   ...   \n",
       "924        1    0   16        1        1        1     4     4     3     3   \n",
       "86         0    0   16        1        1        1     2     2     0     2   \n",
       "151        0    1   16        1        1        1     2     1     0     2   \n",
       "779        0    1   19        0        0        1     3     2     0     3   \n",
       "1013       1    0   18        0        1        0     1     2     0     2   \n",
       "\n",
       "      ...  internet  romantic  famrel  freetime  goout  Dalc  Walc  health  \\\n",
       "331   ...         1         1       4         4      3     1     1       5   \n",
       "369   ...         1         1       3         2      2     4     2       5   \n",
       "777   ...         1         0       4         2      5     2     5       5   \n",
       "691   ...         1         0       5         2      4     1     2       4   \n",
       "193   ...         1         0       4         3      2     3     4       5   \n",
       "...   ...       ...       ...     ...       ...    ...   ...   ...     ...   \n",
       "924   ...         0         0       5         1      3     1     2       5   \n",
       "86    ...         0         0       4         3      4     1     2       2   \n",
       "151   ...         0         1       4         4      4     3     5       5   \n",
       "779   ...         0         1       5         3      4     2     2       5   \n",
       "1013  ...         0         1       4         3      4     1     4       5   \n",
       "\n",
       "      absences  subject  \n",
       "331          7        0  \n",
       "369         10        0  \n",
       "777          2        1  \n",
       "691          2        1  \n",
       "193          8        0  \n",
       "...        ...      ...  \n",
       "924          1        1  \n",
       "86           4        0  \n",
       "151          6        0  \n",
       "779          0        1  \n",
       "1013         0        1  \n",
       "\n",
       "[1033 rows x 31 columns]"
      ]
     },
     "execution_count": 18,
     "metadata": {},
     "output_type": "execute_result"
    }
   ],
   "source": [
    "X_train"
   ]
  },
  {
   "cell_type": "code",
   "execution_count": 19,
   "metadata": {},
   "outputs": [
    {
     "data": {
      "text/plain": [
       "799     4\n",
       "632     3\n",
       "639     3\n",
       "344     3\n",
       "27      3\n",
       "933     3\n",
       "704     3\n",
       "356     3\n",
       "320     3\n",
       "1038    3\n",
       "698     3\n",
       "Name: grade, dtype: int64"
      ]
     },
     "execution_count": 19,
     "metadata": {},
     "output_type": "execute_result"
    }
   ],
   "source": [
    "y_test"
   ]
  },
  {
   "cell_type": "code",
   "execution_count": 20,
   "metadata": {},
   "outputs": [
    {
     "data": {
      "text/plain": [
       "LogisticRegression()"
      ]
     },
     "execution_count": 20,
     "metadata": {},
     "output_type": "execute_result"
    }
   ],
   "source": [
    "from sklearn.linear_model import LogisticRegression \n",
    "# import statsmodels.api as sm\n",
    "classifier = LogisticRegression()\n",
    "classifier"
   ]
  },
  {
   "cell_type": "code",
   "execution_count": 21,
   "metadata": {},
   "outputs": [
    {
     "name": "stderr",
     "output_type": "stream",
     "text": [
      "/opt/anaconda3/envs/PythonData/lib/python3.8/site-packages/sklearn/linear_model/_logistic.py:762: ConvergenceWarning: lbfgs failed to converge (status=1):\n",
      "STOP: TOTAL NO. of ITERATIONS REACHED LIMIT.\n",
      "\n",
      "Increase the number of iterations (max_iter) or scale the data as shown in:\n",
      "    https://scikit-learn.org/stable/modules/preprocessing.html\n",
      "Please also refer to the documentation for alternative solver options:\n",
      "    https://scikit-learn.org/stable/modules/linear_model.html#logistic-regression\n",
      "  n_iter_i = _check_optimize_result(\n"
     ]
    },
    {
     "data": {
      "text/plain": [
<<<<<<< HEAD
       "LogisticRegression(C=1.0, class_weight=None, dual=False, fit_intercept=True,\n",
       "                   intercept_scaling=1, l1_ratio=None, max_iter=100,\n",
       "                   multi_class='warn', n_jobs=None, penalty='l2',\n",
       "                   random_state=None, solver='warn', tol=0.0001, verbose=0,\n",
       "                   warm_start=False)"
=======
       "LogisticRegression()"
>>>>>>> c8dd488261b3ad16245dca7212435eb93a0a91c5
      ]
     },
     "execution_count": 21,
     "metadata": {},
     "output_type": "execute_result"
    }
   ],
   "source": [
    " classifier.fit(X_train, y_train)"
   ]
  },
  {
   "cell_type": "code",
   "execution_count": 22,
<<<<<<< HEAD
   "metadata": {},
   "outputs": [
    {
     "data": {
      "text/plain": [
       "LogisticRegression(C=1.0, class_weight=None, dual=False, fit_intercept=True,\n",
       "                   intercept_scaling=1, l1_ratio=None, max_iter=100,\n",
       "                   multi_class='warn', n_jobs=None, penalty='l2',\n",
       "                   random_state=None, solver='warn', tol=0.0001, verbose=0,\n",
       "                   warm_start=False)"
      ]
     },
     "execution_count": 22,
     "metadata": {},
     "output_type": "execute_result"
    }
   ],
   "source": [
    "LogisticRegression()"
   ]
  },
  {
   "cell_type": "code",
   "execution_count": 23,
=======
>>>>>>> c8dd488261b3ad16245dca7212435eb93a0a91c5
   "metadata": {},
   "outputs": [],
   "source": [
    "# classifier.classes_\n"
   ]
  },
  {
   "cell_type": "code",
<<<<<<< HEAD
   "execution_count": 24,
=======
   "execution_count": 23,
>>>>>>> c8dd488261b3ad16245dca7212435eb93a0a91c5
   "metadata": {},
   "outputs": [
    {
     "name": "stdout",
     "output_type": "stream",
     "text": [
<<<<<<< HEAD
      "Training Data Score: 0.6999031945788964\n",
=======
      "Training Data Score: 0.7018393030009681\n",
>>>>>>> c8dd488261b3ad16245dca7212435eb93a0a91c5
      "Testing Data Score: 0.9090909090909091\n"
     ]
    }
   ],
   "source": [
    "print(f\"Training Data Score: {classifier.score(X_train, y_train)}\")\n",
    "print(f\"Testing Data Score: {classifier.score(X_test, y_test)}\")"
   ]
  },
  {
   "cell_type": "code",
<<<<<<< HEAD
   "execution_count": 25,
=======
   "execution_count": 24,
>>>>>>> c8dd488261b3ad16245dca7212435eb93a0a91c5
   "metadata": {},
   "outputs": [],
   "source": [
    "predictions = classifier.predict(X_test)\n",
    "predictions_table=pd.DataFrame({\"Predictions\": predictions, \"Actual\": y_test})"
   ]
  },
  {
   "cell_type": "code",
<<<<<<< HEAD
   "execution_count": 26,
=======
   "execution_count": 25,
>>>>>>> c8dd488261b3ad16245dca7212435eb93a0a91c5
   "metadata": {},
   "outputs": [
    {
     "data": {
      "text/html": [
       "<div>\n",
       "<style scoped>\n",
       "    .dataframe tbody tr th:only-of-type {\n",
       "        vertical-align: middle;\n",
       "    }\n",
       "\n",
       "    .dataframe tbody tr th {\n",
       "        vertical-align: top;\n",
       "    }\n",
       "\n",
       "    .dataframe thead th {\n",
       "        text-align: right;\n",
       "    }\n",
       "</style>\n",
       "<table border=\"1\" class=\"dataframe\">\n",
       "  <thead>\n",
       "    <tr style=\"text-align: right;\">\n",
       "      <th></th>\n",
       "      <th>Predictions</th>\n",
       "      <th>Actual</th>\n",
       "    </tr>\n",
       "  </thead>\n",
       "  <tbody>\n",
       "    <tr>\n",
<<<<<<< HEAD
       "      <td>799</td>\n",
=======
       "      <th>799</th>\n",
>>>>>>> c8dd488261b3ad16245dca7212435eb93a0a91c5
       "      <td>3</td>\n",
       "      <td>4</td>\n",
       "    </tr>\n",
       "    <tr>\n",
<<<<<<< HEAD
       "      <td>632</td>\n",
=======
       "      <th>632</th>\n",
>>>>>>> c8dd488261b3ad16245dca7212435eb93a0a91c5
       "      <td>3</td>\n",
       "      <td>3</td>\n",
       "    </tr>\n",
       "    <tr>\n",
<<<<<<< HEAD
       "      <td>639</td>\n",
=======
       "      <th>639</th>\n",
>>>>>>> c8dd488261b3ad16245dca7212435eb93a0a91c5
       "      <td>3</td>\n",
       "      <td>3</td>\n",
       "    </tr>\n",
       "    <tr>\n",
<<<<<<< HEAD
       "      <td>344</td>\n",
=======
       "      <th>344</th>\n",
>>>>>>> c8dd488261b3ad16245dca7212435eb93a0a91c5
       "      <td>3</td>\n",
       "      <td>3</td>\n",
       "    </tr>\n",
       "    <tr>\n",
<<<<<<< HEAD
       "      <td>27</td>\n",
=======
       "      <th>27</th>\n",
>>>>>>> c8dd488261b3ad16245dca7212435eb93a0a91c5
       "      <td>3</td>\n",
       "      <td>3</td>\n",
       "    </tr>\n",
       "    <tr>\n",
<<<<<<< HEAD
       "      <td>933</td>\n",
=======
       "      <th>933</th>\n",
>>>>>>> c8dd488261b3ad16245dca7212435eb93a0a91c5
       "      <td>3</td>\n",
       "      <td>3</td>\n",
       "    </tr>\n",
       "    <tr>\n",
<<<<<<< HEAD
       "      <td>704</td>\n",
=======
       "      <th>704</th>\n",
>>>>>>> c8dd488261b3ad16245dca7212435eb93a0a91c5
       "      <td>3</td>\n",
       "      <td>3</td>\n",
       "    </tr>\n",
       "    <tr>\n",
<<<<<<< HEAD
       "      <td>356</td>\n",
=======
       "      <th>356</th>\n",
>>>>>>> c8dd488261b3ad16245dca7212435eb93a0a91c5
       "      <td>3</td>\n",
       "      <td>3</td>\n",
       "    </tr>\n",
       "    <tr>\n",
<<<<<<< HEAD
       "      <td>320</td>\n",
=======
       "      <th>320</th>\n",
>>>>>>> c8dd488261b3ad16245dca7212435eb93a0a91c5
       "      <td>3</td>\n",
       "      <td>3</td>\n",
       "    </tr>\n",
       "    <tr>\n",
<<<<<<< HEAD
       "      <td>1038</td>\n",
=======
       "      <th>1038</th>\n",
>>>>>>> c8dd488261b3ad16245dca7212435eb93a0a91c5
       "      <td>3</td>\n",
       "      <td>3</td>\n",
       "    </tr>\n",
       "    <tr>\n",
<<<<<<< HEAD
       "      <td>698</td>\n",
=======
       "      <th>698</th>\n",
>>>>>>> c8dd488261b3ad16245dca7212435eb93a0a91c5
       "      <td>3</td>\n",
       "      <td>3</td>\n",
       "    </tr>\n",
       "  </tbody>\n",
       "</table>\n",
       "</div>"
      ],
      "text/plain": [
       "      Predictions  Actual\n",
       "799             3       4\n",
       "632             3       3\n",
       "639             3       3\n",
       "344             3       3\n",
       "27              3       3\n",
       "933             3       3\n",
       "704             3       3\n",
       "356             3       3\n",
       "320             3       3\n",
       "1038            3       3\n",
       "698             3       3"
      ]
     },
<<<<<<< HEAD
     "execution_count": 26,
=======
     "execution_count": 25,
>>>>>>> c8dd488261b3ad16245dca7212435eb93a0a91c5
     "metadata": {},
     "output_type": "execute_result"
    }
   ],
   "source": [
    "predictions_table"
   ]
  },
  {
   "cell_type": "code",
<<<<<<< HEAD
   "execution_count": 27,
=======
   "execution_count": 26,
>>>>>>> c8dd488261b3ad16245dca7212435eb93a0a91c5
   "metadata": {},
   "outputs": [
    {
     "data": {
      "text/plain": [
<<<<<<< HEAD
       "0.6363636363636364"
      ]
     },
     "execution_count": 27,
=======
       "0.36363636363636365"
      ]
     },
     "execution_count": 26,
>>>>>>> c8dd488261b3ad16245dca7212435eb93a0a91c5
     "metadata": {},
     "output_type": "execute_result"
    }
   ],
   "source": [
    "clf = tree.DecisionTreeClassifier()\n",
    "clf = clf.fit(X_train, y_train)\n",
    "clf.score(X_test, y_test)"
   ]
  },
  {
   "cell_type": "code",
<<<<<<< HEAD
   "execution_count": 28,
=======
   "execution_count": 27,
>>>>>>> c8dd488261b3ad16245dca7212435eb93a0a91c5
   "metadata": {},
   "outputs": [
    {
     "data": {
      "text/plain": [
       "0.8181818181818182"
      ]
     },
<<<<<<< HEAD
     "execution_count": 28,
=======
     "execution_count": 27,
>>>>>>> c8dd488261b3ad16245dca7212435eb93a0a91c5
     "metadata": {},
     "output_type": "execute_result"
    }
   ],
   "source": [
    "from sklearn.ensemble import RandomForestClassifier\n",
    "rf = RandomForestClassifier(n_estimators=200)\n",
    "rf = rf.fit(X_train, y_train)\n",
    "rf.score(X_test, y_test)"
   ]
  },
  {
   "cell_type": "code",
<<<<<<< HEAD
   "execution_count": 29,
=======
   "execution_count": 28,
>>>>>>> c8dd488261b3ad16245dca7212435eb93a0a91c5
   "metadata": {},
   "outputs": [],
   "source": [
    "feature_names= X.columns"
   ]
  },
  {
   "cell_type": "code",
<<<<<<< HEAD
   "execution_count": 30,
   "metadata": {},
=======
   "execution_count": 29,
   "metadata": {
    "scrolled": true
   },
>>>>>>> c8dd488261b3ad16245dca7212435eb93a0a91c5
   "outputs": [
    {
     "data": {
      "text/plain": [
<<<<<<< HEAD
       "[(0.09166283559642596, 'absences'),\n",
       " (0.05200201019473332, 'failures'),\n",
       " (0.04813341230805425, 'goout'),\n",
       " (0.04728106629021669, 'subject'),\n",
       " (0.046955850369660525, 'freetime'),\n",
       " (0.04528091335647201, 'age'),\n",
       " (0.04407496671874277, 'health'),\n",
       " (0.04183487948665414, 'Mjob'),\n",
       " (0.04182655804773156, 'Walc'),\n",
       " (0.040775105389367954, 'Fedu'),\n",
       " (0.04001618013693569, 'famrel'),\n",
       " (0.03994886356984057, 'Medu'),\n",
       " (0.038536836706264226, 'Fjob'),\n",
       " (0.03820052957869942, 'reason'),\n",
       " (0.03651268477008214, 'studytime'),\n",
       " (0.027210773163879636, 'traveltime'),\n",
       " (0.025120247031548335, 'Dalc'),\n",
       " (0.023200353846471188, 'guardian'),\n",
       " (0.02227337157426966, 'paid'),\n",
       " (0.020993397079575166, 'activities'),\n",
       " (0.0208363128378014, 'famsup'),\n",
       " (0.02020976001701076, 'sex'),\n",
       " (0.02007397163860605, 'romantic'),\n",
       " (0.019390010918667204, 'school'),\n",
       " (0.019159027904636756, 'famsize'),\n",
       " (0.01630090048109433, 'higher'),\n",
       " (0.016182762349241372, 'address'),\n",
       " (0.015816082066719528, 'nursery'),\n",
       " (0.015382984547725024, 'internet'),\n",
       " (0.013902372491780545, 'schoolsup'),\n",
       " (0.010904979531091898, 'Pstatus')]"
      ]
     },
     "execution_count": 30,
=======
       "[(0.09414290798366065, 'absences'),\n",
       " (0.05275320591292747, 'failures'),\n",
       " (0.04763891015589821, 'goout'),\n",
       " (0.04705574827306421, 'age'),\n",
       " (0.04630885127430743, 'subject'),\n",
       " (0.046167061769181075, 'freetime'),\n",
       " (0.04520180272627478, 'health'),\n",
       " (0.041362166516957906, 'Walc'),\n",
       " (0.0410499983500413, 'Mjob'),\n",
       " (0.0406813619255114, 'famrel'),\n",
       " (0.0402275865166551, 'Medu'),\n",
       " (0.04012942888975749, 'Fedu'),\n",
       " (0.03923202800780928, 'Fjob'),\n",
       " (0.03718642821576769, 'reason'),\n",
       " (0.03602950949275678, 'studytime'),\n",
       " (0.02741346677498795, 'traveltime'),\n",
       " (0.024610956792875376, 'Dalc'),\n",
       " (0.02234901996727715, 'activities'),\n",
       " (0.022272203695168056, 'guardian'),\n",
       " (0.020749735155247, 'romantic'),\n",
       " (0.020745606961311232, 'paid'),\n",
       " (0.01991711016989142, 'sex'),\n",
       " (0.01964233885911127, 'famsize'),\n",
       " (0.019499412745476948, 'famsup'),\n",
       " (0.01850961798887136, 'school'),\n",
       " (0.01643371149344661, 'address'),\n",
       " (0.016261518457604693, 'nursery'),\n",
       " (0.015405374497400735, 'internet'),\n",
       " (0.015124795799754712, 'higher'),\n",
       " (0.01439414222867572, 'schoolsup'),\n",
       " (0.011503992402329062, 'Pstatus')]"
      ]
     },
     "execution_count": 29,
>>>>>>> c8dd488261b3ad16245dca7212435eb93a0a91c5
     "metadata": {},
     "output_type": "execute_result"
    }
   ],
   "source": [
    "sorted(zip(rf.feature_importances_, feature_names), reverse=True)"
   ]
  },
  {
   "cell_type": "code",
<<<<<<< HEAD
   "execution_count": 31,
=======
   "execution_count": 30,
>>>>>>> c8dd488261b3ad16245dca7212435eb93a0a91c5
   "metadata": {},
   "outputs": [
    {
     "data": {
<<<<<<< HEAD
      "image/png": "iVBORw0KGgoAAAANSUhEUgAAAnYAAAJcCAYAAAB0Y+mpAAAABHNCSVQICAgIfAhkiAAAAAlwSFlzAAALEgAACxIB0t1+/AAAADh0RVh0U29mdHdhcmUAbWF0cGxvdGxpYiB2ZXJzaW9uMy4xLjEsIGh0dHA6Ly9tYXRwbG90bGliLm9yZy8QZhcZAAAgAElEQVR4nOzde5heVX33//eHgyQQnkRAU9Fg1KIIiGAGFVQEi1ZBBRSLFg8R2xStEmvxUK2K+HgqYz2Ux+LozyOIKCqCKKACHlAkMxwSDiLV0IeKHaAIEogo5Pv74955vBlmmBxm5j7k/bqu+5q91157re++c13yda2175WqQpIkSb1vs04HIEmSpKlhYidJktQnTOwkSZL6hImdJElSnzCxkyRJ6hMmdpIkSX3CxE6SJKlPmNhJmhFJrk+yOsmqts+OG9nm/kn+a6piXMc+P5fkf89knxNJclySkzsdh6TuYWInaSa9oKrmtH1u7GQwSbboZP8bo5djlzR9TOwkdVySpyb5SZLbklyRZP+2a69Ock2SO5L8KsnfNeXbAN8BdmwfARw7ojZ2VK8ZOXxrkuXAnUm2aO77WpKbk6xMcsw6xr0wSTUx3pDkt0mOTrJ3kuXN85zYVn9xkouS/FuS25P8PMlftF3fMcmZSW5N8h9J/rbt2nFJTk9ycpLfAUcDbweOaJ79igf6vtq/iyT/mOSmJL9J8uq267OTfDjJfzbx/TjJ7HX4N1rc9HVH8/0duS7fn6Sp5//jk9RRSR4OnA28AjgH+Avga0l2qaqbgZuA5wO/AvYDvpNkWVVdmuR5wMlV9Yi29tal25cBBwO3AGuAs4BvNuWPAL6X5NqqOncdH+MpwM5NfGc2z3EgsCVwWZKvVtUP2uqeDuwAvAj4epJHVdWtwKnAVcCOwC7Ad5P8qqq+39x7CPAS4JXAVk0bf15VL2+LZcLvq7n+Z8Bc4OHAs4HTk5xRVb8FBoHdgH2B/25iXfNA/0bAXcDHgb2r6tokDwO2W8fvTdIUc8RO0kw6oxnxuS3JGU3Zy4FvV9W3q2pNVX0XGAYOAqiqs6vql9XyA+A84BkbGcfHq+qGqloN7A08pKqOr6o/VNWvgE8BL12P9t5bVb+vqvOAO4FTq+qmqvo18CNgr7a6NwEfrao/VtVpwLXAwUkWAE8H3tq0dTnwaVrJ1Fo/raozmu9p9XiBrMP39Ufg+Kb/bwOrgMcl2Qw4ClhaVb+uqnur6idVdTeT/BvRSo53TzK7qn5TVVetx3cnaQqZ2EmaSYdW1bzmc2hT9kjgJW0J3220EpyHASR5XpKLm+nJ22glEztsZBw3tB0/ktZ0bnv/bwfmr0d7o23Hq8c5n9N2/uuqqrbz/6Q1QrcjcGtV3THm2sMniHtc6/B9/U9V3dN2flcT3w7ALOCX4zQ74b9RVd0JHEFravg3Sc5uRvIkdYCJnaROuwH4YlvCN6+qtqmqDybZCvgarSnC+VU1D/g2sHa+tcZp705g67bzPxunTvt9NwArx/S/bVUdNM59U+Hhue988U7Ajc1nuyTbjrn26wnivt/5OnxfD+QW4PfAY8a5NuG/EUBVnVtVz6aVjP+c1oinpA4wsZPUaScDL0jyl0k2TzKrWeT/COBBtNaS3Qzc06ype07bvaPA9knmtpVdDhyUZLskfwa8cZL+LwF+17xQMbuJYfcke0/ZE97XQ4FjkmyZ5CXA42lNc94A/AT4QPMd7AG8BjjlAdoaBRY206gw+fc1oapaA3wG+NfmJY7Nk+zTJIsT/hslmZ/khWm9zHI3rande9fzO5E0RUzsJHVUk9AcQmv682Zao0NvBjZrpiWPAb4C/Bb4a1ovJ6y99+e0Xjj4VTNFuCPwReAK4Hpa68tOm6T/e4EXAHsCK2mNXH2a1gsG0+FntF60uAV4H3B4Vf1Pc+1lwEJao3ffAN7drGebyFebv/+T5NLJvq91cCywAlgG3Ap8iNa/w4T/Rs3nH5uYbwWeCbxuPfqUNIVy36UekqTpkmQx8DdV9fROxyKpPzliJ0mS1CdM7CRJkvqEU7GSJEl9whE7SZKkPuGWYo0ddtihFi5c2OkwJEmSJjUyMnJLVT1kbLmJXWPhwoUMDw93OgxJkqRJJfnP8cqdipUkSeoTJnaSJEl9wsROkiSpT5jYSZIk9QkTO0mSpD5hYidJktQnTOwkSZL6hImdJElSnzCxkyRJ6hMmdpIkSX3CxE6SJKlPmNhJkiT1CRM7SZKkPmFiJ0mS1CdM7CRJkvqEiZ0kSVKfMLGTJEnqEyZ2kiRJfcLETpIkqU+Y2EmSJPUJEztJkqQ+YWInSZLUJ0zsJEmS+sQWnQ6gW4yMjpLBwU6HIUmSelQde2ynQ3DETpIkqV+Y2EmSJPWJKUvskqyaqrYkSZK0/hyxkyRJ6hMblNglOSPJSJKrkixpK/9wkkuTfD/JQ5qyY5JcnWR5ki83Zdsk+UySZUkuS3JIU744ydeTnJPkuiT/0tb2c5u2r0jy/Una2S3JJUkub/rdecO/IkmSpN6woW/FHlVVtyaZDSxL8jVgG+DSqvrHJO8C3g28Hngb8KiqujvJvOb+dwDnV9VRTdklSb7XXNsT2Au4G7g2yb8Bvwc+BexXVSuTbDdJO0cDH6uqU5I8CNh8vIdoktJWYjpv3nhVJEmSesaGJnbHJDmsOV4A7AysAU5ryk4Gvt4cLwdOSXIGcEZT9hzghUnWvhc8C9ipOf5+Vd0OkORq4JHAg4EfVtVKgKq6dZJ2fgq8I8kjgK9X1XXjPURVDQFDAFmwoNb7W5AkSeoi653YJdkfOBDYp6ruSnIhrYRqrLWJ0sHAfsALgXcm2Q0I8OKqunZM20+hNVK31r1NjGlr7z63jNcOcE2SnzV9n5vkb6rq/HV/SkmSpN6zIWvs5gK/bZK6XYCntrV1eHP818CPk2wGLKiqC4C3APOAOcC5wBuSBCDJXpP0+VPgmUke1dRfOxU7bjtJHg38qqo+DpwJ7LEBzylJktRTNmQq9hzg6CTLgWuBi5vyO4HdkowAtwNH0FrbdnKSubRG1z5SVbcleS/wUWB5k5RdDzx/og6r6uZmPdzXm2TxJuDZwETtHAG8PMkfgf8Gjt+A55QkSeopqXJpGTRr7JYu7XQYkiSpR83klmJJRqpqYGy5v2MnSZLUJzb0rdi+s2j+fIa7YPNeSZKkDeWInSRJUp8wsZMkSeoTTsU2RkZHyeBgp8OQpHUyk4u0JfUOR+wkSZL6hImdJElSn5jWxC7JMUmuSXLKBNcHkny8OV6c5MTpjEeSJKmfTfcau9cBz6uqleNdrKphYHhDGk6yeVXduzHBSZIk9ZNpG7FLchLwaODMJG9N8pMklzV/H9fU2T/Jt8a593NJDm87X9VW/4IkXwJWNGUvT3JJksuTfDLJ5s3nc0muTLIiyT9M13NKkiR1i2kbsauqo5M8FzgA+APw4aq6J8mBwPuBF29g008Gdq+qlUkeT2tf2KdV1R+TfAI4ErgKeHhV7Q6QZN54DTX7zy4BYN64VSRJknrGTP3cyVzg80l2BgrYciPauqRtavcvgEXAsiQAs4GbgLOARyf5N+Bs4LzxGqqqIWAImr1iJUmSethMJXbvBS6oqsOSLAQunKT+PTTTxGllbA9qu3Zn23GAz1fVP41tIMkTgb8E/h74K+CoDYxdkiSpJ8zUz53MBX7dHC9eh/rX0xqJAziEiUf4vg8cnuShAEm2S/LIJDsAm1XV14B3Ak/awLglSZJ6xkyN2P0LranYNwHnr0P9TwHfTHIJreTtzvEqVdXVSf4ZOC/JZsAfaY3QrQY+25QB3G9ET5Ikqd+kyqVl0KyxW7q002FI0jpxSzFp05ZkpKoGxpa784QkSVKfmKmp2K63aP58hv1/wJIkqYc5YidJktQnTOwkSZL6hFOxjZHRUTI42OkwJPUZX3KQNJMcsZMkSeoTJnaSJEl9oq8TuyR7Jjmo03FIkiTNhL5O7IA9ARM7SZK0Seh4YpfknUl+nuS7SU5Ncmwz0nZxkuVJvpHkwU3dicovTDLQHO+Q5PokDwKOB45IcnmSIzr3lJIkSdOvo4ldk4y9GNgLeBGwdmuMLwBvrao9gBXAuycpv5+q+gPwLuC0qtqzqk4bp/8lSYaTDLNq1VQ9liRJUkd0esTu6cA3q2p1Vd0BnAVsA8yrqh80dT4P7Jdk7njlG9N5VQ1V1UBVDTBnzsY0JUmS1HGdTuwyRe3cw5+eZdYUtSlJktRTOp3Y/Rh4QZJZSeYABwN3Ar9N8oymziuAH1TV7eOVN8fXA4ua48Pb2r8D2HYa45ckSeoaHU3sqmoZcCZwBfB1YBi4HXgVcEKS5bTebD2+uWWi8kHgtUl+AuzQ1sUFwK6+PCFJkjYFqarOBpDMqapVSbYGfggsqapLZzyOBQuKpUtnultJfc4txSRNhyQjVTUwtrwb9oodSrIrrbVxn+9EUidJktQPOj5i1y0GBgZqeHi402FIkiRNaqIRu06/PCFJkqQpYmInSZLUJ7phjV1XGBkdJYODnQ5DUg/zRQlJneaInSRJUp8wsZMkSeoTXZPYJTkuyf3mMZLsmOT0DWxzcZIdNz46SZKk7tc1id1EqurGqjp88prjWgyY2EmSpE3CtCZ2SbZJcnaSK5JcmeSIJNcn2aG5PpDkwrZbnpjk/CTXJfnbps7CJFc2x5snOSHJsiTLk/xdW19vSbKi6euDSQ4HBoBTmi3FZk/ns0qSJHXadL8V+1zgxqo6GCDJXOBDD1B/D+CpwDbAZUnOHnP9NcDtVbV3kq2Ai5KcB+wCHAo8paruSrJdVd2a5PXAsVU17i8PJ1kCLAFg3rwNfkhJkqRuMN1TsSuAA5N8KMkzqur2Sep/s6pWV9UtwAXAk8dcfw7wyiSXAz8Dtgd2Bg4EPltVdwFU1a3rElxVDVXVQFUNMGfOejyWJElS95nWEbuq+kWSRcBBwAea0bV7+FNCOWvsLZOcB3hDVZ17n8LkuePUlSRJ2qRM9xq7HYG7qupkYBB4EnA9sKip8uIxtxySZFaS7YH9gWVjrp8LvDbJlk37j02yDXAecFSSrZvy7Zr6dwDbTulDSZIkdanpXmP3BOCEJGuAPwKvBWYD/1+St9OaTm13CXA2sBPw3qq6MclC/jQa92lgIXBpkgA3A4dW1TlJ9gSGk/wB+DbwduBzwElJVgP7VNXq6XpQSZKkTktVd89gNlO5/1pVz5zWfhYsKJYunc4uJPU5txSTNFOSjFTVwNjyrv4duyQDwKnAxzodiyRJUrfr+hG7mTIwMFDDw+P+KookSVJX6ckRO0mSJK07EztJkqQ+Md1vxfaMkdFRMjjY6TAk9SBfmpDULRyxkyRJ6hMmdpIkSX3CxE6SJKlPTElil+SYJNckOWUj25mX5HVt5zsmOX3jI5QkSep/UzVi9zrgoKo6cm1Bkg15MWNe0xYAVXVjVR0+BfFJkiT1vY1O7JKcBDwaODPJ7UmGkpwHfCHJ5klOSLIsyfIkf9d235vbyt/TFH8QeEySy5v7Fia5sqm/OMkZSc5KsjLJ65O8KcllSS5Osl1T7zFJzkkykuRHSXbZ2GeUJEnqBRv9cydVdXSS5wIHAK8HXgA8vapWJ1kC3F5VeyfZCrioSfp2bj5PBkIrKdwPeBuwe1XtCZBk4Zjudgf2AmYB/wG8tar2SvIR4JXAR4Eh4Oiqui7JU4BPAM8aL/YmviUAzJu3sV+FJElSR03H79idWVWrm+PnAHskWTudOpdWQvec5nNZUz6nKf+/k7R9QVXdAdyR5HbgrKZ8RdPPHGBf4KtJ1t6z1USNVdUQrUSQLFjg3mqSJKmnTUdid2fbcYA3VNW57RWS/CXwgar65JjyhZO0fXfb8Zq28zW0nmUz4La1I36SJEmbkun+uZNzgdcm2RIgyWOTbNOUH9WMsJHk4UkeCtwBbLuhnVXV74CVSV7StJskT9zYh5AkSeoF053YfRq4Gri0eQnik8AWVXUe8CXgp0lWAKcD21bV/9Bah3dlkhM2sM8jgdckuQK4Cjhko59CkiSpB6TKpWXQrLFburTTYUjqQe4VK2mmJRmpqoGx5dOxxq4nLZo/n2H/x1mSJPUwtxSTJEnqEyZ2kiRJfcKp2MbI6CgZHOx0GJK6iGvnJPUaR+wkSZL6hImdJElSnzCxkyRJ6hMmdpIkSX3CxE6SJKlP9Exil+SMJCNJrkqypCl7TZJfJLkwyaeSnNiUPyTJ15Isaz5P62z0kiRJ06+Xfu7kqKq6NclsYFmSs4F3Ak8C7gDOB65o6n4M+EhV/TjJTsC5wOPHNtgkiEsAmDdv+p9AkiRpGvVSYndMksOa4wXAK4AfVNWtAEm+Cjy2uX4gsGuStff+ryTbVtUd7Q1W1RAwBM1esZIkST2sJxK7JPvTStb2qaq7klwIXMs4o3CNzZq6q2cmQkmSpM7rlTV2c4HfNkndLsBTga2BZyZ5cJItgBe31T8PeP3akyR7zmi0kiRJHdArid05wBZJlgPvBS4Gfg28H/gZ8D3gauD2pv4xwECS5UmuBo6e+ZAlSZJmVk9MxVbV3cDzxpYnGa6qoWbE7hu0RuqoqluAI2Y2SkmSpM7qicTuARyX5EBgFq2k7owNbWjR/PkMu+G3JEnqYT2d2FWVmZgkSVKjV9bYSZIkaRI9PWI3lUZGR8ngYKfDkDTDyiUYkvqII3aSJEl9wsROkiSpT5jYSZIk9YkZT+ySLExy5RS0szjJic3xoUl2bbt2YZKBje1DkiSpl/TLiN2hwK6T1pIkSepjnUrsNk/yqSRXJTkvyewkj0lyTpKRJD9q9oQlyQuS/CzJZUm+l2R+e0NJ9gVeCJyQ5PIkj2kuvSTJJUl+keQZM/x8kiRJM65Tid3OwP+pqt2A24AXA0PAG6pqEXAs8Imm7o+Bp1bVXsCXgbe0N1RVPwHOBN5cVXtW1S+bS1tU1ZOBNwLvHi+IJEuSDCcZZtWqqX1CSZKkGdap37FbWVWXN8cjwEJgX+CrSdbW2ar5+wjgtCQPAx4ErFzHPr4+pv37qaohWgklWbCg1j18SZKk7tOpxO7utuN7gfnAbVW15zh1/w3416o6M8n+wHHr2ce9+EPMkiRpE9AtL0/8DliZ5CUAaXlic20u8Ovm+FUT3H8HsO30hihJktTduiWxAzgSeE2SK4CrgEOa8uNoTdH+CLhlgnu/DLy5ecHiMRPUkSRJ6mupcmkZNGvsli7tdBiSZph7xUrqRUlGqup+v9nr2rPGovnzGfZ/4CVJUg/rpqlYSZIkbQQTO0mSpD7hVGxjZHSUDA52OgxJG8H1cpI2dY7YSZIk9QkTO0mSpD5hYidJktQnui6xS1JJvth2vkWSm5N8qzl/YZK3TdLG55IcPt2xSpIkdZNufHniTmD3JLOrajXwbP60pRhVdSZwZqeCkyRJ6lZdN2LX+A5wcHP8MuDUtReSLE5yYnP8yCTfT7K8+btTWxsHJvlRkl8kef7MhS5JktQZ3ZrYfRl4aZJZwB7AzyaodyLwharaAzgF+HjbtYXAM2kliCc1bd1HkiVJhpMMs2rVVMYvSZI047oysauq5bQSs5cB336AqvsAX2qOvwg8ve3aV6pqTVVdB/wK2GWcfoaqaqCqBpgzZ0pilyRJ6pRuXGO31pnAILA/sP063lMTHI93LkmS1Fe6csSu8Rng+Kpa8QB1fgK8tDk+Evhx27WXJNksyWOARwPXTk+YkiRJ3aFrR+yq6r+Aj010ufl7DPCZJG8GbgZe3VbnWuAHwHzg6Kr6/XTFKkmS1A26LrGrqvstdquqC4ELm9PtgVub8uuBZ41Tf/F0xSdJktStui6xeyBJjgYWAy+a6rYXzZ/PsBuIS5KkHtbNa+zup6pOqqonNG+6SpIkqU1PJXaSJEmaWE9NxU6nkdFRMjjY6TAkbYRyOYWkTZwjdpIkSX3CxE6SJKlPmNhJkiT1ia5K7JJ8JMkb287PTfLptvMPJ3nTA9y/arpjlCRJ6lZdldjR2iJsX4AkmwE7ALu1Xd8XuKgDcUmSJHW9bkvsLqJJ7GgldFcCdyR5cJKtgMcD1yT5fpJLk6xIcsh4DSV5S3P9iiQfnJnwJUmSOqerfu6kqm5Mck+SnWgleD8FHg7sA9wOLAfuAg6rqt8l2QG4OMmZVbV2/1iSPA84FHhKVd2VZLvx+kuyBFgCwLx50/hkkiRJ06+rErvG2lG7fYF/pZXY7UsrsfsJEOD9SfYD1jTX5wP/3dbGgcBnq+ougKq6dbyOqmoIGALIggU1Xh1JkqRe0Y2J3dp1dk+gNRV7A/CPwO+AzwBHAg8BFlXVH5NcD8wa00YAEzVJkrRJ6bY1dtAasXs+cGtV3duMts2jNR37U2AucFOT1B0APHKcNs4DjkqyNcBEU7GSJEn9pBsTuxW03oa9eEzZ7VV1C3AKMJBkmNbo3c/HNlBV5wBnAsNJLgfcZ0iSJPW9rpuKrap7gf81pmxx2/EttEbvxrt3TtvxBwHfhpUkSZuMrkvsOmXR/PkMu4G4JEnqYd04FStJkqQNYGInSZLUJ5yKbYyMjpLBwU6HIWkdlMsmJGlcjthJkiT1CRM7SZKkPmFiJ0mS1Ce6KrFLcm+Sy9s+C9fj3s8lOXz6opMkSepu3fbyxOqq2rPTQUiSJPWirhqxG0+SzZOckGRZkuVJ/q4pT5ITk1yd5GzgoW33XJ9kh+Z4IMmFnYlekiRp5nTbiN3sZm9XgJVVdRjwGlr7xO6dZCvgoiTnAXsBjwOeAMwHrgY+sz6dJVkCLAFg3rypeQJJkqQO6bbEbryp2OcAe7Stn5sL7AzsB5za7C17Y5Lz17ezqhoChgCyYEFteNiSJEmd122J3XgCvKGqzr1PYXIQMFEydg9/mmaeNY2xSZIkdY2uX2MHnAu8NsmWAEkem2Qb4IfAS5s1eA8DDmi753pgUXP84pkMVpIkqVN6IbH7NK31c5cmuRL4JK2Rxm8A1wErgH8HftB2z3uAjyX5EXDvzIYrSZLUGV01FVtVc8YpWwO8vfmM9foJ2vkR8NipjU6SJKm7dVVi10mL5s9n2I3FJUlSD+uFqVhJkiStAxM7SZKkPuFUbGNkdJQMDnY6DEnjKJdJSNI6ccROkiSpT5jYSZIk9QkTO0mSpD4xo4ldkmOSXJPklBnqb3GSE2eiL0mSpE6b6ZcnXgc8r6pWTlWDSbaoqnumqj1JkqReNWOJXZKTgEcDZyY5GTgEmA2sBl5dVdcmWQwcCmwO7A58GHgQ8ArgbuCgqro1yYXAT4CnNe19ATgJ2Knp7o1VddFMPZskSVI3mLHErqqOTvJc4ADgD8CHq+qeJAcC7wde3FTdHdgLmAX8B/DWqtoryUeAVwIfberNq6pnAiT5EvCRqvpxkp2Ac4HHTxZTkiXAklZr86bmQSVJkjqkU79jNxf4fJKdgQK2bLt2QVXdAdyR5HbgrKZ8BbBHW73T2o4PBHZNsvb8fyXZdrIgqmoIGALIggW1IQ8iSZLULTqV2L2XVgJ3WJKFwIVt1+5uO17Tdr6G+8Z7Z9vxZsA+VbW6vZO2RE+SJKnvdernTuYCv26OF09Be+cBr197kmTPKWhTkiSpp3QqsfsX4ANJLqL1osTGOgYYSLI8ydXA0VPQpiRJUk9JlUvLoFljt3Rpp8OQNA73ipWk+0oyUlUDY8s7tcau6yyaP59h/+MhSZJ6mFuKSZIk9QkTO0mSpD7hVGxjZHSUDA52OgxJY7i+TpLWnSN2kiRJfcLETpIkqU+Y2EmSJPWJjid2SSrJF9vOt0hyc5JvrWc7Fya53++5SJIkbSo6ntjR2vN19ySzm/Nn86ftxiRJkrSOuiGxA/gOcHBz/DLg1LUXkmyT5DNJliW5LMkhTfnsJF9uthE7DZjdds+qtuPDk3xuRp5CkiSpg7olsfsy8NIks4A9gJ+1XXsHcH5V7Q0cAJyQZBvgtcBdVbUH8D5g0fp2mmRJkuEkw6xaNfkNkiRJXawrEruqWg4spDVa9+0xl58DvC3J5cCFwCxgJ2A/4OS2+5dvQL9DVTVQVQPMmbPB8UuSJHWDbvqB4jOBQWB/YPu28gAvrqpr2ysnAagJ2movnzV1IUqSJHWvrhixa3wGOL6qVowpPxd4Q5pMLsleTfkPgSObst1pTeGuNZrk8Uk2Aw6b3rAlSZK6Q9ckdlX1X1X1sXEuvRfYElie5MrmHODfgTlJlgNvAS5pu+dtwLeA84HfTF/UkiRJ3aPjU7FVdb/FbVV1Ia31dFTVauDvxqmzGnjpBG2eDpw+lXFKkiR1u44ndt1i0fz5DLvZuCRJ6mFdMxUrSZKkjWNiJ0mS1Cecim2MjI6SwcFOhyFtcsolEJI0ZRyxkyRJ6hMmdpIkSX3CxE6SJKlPdHVil+TeJJe3fRYmGUjy8UnuOy6JC3ckSdImpdtfnlhdVXuOKbseGO5ALJIkSV2tq0fsxpNk/yTfao63S3JGkuVJLk7Svl/sE5Ocn+S6JH/boXAlSZJmTLeP2M1OcnlzvLKqDhtz/T3AZVV1aJJnAV8A1o7w7QE8FdgGuCzJ2VV1Y/vNSZYASwCYN2+aHkGSJGlmdHtiN95UbLunAy8GqKrzk2yfZG5z7ZvNfrKrk1wAPBk4o/3mqhoChgCyYEFNefSSJEkzqOemYsfIOGU15u/YckmSpL7U64ndD4EjobX2Drilqn7XXDskyawk2wP7A8s6EqEkSdIM6fap2ImsHX07DvhskuXAXcCr2upcApwN7AS8d+z6OkmSpH7T1YldVc0Zp3h74Nbm+q3AIePcd9z0RiZJktR9ujqxGyvJC4H3AUdNdduL5s9n2M3IJUlSD+upxK6qzgTO7HQckiRJ3ajXX56QJElSo6dG7KbTyOgoGRzsdBjSJqNc+iBJU84RO0mSpD5hYidJktQnTOwkSZL6hImdJElSn+hIYpcWk0pJkqQpNGPJVZKFSa5J8gngUuAVSX6a5NIkX00yp6n3riTLklyZZChJmvJjklydZHmSLzdl2yU5oym7OMkeTflxST6T5MIkv0pyzEw9pyRJUqfM9KjZ44AvAM8GXgMcWFVPAoaBNzV1Tqyqvatqd2A28Pym/G3AXlW1B3B0U/Ye4LKm7O1N28SnPOUAACAASURBVGvtAvwl8GTg3Um2HBtMkiVJhpMMs2rVVD6nJEnSjJvpxO4/q+pi4KnArsBFSS4HXgU8sqlzQJKfJVkBPAvYrSlfDpyS5OXAPU3Z04EvAlTV+cD2SeY2186uqrur6hbgJmD+2GCqaqiqBqpqgDnjbUsrSZLUO2b6B4rvbP4G+G5Vvaz9YpJZwCeAgaq6IclxwKzm8sHAfsALgXcm2a1pZ6xq/t7dVnYv/hizJEnqc516geFi4GlJ/hwgydZJHsufkrhbmjV3hzfXNwMWVNUFwFuAecAc4IfAkU2d/YFbqup3M/kgkiRJ3aIjo1hVdXOSxcCpSbZqiv+5qn6R5FPACuB6YFlzbXPg5GaaNcBHquq2ZkTvs0mWA3fRmtKVJEnaJKWqJq+1CciCBcXSpZ0OQ9pkuFesJG24JCNVNTC23HVnjUXz5zPsf2gkSVIP80eCJUmS+oSJnSRJUp8wsZMkSeoTrrFrjIyOksHBToch9TxfipCkznHETpIkqU+Y2EmSJPWJDU7skrwxydYbcN+qSa7vmeSgtvMXJnnbhsQoSZK0KdmYEbs3Auud2K2DPYH/l9hV1ZlV9cFp6EeSJKmvrNPLE0m2Ab4CPILW9l5fBXYELkhyS1UdkGRVVc1p6h8OPL+qFid5FPClpq9z2tr8InB6VX2zOT8FOA04Hpid5OnAB4DZwEBVvT7J54DVwC7AI4FX09pGbB/gZ1W1uGnrOcB7gK2AXwKvrqoHHCmUJEnqdes6Yvdc4MaqemJV7Q58FLgROKCqDpjk3o8B/15VewP/3Vb+aVqJGc0esPsC3wbeBZxWVXtW1WnjtPdg4FnAPwBnAR8BdgOe0Ezj7gD8M3BgVT0JGAbeNF5gSZYkGU4yzCrzPkmS1NvWNbFbARyY5ENJnlFVt69HH08DTm2Ov7i2sKp+APx5kocCLwO+VlX3rEN7Z1Vrg9sVwGhVraiqNcBVwELgqcCuwEVJLqc1ovfI8RqqqqGqGqiqAebMWY9HkiRJ6j7rNBVbVb9IsojW2rcPJDlvvGptx7Me4Fq7LwJHAi8FjlqXWIC7m79r2o7Xnm8B3At8t6peto7tSZIk9YV1GrFLsiNwV1WdDAwCTwLuALZtqzaa5PFJNgMOayu/iFbiBq0krt3naL2EQVVd1ZSNbXd9XQw8LcmfN7FvneSxG9GeJElST1jXqdgnAJc0U5vvAP43MAR8J8kFTZ23Ad8Czgd+03bvUuDvkywD5rY3WlWjwDXAZ9uKLwB2TXJ5kiPW83moqpuBxcCpSZbTSvR2Wd92JEmSek1ay9U61Hnrd/BWAE9az3V7Ux/LggXF0qWdDEHqC24pJknTL8lIVQ2MLe/YXrFJDgQ+A/xrp5M6gEXz5zPsf5AkSVIP61hiV1XfA3bqVP+SJEn9xr1iJUmS+oSJnSRJUp/o2FRstxkZHSWDg50OQ5sQXzKQJE01R+wkSZL6hImdJElSn3jAxC7JvCSvm+4gklyfZIex/SXZMcnp092/JElSP5hsxG4ecL/ELsnm0xPOffurqhur6vBp6kuSJKmvTJbYfRB4TLO917IkFyT5Eq3dIkhyRpKRJFclWdKUvTbJv6xtIMniJP/WHL88ySVNe58cJ0Fs7++EJAuTXNnWzhlJzkqyMsnrk7wpyWVJLk6yXVPvMUnOaeL6URK3E5MkSZuEyRK7twG/rKo9gTcDTwbeUVW7NtePqqpFwABwTJLtgdOBF7W1cQRwWpLHN8dPa9q7Fzhyov6q6s3jxLM78NdNHO8D7qqqvYCfAq9s6gwBb2jiOhb4xEQPl2RJkuEkw6xaNclXIUmS1N3W9+dOLqmqlW3nxyQ5rDleAOxcVRcn+VWSpwLXAY8DLgL+HlgELEsCMBu4aT37v6Cq7gDuSHI7cFZTvgLYI8kcYF/gq00fAFtN1FhVDdFKBFt7xUqSJPWw9U3s7lx7kGR/4EBgn6q6K8mFwKzm8mnAXwE/B75RVZVWpvX5qvqnjYj37rbjNW3na2g9y2bAbc2IoCRJ0iZlsqnYO4BtJ7g2F/htk9TtAjy17drXgUOBl9FK8gC+Dxye5KEASbZL8sj16G9SVfU7YGWSlzR9JMkTN7Q9SZKkXvKAiV1V/Q9wUfMCwwljLp8DbJFkOfBe4OK2+34LXA08sqouacquBv4ZOK+557vAwybqL8nY/tbVkcBrklwBXAUcsoHtSJIk9ZRUubQMmjV2S5d2OgxtQtxSTJK0oZKMVNXA2HL3im0smj+fYf9DK0mSephbikmSJPUJEztJkqQ+YWInSZLUJ1xj1xgZHSWDg50OQz3MlyEkSZ3miJ0kSVKfMLGTJEnqE12Z2CW5N8nlSa5KckWSNyV5wFiTLGx+SFmSJGmT1K1r7Fav3e+12YLsS7S2MHt3R6OSJEnqYl05Yteuqm4ClgCvb/Z+XZjkR0kubT77jr0nyeZJBpOsSLI8yRtmPnJJkqSZ1a0jdvdRVb9qpmIfCtwEPLuqfp9kZ+BUYOyWGkuARwF7VdU9SbYbr90kS5q6MG/edIUvSZI0I3oisWuk+bslcGKSPYF7gceOU/dA4KSqugegqm4dr8GqGgKGoNkrVpIkqYf1RGKX5NG0kribaK2zGwWeSGsq+ffj3QKYqEmSpE1K16+xS/IQ4CTgxKoqWi9R/Kaq1gCvADYf57bzgKOTbNG0Me5UrCRJUj/p1sRu9tqfOwG+RytRe09z7RPAq5JcTGsa9s5x7v808H+B5UmuAP56BmKWJEnqqK6ciq2q8Ubh1l67DtijreifmvLrgd2b43uANzUfSZKkTUJXJnadsGj+fIbd61OSJPWwbp2KlSRJ0noysZMkSeoTJnaSJEl9wjV2jZHRUTI42Okw1GXKdZeSpB7iiJ0kSVKfMLGTJEnqE12f2CU5LsmxzfHxSQ7sdEySJEndqKvW2CXZvKruneh6Vb1rJuORJEnqJRs1YpfknUl+nuS7SU5NcmySC5MMNNd3SHJ9c7wwyY+SXNp89m3K909yQZIvASuasnckuTbJ94DHtfX3uSSHN8fvSrIsyZVJhpKkKb8wyYeSXJLkF0mesTHPKEmS1Cs2OLFrkrcXA3sBLwIGJrnlJuDZVfUk4Ajg423Xngy8o6p2TbIIeGlbu3tP0N6JVbV3Ve0OzAae33Zti6p6MvBG4N0P8AxLkgwnGWbVqknClyRJ6m4bMxX7dOCbVbUaIMlZk9TfEjgxyZ7AvcBj265dUlUrm+NnAN+oqruads+coL0DkrwF2BrYDrgKWBvD15u/I8DCiQKqqiFgCCALFtQk8UuSJHW1jUnsMkH5PfxpJHBWW/k/AKPAE5vrv2+7dueYNh4wyUoyC/gEMFBVNyQ5bkxfdzd/76XL1hFKkiRNl41ZY/dj4AVJZiWZAxzclF8PLGqOD2+rPxf4TVWtAV4BbD5Buz8EDksyO8m2wAvGqbM2ibul6fvwcepIkiRtUjZ4NKuqljXTpFcA/wkMA7cDg8BXkrwCOL/tlk8AX0vyEuAC7j9Kt7bdS5OcBlzetPujcercluRTtF62uB5YtqHPIUmS1C9SteFLy5LMqapVSbamNdK2pKounbLoZlAWLCiWLu10GOoybikmSepGSUaq6n4vrm7s+rOhJLvSmhr9fK8mdZIkSf1go0bs+snAwEANDw93OgxJkqRJTTRi1/VbikmSJGndmNhJkiT1CX/jrTEyOkoGBzsdhjrIFyUkSb3OETtJkqQ+YWInSZLUJ/omsUtyfJIDxynfP8m3OhGTJEnSTOqbNXZV9a5OxyBJktRJXTtil2Rhkp8n+XyS5UlOT7J1knclWZbkyiRDSdLU/1ySw5vj5zb3/hh4UUcfRJIkaYZ0bWLXeBwwVFV7AL8DXgecWFV7V9XuwGzg+e03JJkFfAp4AfAM4M8majzJkiTDSYZZtWq6nkGSJGlGdHtid0NVXdQcnww8HTggyc+SrACeBew25p5dgJVVdV21ttU4eaLGq2qoqgaqaoA5c6YjfkmSpBnT7Wvsxu53VsAngIGquiHJcbT2qZ3sPkmSpL7X7SN2OyXZpzl+GfDj5viWJHOAw8e55+fAo5I8pu0+SZKkvtftI3bXAK9K8kngOuDfgQcDK4DrgWVjb6iq3ydZApyd5BZayeDuMxaxJElSh3R7Yremqo4eU/bPzec+qmpx2/E5tNbaSZIkbTK6fSpWkiRJ6yitF0c1MDBQw8PDnQ5DkiRpUklGqmpgbLkjdpIkSX3CxE6SJKlPdPvLEzNmZHSUDA52OgxNozr22E6HIEnStHLETpIkqU+Y2EmSJPWJGUnskuyfZN+286OTvHKSez6dZNfm+O1jrv1keiKVJEnqXTO1xm5/YBXwE4CqOmmyG6rqb9pO3w68v+3avve/Q5IkadO2USN2Sc5IMpLkqmYbL5I8N8mlSa5I8v0kC4GjgX9IcnmSZyQ5LsmxSR6f5JK29hYmWd4cX5hkIMkHgdnNvac011a13fPmJMuSLE/ynqZsmyRnNzFcmeSIjXlOSZKkXrCxI3ZHVdWtSWYDy5J8E/gUsF9VrUyyXXP9JGBVVQ0CJPkLgKq6JsmDkjy6qn4FHAF8pb2DqnpbktdX1Z5jO0/yHGBn4MlAgDOT7Ac8BLixqg5u6s0dL/gmGV0CwLx5G/lVSJIkddbGrrE7JskVwMXAAlpJ0g+raiVAVd26Dm18Bfir5vgI4LT16P85zecy4FJa+8PuDKwADkzyoSTPqKrbx7u5qoaqaqCqBpgzZz26lSRJ6j4bPGKXZH/gQGCfqroryYXAFcDj1rOp04CvJvk6UFV13fqEAXygqj45TnyLgIOADyQ5r6qOX8+4JEmSesrGjNjNBX7bJHW7AE8FtgKemeRRAEm2a+reAWw7XiNV9UvgXuCdTDxa98ckW45Tfi5wVJI5TX8PT/LQJDsCd1XVycAg8KQNekJJkqQesjFr7M4Bjm5edriW1nTszbSmY7+eZDPgJuDZwFnA6UkOAd4wTlunAScAj5qgryFgeZJLq+rItYVVdV6SxwM/TQKtN29fDvw5cEKSNcAfgdduxHNKkiT1hFRVp2PoClmwoFi6tNNhaBq5pZgkqV8kGamqgbHl7jwhSZLUJ2bqB4q73qL58xl2REeSJPUwR+wkSZL6hImdJElSn3AqtjEyOkoGBzsdhqaRL09IkvqdI3aSJEl9wsROkiSpT0xrYpfkmCTXJDllOvuRJEnS9K+xex3wvKpaOc39SJIkbfKmLbFLchLwaODMJCcDhwCzgdXAq6vq2iSLgUOBzYHdgQ8DDwJeAdwNHFRVtyY5BjgauAe4uqpemuQ4YFVVDTb9XQk8v+n+HOBnwF7AL4BXVtVd0/WskiRJ3WDapmKr6mjgRuAA4N+B/apqL+BdwPvbqu4O/DXwZOB9wF1NvZ8Cr2zqvA3Yq6r2oJXgTeZxwFBT/3e0Rg7vJ8mSJMNJhlm1an0fUZIkqavM1MsTc4GvNqNqHwF2a7t2QVXdUVU3A7cDZzXlK4CFzfFy4JQkL6c1ajeZG6rqoub4ZODp41WqqqGqGqiqAebMWa8HkiRJ6jYzldi9l1YCtzvwAmBW27W7247XtJ2v4U9TxQcD/wdYBIwk2YJWgtcef3ubNab/seeSJEl9ZyZH7H7dHC9enxuTbAYsqKoLgLcA84A5wPXAk5o6TwIe1XbbTkn2aY5fBvx4QwOXJEnqFTOV2P0L8IEkF9F6UWJ9bA6cnGQFcBnwkaq6DfgasF2Sy4HX0npJYq1rgFclWQ5sR2uNnyRJUl9LVX/NUiZZCHyrmfZd9/sWLCiWLp2WmNQd3FJMktQvkoxU1cDYcneekCRJ6hN9N2K3oQYGBmp4eLjTYUiSJE3KETtJkqQ+Z2InSZLUJ6Z7r9ieMTI6SgYHOx2GppAvS0iSNjWO2EmSJPUJEztJkqQ+YWInSZLUJ0zsJEmS+kTPJHZJtklydpIrklyZ5Igki5L8IMlIknOTPCzJFkmWJdm/ue8DSd7X4fAlSZKmXS+9Fftc4MaqOhggyVzgO8AhVXVzkiOA91XVUUkWA6cnOaa57ynjNZhkCbAEgHnzpv8JJEmSplEvJXYrgMEkHwK+BfwW2B34bhKAzYHfAFTVVUm+CJwF7FNVfxivwaoaAoag2StWkiSph/VMYldVv0iyCDgI+ADwXeCqqtpnglueANwGzJ+hECVJkjqql9bY7QjcVVUnA4O0plcfkmSf5vqWSXZrjl8EbA/sB3w8ifOskiSp7/XMiB2tEbgTkqwB/gi8FriHVuI2l9azfDTJKPBB4C+q6oYkJwIfA17VobglSZJmRM8kdlV1LnDuOJf2G6fssW33fXzagpIkSeoiPTMVK0mSpAfWMyN2023R/PkMu2m8JEnqYY7YSZIk9QkTO0mSpD7hVGxjZHSUDA52OgxNkXJaXZK0CXLETpIkqU+Y2EmSJPWJnk7skrwxydZt5992lwlJkrSpmrLELi0znSi+Efh/iV1VHVRVt81wDJIkSV1hoxKxJAuTXPP/t3f3UX5V9b3H3x8DLjDBpJo2S2zkwaIWqQYyUBRFUGqp3PqwoI3Uh6K9plqVKIur2FrFeqtFcqv12fhcRbSiRRQFWkxEeUoy5BEE6wXaKtwIipEgBAjf+8fvRH4OM5NJZn7zmzl5v9b6rTm/ffbe53ty1ky+a+9zzk7yYeAa4GVJNiTZmOSsrnpbkpyVZDDJvyc5IsmKJDcmeX5XX99Nck3zeXpTfkxT97wk1yc5p0kiTwX2BZYnWd7UvTnJ3Gb75UnWJ1mX5HPjOU9JkqTpYCKein0i8ArgfwNXAQuBO4BLkrywqs4HZgIrqurNSf61qfsHwMHAZ4ELgJ8Af1BV9yQ5CDgXGGiOcSjwZOAW4HLgqKp6f5LTgGOr6vbugJI8Gfibpt7tSR41XOBJFgOLAZjjDK4kSZreJmLq9D+r6irgcDrJ221VdT9wDg+u43ovcFGzvQH4TlXd12zv35TvCXw8yQbgy3SSvu1WVtWPquoBYG1Xm5E8Gzhve8JXVT8brlJVLauqgaoaYNasMZ+wJEnSVDQRI3Z3NT8zSp37qqqa7QeArQBV9UCS7TG8EdgEPJVOwnlPV/utXdvb2HHcAWoHdSRJklplIh92uBp4VpK5SWYAJwPf2Yn2s4Fbm1G5lwEzxtDmTmCfYcovBf40yaMBRpqKlSRJapMJS+yq6lbgLcByYB1wTVV9bSe6+DDw50muAp7AgyOBo1kGfGv7wxNdsVwL/D3wnSTrgH/ciTgkSZKmpTw4Q7p7y/z5xZIl/Q5DE8QlxSRJbZZksKoGhpZP6xcUS5Ik6UET8fBEKyycN4/VjvJIkqRpzBE7SZKkljCxkyRJagmnYhuDmzaRpUv7HYZ2kQ9LSJLkiJ0kSVJrmNhJkiS1xJRM7JKckuSDE9TXzUnmTkRfkiRJU9mUTOwkSZK08yY1sUsyM8mFSdYl2ZhkUZLDk1zRlK1Msn3t132TXJTkP5K8p6uPk5NsaNqftaNySZKk3cVkPxV7PHBLVZ0AkGQ2sAZYVFWrkjwSuLupuwA4FNgK3JDkA8A24CxgIXAHcEmSFwIrhyuvqvNHCybJYmAxAHPmTOR5SpIkTbrJnordAByX5KwkzwQeB9xaVasAquoXVXV/U/fSqtpcVfcA1wH7AYcDK6rqtqbeOcDRo5SPqqqWVdVAVQ0wa9ZEn6skSdKkmtTErqp+QGdUbQPwbuBFQI1QfWvX9jY6o4sZoe5I5ZIkSbuNyb7Hbl/gl1X1eWApcCSde+kOb/bvk2S06eGrgWclmZtkBnAy8J1RyiVJknYbk32P3e8BZyd5ALgPeA2d0bYPJNmbzv11x43UuKpuTfIWYHnT7ptV9TWAkcolSZJ2F6kaaSZ095L584slS/odhnaRS4pJknYnSQaramBoue+xkyRJaonJnoqdshbOm8dqR30kSdI05oidJElSS5jYSZIktYRTsY3BTZvI0qX9DkO7wAcnJEnqcMROkiSpJUzsJEmSWqIniV2SU5N8P8k5Pej7+UnOmOh+JUmSprte3WP3V8AfVdVNE91xVV0AXDDR/UqSJE13Ez5il+SjwIHABUnenOSKJGuan09s6pyS5PwkX09yU5LXJTmtqXdVkkc19U5Ncl2S9Um+2NX2g8322q7P3UmelWRmkk8lWdX094KJPkdJkqSpaMJH7Krq1UmOB44F7gX+T1Xdn+Q44F3AiU3VQ4BDgb2AHwJvrqpDk7wXeDnwPuAM4ICq2ppkzjDHWgCQ5I+BNwFXAO8Avl1Vr2zarEzy71V119D2SRYDiwGY85DuJUmSppVev+5kNvDZJAcBBezZtW95Vd0J3JlkM/D1pnwD8JRmez1wTpLzgfOHO0DT99nAs6vqviTPBZ6fZPs7MPYCHgd8f2jbqloGLINmrVhJkqRprNdPxb6TTgJ3CPDHdJKs7bZ2bT/Q9f0BHkw4TwA+BCwEBpP8WiKaZCbwL8CrquqW7cXAiVW1oPk8rqoektRJkiS1Ta8Tu9nAj5vtU3amYZKHAfOrajmdadY5wKwh1T4NfLqqvttVdjHw+iRp+jl0F+KWJEmadnqd2L0HeHeSy4EZO9l2BvD5JBuANcB7q+rn23cm2Q84CXhl1wMUA3RGCfcE1ifZ2HyXJElqvVR5axk099gtWdLvMLQLXFJMkrS7STJYVQNDy115QpIkqSV6/VTstLFw3jxWO/IjSZKmMUfsJEmSWsLETpIkqSWcim0MbtpEli7tdxi7HR98kCRp4jhiJ0mS1BImdpIkSS0xqYldkv2blwYPLf+7JMftoO2ZXeu/SpIkaYgpcY9dVb2t18dIMqOqtvX6OJIkSf3Sj6nYGUk+nuTaJJck2TvJZ5KcBJDkeUmuT/K9JO9P8o2utgcnWZHkxiSnbi9M8tIkK5tlxT6WZEZTvqUZDbwaeNrknqYkSdLk6kdidxDwoap6MvBz4MTtO5LsBXwM+KOqegbwm0PaPgn4Q+AI4O1J9kzyu8Ai4KiqWgBsA17S1J8JbKyq36+q7w0NJMniJKuTrGbLlok9S0mSpEnWj6nYm6pqbbM9COzfte9JwI1VdVPz/Vxgcdf+C6tqK7A1yU+AecBzgIXAqiQAewM/aepvA74yUiBVtQxYBs1asZIkSdNYPxK7rV3b2+gkYttlJ9vu0bT5bFW9ZZj693hfnSRJ2l1MtdedXA8cmGT/5vuiMbS5FDgpyW8BJHlUkv16E54kSdLUNSWeit2uqu5O8lfARUluB1aOoc11Sd4KXJLkYcB9wGuB/+xttJIkSVPLpCZ2VXUzcEjX9+HW8FpeVU9K54a5DwGrm7pnDumru58vAV8a5nizJiRwSZKkaWCqTcUCvCrJWuBaYDadp2QlSZK0A6nyYVCAgYGBWr16db/DkCRJ2qEkg1U1MLR8Ko7YSZIkaReY2EmSJLXElHoqtp8GN20iS4d7lkO9VKef3u8QJElqDUfsJEmSWsLETpIkqSX6ktglOSXJB0fYt2Wy45EkSWqDaTFil2RGv2OQJEma6nqS2CU5P8lgkmuTLG7KXpHkB0m+AxzVVfeAJFcmWZXknV3lxyRZnuQLwIam7KVJViZZm+RjSWY0n88k2ZhkQ5I3NnVPTXJdkvVJvtiL85QkSZpKevVU7Cur6mdJ9gZWJbkQeAewENgMLAfWNHX/CfhIVf1zktcO6ecI4JCquinJ7wKLgKOq6r4kHwZeQmeFisduX2IsyZym7RnAAVW1tavs1zRJ52IA5gxbRZIkadro1VTsqUnWAVcB84GXASuq6raqupdfX9f1KODcZvtzQ/pZWVU3NdvPoZMYrmqWHHsOcCBwI3Bgkg8kOR74RVN/PXBOkpcC9w8XZFUtq6qBqhpglsvKSpKk6W3CE7skxwDHAU+rqqfSGZm7Hhht7bKR9t3V3TXw2apa0HyeWFVnVtUdwFOBFcBrgU809U8APkQnGRxM4jv7JElSq/VixG42cEdV/TLJk4Ajgb2BY5I8OsmewJ901b8ceHGz/ZJR+r0UOCnJbwEkeVSS/ZLMBR5WVV8B/hY4LMnDgPlVtRx4EzAHcEhOkiS1Wi9GsS4CXp1kPXADnenYW4EzgSub7WuA7U+6LgG+kGQJ8JWROq2q65K8FbikSdzuozNCdzfw6aYM4C1N359PMpvOSN97q+rnE3qWkiRJU0yqRpsh3X1k/vxiyZJ+h7HbcUkxSZJ2XpLBqhoYWj4t3mMnSZKkHfOBgsbCefNY7eiRJEmaxhyxkyRJagkTO0mSpJZwKrYxuGkTWbq032HsFnxgQpKk3nDETpIkqSVM7CRJklrCxE6SJKklTOwkSZJaYsoldknG9UBHkhk7riVJktQ+PUnskuyf5PtJPp7k2iSXJNk7yYokA02duUlubrZPSfLlJF+nsxbsY5JclmRtko1JntnUe26SK5Nc09Sf1ZTfnORtSb4HnJHkmq5YDkoy2IvzlCRJmkp6OWJ3EPChqnoy8HPgxB3Ufxrw51X1bODPgIuragHwVGBtkrnAW4HjquowYDVwWlf7e6rqGVX198DmJAua8lcAnxnugEkWJ1mdZDVbtuzaWUqSJE0RvXyP3U1VtbbZHgT230H9f6uqnzXbq4BPJdkTOL+q1iZ5FnAwcHkSgIcDV3a1/1LX9ieAVyQ5DVgEHDHcAatqGbAMIPPn11hPTJIkaSrqZWK3tWt7G7A3cD8PjhLuNaT+Xds3quqyJEcDJwCfS3I2cAed5O/kEY53V9f2V4C3A98GBqvqp7t8FpIkSdPEZD88cTOwsNk+aaRKSfYDflJVHwc+CRwGXAUcleR3mjqPSPKE4dpX1T3AxcBHgE9PWPSSJElT2GQndkuB1yS5Apg7Sr1j6NxXt4bOvXn/VFW3AacA5yZZTyfRe9IofZwDFHDJBMQtSZI05aWqnbeWJTkdmF1Vfzum+vPnF0uW9DgqgWvFSpI0XkkGq2pgsZDiaAAADy1JREFUaHkv77HrmyT/CjweePZY2yycN4/VJhySJGkaa2ViV1Uv6ncMkiRJk23KrTwhSZKkXdPKEbtdMbhpE1m6tN9htJr31kmS1FuO2EmSJLWEiZ0kSVJLmNhJkiS1xIQnds3Lh3dU5w1JHjHRxx7mOPsn+bNeH0eSJGkqmPDErqqePoZqbwB2KrFLMmMXwtkfMLGTJEm7hV6M2G1pfh6TZEWS85Jcn+ScdJwK7AssT7K8qfvcJFcmuSbJl5PMaspvTvK2JN8D/qTp76wkK5P8IMkzm3ozkpydZFWS9Un+sgnnH4BnJlmb5I0Tfa6SJElTSa/vsTuUzujcwcCBwFFV9X7gFuDYqjo2yVzgrcBxVXUYsBo4rauPe6rqGVX1xeb7HlV1RNPv25uyvwA2V9XhwOHAq5IcAJwBfLeqFlTVe4cGl2RxktVJVrNly0SfuyRJ0qTq9XvsVlbVjwCSrKUzNfq9IXWOpJP4XZ4E4OHAlV37vzSk/lebn4NNfwDPBZ6S5KTm+2zgIODe0YKrqmXAMmjWipUkSZrGep3Ybe3a3jbC8QL8W1WdPEIfd43QZ3d/AV5fVRf/WsfJMTsVrSRJ0jTWr9ed3Ans02xfBRyV5HcAkjwiyRN2sr+Lgdck2bPp4wlJZg45jiRJUqv1K7FbBnwryfKqug04BTg3yXo6id6TdrK/TwDXAdck2Qh8jM5o3nrg/iTrfHhCkiS1Xaq8tQyae+yWLOl3GK3mWrGSJE2MJINVNTC0vNf32E0bC+fNY7WJhyRJmsZcUkySJKklTOwkSZJawqnYxuCmTWTp0n6HMW15/5wkSf3niJ0kSVJLmNhJkiS1hImdJElSS0xoYpfklCQfnKC+bk4ydyL6kiRJ2h04YidJktQSY0rsksxMcmGzNNfGJIuSHJ7kiqZsZZLta7Lum+SiJP+R5D1dfZycZEPT/qwdlY927Kb8VyN6SQaSrGi2z0zyuSTfbmJ41a7/80iSJE0fY33dyfHALVV1AkCS2cAaYFFVrUrySODupu4C4FBgK3BDkg8A24CzgIXAHcAlSV4IrByuvKrO38Gxd+QpwJHATGBNkgur6pahlZIsBhYDMGfOGP8pJEmSpqaxTsVuAI5LclaSZwKPA26tqlUAVfWLqrq/qXtpVW2uqnuA64D9gMOBFVV1W1PvHODoUcpHPHZVbR5DvF+rqrur6nZgOXDEcJWqallVDVTVALNmjfGfQpIkaWoaU2JXVT+gM6q2AXg38CKgRqi+tWt7G51RwYxQd6TyEY+d5G3Nrvt5MP69hjbbwXdJkqTWGes9dvsCv6yqzwNL6Uxz7pvk8Gb/PklGm9a9GnhWkrlJZgAnA98ZpXy0Yx/W7LqZTsIHcOKQ470gyV5JHg0cA6way3lKkiRNZ2O9x+73gLOTPADcB7yGzmjbB5LsTef+uuNGalxVtyZ5C51p0QDfrKqvAYxUvoNjA7wD+GSSv6aTIHZbCVxIZ8r4ncPdXydJktQ2qWrXLGWSM4EtVbVTC79m/vxiyZLeBLUbcK1YSZImT5LBqhoYWj7WEbvWWzhvHqtNTiRJ0jTWusSuqs7sdwySJEn94MoTkiRJLdG6EbtdNbhpE1m6U7fltYb3x0mS1A6O2EmSJLWEiZ0kSVJLmNhJkiS1RE8TuyTbkqxNsjHJl5M8YpS6bxht/87WkyRJ2t30esTu7qpaUFWHAPcCrx6l7huAsSRsY60nSZK0W5nMqdjvAr+TZGaSC5Osa0byFiU5FdgXWJ5kOUCSjyRZneTaJO9oyoart2X7AZKclOQzzfafNP2vS3LZJJ6nJElSX0zK606S7AH8EXARcDxwS1Wd0OybXVWbk5wGHFtVtzfN/qaqfpZkBnBpkqdU1fuHqTeStwF/WFU/TjJnhLgWA4sBmDNsFUmSpGmj1yN2eydZC6wG/gv4JLABOC7JWUmeWVWbR2j7p0muAdYATwYO3sljXw58JsmrgBnDVaiqZVU1UFUDzJq1k91LkiRNLb0esbu7qhYMKftBkoXA84B3J7mkqv6uu0KSA4DTgcOr6o5menWvEY5RXdu/qlNVr07y+8AJwNokC6rqp+M8H0mSpClr0l93kmRf4JdV9XlgKXBYs+tOYJ9m+5HAXcDmJPPoTOMyTD2ATUl+N8nDgBd1HefxVXV1Vb0NuB2Y35MTkiRJmiL6saTY7wFnJ3kAuA94TVO+DPhWklur6tgka4BrgRvpTKsyXD3gDOAbwH8DG4Htc6pnJzkICHApsK7H5yVJktRXqaod19oNZP78YsmSfofRF64VK0nS9JJksKoGhpb3Y8RuSlo4bx6rTXAkSdI05pJikiRJLWFiJ0mS1BImdpIkSS1hYidJktQSJnaSJEktYWInSZLUEiZ2kiRJLWFiJ0mS1BImdpIkSS1hYidJktQSJnaSJEktYWInSZLUEiZ2kiRJLWFiJ0mS1BImdpIkSS1hYidJktQSJnaSJEktYWInSZLUEiZ2kiRJLWFiJ0mS1BImdpIkSS1hYidJktQSJnaSJEktYWInSZLUEqmqfscwJSS5E7ih33FowswFbu93EJowXs928Xq2i9ezP/arqt8cWrhHPyKZom6oqoF+B6GJkWS117M9vJ7t4vVsF6/n1OJUrCRJUkuY2EmSJLWEid2DlvU7AE0or2e7eD3bxevZLl7PKcSHJyRJklrCETtJkqSWMLGTJElqidYndkmOT3JDkh8mOWOY/Uny/mb/+iSHjbWtJt+uXs8k85MsT/L9JNcmWTL50Wuo8fx+NvtnJFmT5BuTF7VGMs6/t3OSnJfk+ub39GmTG72GGuf1fGPzt3ZjknOT7DW50e/Gqqq1H2AG8H+BA4GHA+uAg4fUeR7wLSDAkcDVY23rZ1pdz8cAhzXb+wA/8HpO3+vZtf804AvAN/p9Prv7Z7zXE/gs8D+b7YcDc/p9TrvzZ5x/bx8L3ATs3Xz/F+CUfp/T7vJp+4jdEcAPq+rGqroX+CLwgiF1XgD8c3VcBcxJ8pgxttXk2uXrWVW3VtU1AFV1J/B9On981D/j+f0kyW8DJwCfmMygNaJdvp5JHgkcDXwSoKruraqfT2bweohx/X7SWQBh7yR7AI8AbpmswHd3bU/sHgv8d9f3H/HQ/8xHqjOWtppc47mev5Jkf+BQ4OoJj1A7Y7zX833Am4AHehWgdsp4rueBwG3Ap5up9U8kmdnLYLVDu3w9q+rHwFLgv4Bbgc1VdUkPY1WXtid2GaZs6PtdRqozlraaXOO5np2dySzgK8AbquoXExibdt4uX88k/wP4SVUNTnxY2kXj+f3cAzgM+EhVHQrcBXhfc3+N5/fzN+iM5h0A7AvMTPLSCY5PI2h7YvcjYH7X99/mocPBI9UZS1tNrvFcT5LsSSepO6eqvtrDODU247meRwHPT3IznSmiZyf5fO9C1RiM9+/tj6pq+yj6eXQSPfXPeK7nccBNVXVbVd0HfBV4eg9jVZe2J3argIOSHJDk4cCLgQuG1LkAeHnzdM+RdIaMbx1jW02uXb6eSULn/p3vV9U/Tm7YGsEuX8+qektV/XZV7d+0+3ZVOSLQX+O5nv8P+O8kT2zqPQe4btIi13DG8//nfwFHJnlE87f3OXTua9Yk2KPfAfRSVd2f5HXAxXSe8PlUVV2b5NXN/o8C36TzZM8PgV8CrxitbR9OQ43xXE86IzwvAzYkWduU/XVVfXMyz0EPGuf11BQzAdfz9cA5TRJxI17rvhrn/59XJzkPuAa4H1iDy45NGpcUkyRJaom2T8VKkiTtNkzsJEmSWsLETpIkqSVM7CRJklrCxE6SJKklTOwkTUlJtiVZm2Rjkq8nmTOGNlt2sH9Okr/q+r5v81qG8ca6f5KN4+1nJ4+5IMnzJvOYkqY+EztJU9XdVbWgqg4Bfga8dgL6nAP8KrGrqluq6qQJ6HdSNQurL6DzDjFJ+hUTO0nTwZV0LUCe5H8lWZVkfZJ3DK2cZFaSS5Nck2RDkhc0u/4BeHwzEnh290hbkquTPLmrjxVJFiaZmeRTzfHWdPU1rCSnJDm/GWW8KcnrkpzWtL0qyaO6+n9fkiuaUckjmvJHNe3XN/Wf0pSfmWRZkkuAfwb+DljUnMuiJEc0fa1pfj6xK56vJrkoyX8keU9XrMc3/0brklzalO3U+UqaWlq98oSk6S/JDDpLEn2y+f5c4CDgCDqLkF+Q5Oiquqyr2T3Ai6rqF0nmAlcluYDOwvKHVNWCpq/9u9p8EfhT4O1JHgPsW1WDSd5FZ8myVzbTwSuT/HtV3TVK2IcAhwJ70Xkr/5ur6tAk7wVeDryvqTezqp6e5GjgU027dwBrquqFSZ5NJ4lb0NRfCDyjqu5OcgowUFWva87lkcDRzYoBxwHvAk5s2i1o4tkK3JDkA82/0cebNjdtTziBv9mF85U0RZjYSZqq9m6Wf9sfGAT+rSl/bvNZ03yfRSfR607sAryrSZgeoDPaN28Hx/uX5hhvp5PgfbnreM9PcnrzfS/gcYy+9uXyqroTuDPJZuDrTfkG4Cld9c4FqKrLkjyySaSeQZOQVdW3kzw6yeym/gVVdfcIx5wNfDbJQUABe3btu7SqNgMkuQ7YD/gN4LKquqk51s/Gcb6SpggTO0lT1d1VtaBJar5B5x6799NJ2t5dVR8bpe1LgN8EFlbVfUluppOgjKiqfpzkp83U5yLgL5tdAU6sqht2IvatXdsPdH1/gF//uzt0TcdqjveQ8Jqfo42avZNOQvmiZiRyxQjxbGtiyDDHh107X0lThPfYSZrSmpGmU4HTk+xJZ1HyVyaZBZDksUl+a0iz2cBPmqTuWDojVAB3AvuMcrgvAm8CZlfVhqbsYuD1SdIc79CJOK/GoqbPZwCbm3O9jE5iSpJjgNur6hfDtB16LrOBHzfbp4zh2FcCz0pyQHOs7VOxvTxfST1mYidpyquqNcA64MVVdQnwBeDKJBuA83hosnYOMJBkNZ0k6fqmn58ClzcPK5w9zKHOA15MZ1p2u3fSmdZc3zxo8c6JOzPuSHIF8FHgL5qyM5vY19N52OPPR2i7HDh4+8MTwHuAdye5HJixowNX1W3AYuCrSdYBX2p29fJ8JfVYqoYbiZck9VKSFcDpVbW637FIag9H7CRJklrCETtJkqSWcMROkiSpJUzsJEmSWsLETpIkqSVM7CRJklrCxE6SJKkl/j+yh02e5v+jDAAAAABJRU5ErkJggg==\n",
=======
      "image/png": "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\n",
>>>>>>> c8dd488261b3ad16245dca7212435eb93a0a91c5
      "text/plain": [
       "<Figure size 720x720 with 1 Axes>"
      ]
     },
     "metadata": {
      "needs_background": "light"
     },
     "output_type": "display_data"
    }
   ],
   "source": [
    "importances = rf.feature_importances_\n",
    "indices = np.argsort(importances)\n",
    "\n",
    "plt.figure(figsize=(10,10))\n",
    "plt.title('Feature Importances')\n",
    "plt.barh(range(len(indices)), importances[indices], color='#008B8B', align='center')\n",
    "plt.yticks(range(len(indices)), feature_names[indices])\n",
    "plt.xlabel('Relative Importance')\n",
    "\n",
    "plt.savefig('static/images/feature_importances.JPG')\n",
    "plt.show()"
   ]
  },
  {
   "cell_type": "code",
<<<<<<< HEAD
   "execution_count": 32,
=======
   "execution_count": 31,
>>>>>>> c8dd488261b3ad16245dca7212435eb93a0a91c5
   "metadata": {},
   "outputs": [],
   "source": [
    "from sklearn.model_selection import train_test_split\n",
    "\n",
    "X2_train, X2_test, y2_train, y2_test = train_test_split(X2, y, test_size=0.1,random_state=42)"
   ]
  },
  {
   "cell_type": "code",
<<<<<<< HEAD
   "execution_count": 33,
=======
   "execution_count": 32,
>>>>>>> c8dd488261b3ad16245dca7212435eb93a0a91c5
   "metadata": {},
   "outputs": [
    {
     "data": {
      "text/plain": [
       "LogisticRegression()"
      ]
     },
<<<<<<< HEAD
     "execution_count": 33,
=======
     "execution_count": 32,
>>>>>>> c8dd488261b3ad16245dca7212435eb93a0a91c5
     "metadata": {},
     "output_type": "execute_result"
    }
   ],
   "source": [
    "from sklearn.linear_model import LogisticRegression\n",
    "classifier = LogisticRegression()\n",
    "classifier"
   ]
  },
  {
   "cell_type": "code",
<<<<<<< HEAD
   "execution_count": 34,
   "metadata": {},
   "outputs": [
    {
     "data": {
      "text/plain": [
       "LogisticRegression(C=1.0, class_weight=None, dual=False, fit_intercept=True,\n",
       "                   intercept_scaling=1, l1_ratio=None, max_iter=100,\n",
       "                   multi_class='warn', n_jobs=None, penalty='l2',\n",
       "                   random_state=None, solver='warn', tol=0.0001, verbose=0,\n",
       "                   warm_start=False)"
      ]
     },
     "execution_count": 34,
     "metadata": {},
     "output_type": "execute_result"
    }
   ],
   "source": [
    "LogisticRegression()"
   ]
  },
  {
   "cell_type": "code",
   "execution_count": 35,
=======
   "execution_count": 33,
>>>>>>> c8dd488261b3ad16245dca7212435eb93a0a91c5
   "metadata": {},
   "outputs": [
    {
     "data": {
      "text/plain": [
       "LogisticRegression()"
      ]
     },
<<<<<<< HEAD
     "execution_count": 35,
=======
     "execution_count": 33,
>>>>>>> c8dd488261b3ad16245dca7212435eb93a0a91c5
     "metadata": {},
     "output_type": "execute_result"
    }
   ],
   "source": [
    "classifier.fit(X2_train, y2_train)"
   ]
  },
  {
   "cell_type": "code",
<<<<<<< HEAD
   "execution_count": 36,
   "metadata": {},
   "outputs": [
    {
     "data": {
      "text/plain": [
       "LogisticRegression(C=1.0, class_weight=None, dual=False, fit_intercept=True,\n",
       "                   intercept_scaling=1, l1_ratio=None, max_iter=100,\n",
       "                   multi_class='warn', n_jobs=None, penalty='l2',\n",
       "                   random_state=None, solver='warn', tol=0.0001, verbose=0,\n",
       "                   warm_start=False)"
      ]
     },
     "execution_count": 36,
     "metadata": {},
     "output_type": "execute_result"
    }
   ],
   "source": [
    "LogisticRegression()"
   ]
  },
  {
   "cell_type": "code",
   "execution_count": 37,
=======
   "execution_count": 34,
>>>>>>> c8dd488261b3ad16245dca7212435eb93a0a91c5
   "metadata": {},
   "outputs": [
    {
     "name": "stdout",
     "output_type": "stream",
     "text": [
      "Training 2 Data Score: 0.6698615548455804\n",
      "Testing 2 Data Score: 0.6\n"
     ]
    }
   ],
   "source": [
    "print(f\"Training 2 Data Score: {classifier.score(X2_train, y2_train)}\")\n",
    "print(f\"Testing 2 Data Score: {classifier.score(X2_test, y2_test)}\")"
   ]
  },
  {
   "cell_type": "code",
<<<<<<< HEAD
   "execution_count": 38,
=======
   "execution_count": 35,
>>>>>>> c8dd488261b3ad16245dca7212435eb93a0a91c5
   "metadata": {},
   "outputs": [],
   "source": [
    "predictions2 = classifier.predict(X2_test)\n",
    "predictions_table2=pd.DataFrame({\"Predictions\": predictions2, \"Actual\": y2_test})"
   ]
  },
  {
   "cell_type": "code",
<<<<<<< HEAD
   "execution_count": 39,
=======
   "execution_count": 36,
>>>>>>> c8dd488261b3ad16245dca7212435eb93a0a91c5
   "metadata": {},
   "outputs": [
    {
     "data": {
      "text/html": [
       "<div>\n",
       "<style scoped>\n",
       "    .dataframe tbody tr th:only-of-type {\n",
       "        vertical-align: middle;\n",
       "    }\n",
       "\n",
       "    .dataframe tbody tr th {\n",
       "        vertical-align: top;\n",
       "    }\n",
       "\n",
       "    .dataframe thead th {\n",
       "        text-align: right;\n",
       "    }\n",
       "</style>\n",
       "<table border=\"1\" class=\"dataframe\">\n",
       "  <thead>\n",
       "    <tr style=\"text-align: right;\">\n",
       "      <th></th>\n",
       "      <th>Predictions</th>\n",
       "      <th>Actual</th>\n",
       "    </tr>\n",
       "  </thead>\n",
       "  <tbody>\n",
       "    <tr>\n",
       "      <th>971</th>\n",
       "      <td>3</td>\n",
       "      <td>3</td>\n",
       "    </tr>\n",
       "    <tr>\n",
       "      <th>280</th>\n",
       "      <td>3</td>\n",
       "      <td>2</td>\n",
       "    </tr>\n",
       "    <tr>\n",
       "      <th>536</th>\n",
       "      <td>3</td>\n",
       "      <td>3</td>\n",
       "    </tr>\n",
       "    <tr>\n",
       "      <th>824</th>\n",
       "      <td>3</td>\n",
       "      <td>3</td>\n",
       "    </tr>\n",
       "    <tr>\n",
       "      <th>644</th>\n",
       "      <td>3</td>\n",
       "      <td>3</td>\n",
       "    </tr>\n",
       "    <tr>\n",
       "      <th>...</th>\n",
       "      <td>...</td>\n",
       "      <td>...</td>\n",
       "    </tr>\n",
       "    <tr>\n",
       "      <th>928</th>\n",
       "      <td>3</td>\n",
       "      <td>4</td>\n",
       "    </tr>\n",
       "    <tr>\n",
       "      <th>445</th>\n",
       "      <td>3</td>\n",
       "      <td>3</td>\n",
       "    </tr>\n",
       "    <tr>\n",
       "      <th>54</th>\n",
       "      <td>3</td>\n",
       "      <td>3</td>\n",
       "    </tr>\n",
       "    <tr>\n",
       "      <th>23</th>\n",
       "      <td>3</td>\n",
       "      <td>3</td>\n",
       "    </tr>\n",
       "    <tr>\n",
       "      <th>440</th>\n",
       "      <td>3</td>\n",
       "      <td>3</td>\n",
       "    </tr>\n",
       "  </tbody>\n",
       "</table>\n",
       "<p>105 rows × 2 columns</p>\n",
       "</div>"
      ],
      "text/plain": [
       "     Predictions  Actual\n",
       "971            3       3\n",
       "280            3       2\n",
       "536            3       3\n",
       "824            3       3\n",
       "644            3       3\n",
       "..           ...     ...\n",
       "928            3       4\n",
       "445            3       3\n",
       "54             3       3\n",
       "23             3       3\n",
       "440            3       3\n",
       "\n",
       "[105 rows x 2 columns]"
      ]
     },
<<<<<<< HEAD
     "execution_count": 39,
=======
     "execution_count": 36,
>>>>>>> c8dd488261b3ad16245dca7212435eb93a0a91c5
     "metadata": {},
     "output_type": "execute_result"
    }
   ],
   "source": [
    "predictions_table2"
   ]
  },
  {
   "cell_type": "code",
<<<<<<< HEAD
   "execution_count": 40,
=======
   "execution_count": 37,
   "metadata": {},
   "outputs": [],
   "source": [
    "# Save the model\n",
    "# from joblib import dump, load\n",
    "\n",
    "# dump(classifier, 'Lg.joblib') \n"
   ]
  },
  {
   "cell_type": "code",
   "execution_count": 38,
>>>>>>> c8dd488261b3ad16245dca7212435eb93a0a91c5
   "metadata": {},
   "outputs": [
    {
     "data": {
      "text/plain": [
       "0.5238095238095238"
      ]
     },
     "execution_count": 40,
     "metadata": {},
     "output_type": "execute_result"
    }
   ],
   "source": [
<<<<<<< HEAD
    "# Save the model\n",
    "from joblib import dump, load\n",
    "\n",
    "dump(classifier, 'Lg.joblib') \n"
   ]
  },
  {
   "cell_type": "code",
   "execution_count": 41,
   "metadata": {},
   "outputs": [
    {
     "data": {
      "text/plain": [
       "0.5238095238095238"
      ]
     },
     "execution_count": 41,
     "metadata": {},
     "output_type": "execute_result"
    }
   ],
   "source": [
=======
>>>>>>> c8dd488261b3ad16245dca7212435eb93a0a91c5
    "clf2 = tree.DecisionTreeClassifier()\n",
    "clf2 = clf2.fit(X2_train, y2_train)\n",
    "clf2.score(X2_test, y2_test)"
   ]
  },
  {
   "cell_type": "code",
<<<<<<< HEAD
   "execution_count": 42,
=======
   "execution_count": 39,
>>>>>>> c8dd488261b3ad16245dca7212435eb93a0a91c5
   "metadata": {},
   "outputs": [
    {
     "data": {
      "text/plain": [
<<<<<<< HEAD
       "0.5428571428571428"
      ]
     },
     "execution_count": 42,
=======
       "0.5619047619047619"
      ]
     },
     "execution_count": 39,
>>>>>>> c8dd488261b3ad16245dca7212435eb93a0a91c5
     "metadata": {},
     "output_type": "execute_result"
    }
   ],
   "source": [
    "from sklearn.ensemble import RandomForestClassifier\n",
    "rf2 = RandomForestClassifier(n_estimators=200)\n",
    "rf2 = rf2.fit(X2_train, y2_train)\n",
    "rf2.score(X2_test, y2_test)"
   ]
  },
  {
   "cell_type": "code",
<<<<<<< HEAD
   "execution_count": 43,
=======
   "execution_count": 40,
>>>>>>> c8dd488261b3ad16245dca7212435eb93a0a91c5
   "metadata": {},
   "outputs": [
    {
     "data": {
      "text/plain": [
<<<<<<< HEAD
       "[(0.2500020254332422, 'health'),\n",
       " (0.22314347617124558, 'freetime'),\n",
       " (0.19584810233174968, 'goout'),\n",
       " (0.17360349691721266, 'Walc'),\n",
       " (0.15740289914654967, 'studytime')]"
      ]
     },
     "execution_count": 43,
=======
       "[(0.24496359033331522, 'health'),\n",
       " (0.21727941592476088, 'freetime'),\n",
       " (0.19587018324889593, 'goout'),\n",
       " (0.19208182774168656, 'Walc'),\n",
       " (0.1498049827513415, 'studytime')]"
      ]
     },
     "execution_count": 40,
>>>>>>> c8dd488261b3ad16245dca7212435eb93a0a91c5
     "metadata": {},
     "output_type": "execute_result"
    }
   ],
   "source": [
    "feature_names2= X2.columns\n",
    "sorted(zip(rf2.feature_importances_, feature_names2), reverse=True)"
   ]
  },
  {
   "cell_type": "code",
<<<<<<< HEAD
   "execution_count": 44,
=======
   "execution_count": 41,
>>>>>>> c8dd488261b3ad16245dca7212435eb93a0a91c5
   "metadata": {},
   "outputs": [],
   "source": [
    "from sklearn.neighbors import KNeighborsClassifier\n",
    "from sklearn.preprocessing import StandardScaler\n",
    "X_scaler = StandardScaler().fit(X2_train)"
   ]
  },
  {
   "cell_type": "code",
<<<<<<< HEAD
   "execution_count": 45,
=======
   "execution_count": 42,
>>>>>>> c8dd488261b3ad16245dca7212435eb93a0a91c5
   "metadata": {},
   "outputs": [],
   "source": [
    "X_train_scaled = X_scaler.transform(X2_train)\n",
    "X_test_scaled = X_scaler.transform(X2_test)"
   ]
  },
  {
   "cell_type": "code",
<<<<<<< HEAD
   "execution_count": 46,
=======
   "execution_count": 43,
>>>>>>> c8dd488261b3ad16245dca7212435eb93a0a91c5
   "metadata": {},
   "outputs": [
    {
     "name": "stdout",
     "output_type": "stream",
     "text": [
      "k: 1, Train/Test Score: 0.738/0.467\n",
      "k: 3, Train/Test Score: 0.717/0.486\n",
      "k: 5, Train/Test Score: 0.693/0.571\n",
      "k: 7, Train/Test Score: 0.687/0.600\n",
      "k: 9, Train/Test Score: 0.682/0.610\n",
      "k: 11, Train/Test Score: 0.675/0.600\n",
      "k: 13, Train/Test Score: 0.670/0.600\n",
      "k: 15, Train/Test Score: 0.668/0.600\n",
      "k: 17, Train/Test Score: 0.670/0.600\n",
      "k: 19, Train/Test Score: 0.669/0.600\n",
      "k: 21, Train/Test Score: 0.669/0.600\n",
      "k: 23, Train/Test Score: 0.670/0.600\n",
      "k: 25, Train/Test Score: 0.670/0.600\n",
      "k: 27, Train/Test Score: 0.670/0.600\n",
      "k: 29, Train/Test Score: 0.670/0.600\n",
      "k: 31, Train/Test Score: 0.670/0.600\n",
      "k: 33, Train/Test Score: 0.670/0.600\n"
     ]
    }
   ],
   "source": [
    "train_scores = []\n",
    "test_scores = []\n",
    "for k in range(1, 35, 2):\n",
    "    knn = KNeighborsClassifier(n_neighbors=k)\n",
    "    knn.fit(X_train_scaled, y2_train)\n",
    "    train_score = knn.score(X_train_scaled, y2_train)\n",
    "    test_score = knn.score(X_test_scaled, y2_test)\n",
    "    train_scores.append(train_score)\n",
    "    test_scores.append(test_score)\n",
    "    print(f\"k: {k}, Train/Test Score: {train_score:.3f}/{test_score:.3f}\")"
   ]
  },
  {
   "cell_type": "code",
<<<<<<< HEAD
   "execution_count": 47,
=======
   "execution_count": 44,
>>>>>>> c8dd488261b3ad16245dca7212435eb93a0a91c5
   "metadata": {},
   "outputs": [
    {
     "data": {
<<<<<<< HEAD
      "image/png": "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\n",
=======
      "image/png": "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\n",
>>>>>>> c8dd488261b3ad16245dca7212435eb93a0a91c5
      "text/plain": [
       "<Figure size 432x288 with 1 Axes>"
      ]
     },
     "metadata": {
      "needs_background": "light"
     },
     "output_type": "display_data"
    }
   ],
   "source": [
    "plt.plot(range(1, 35, 2), train_scores, marker='o')\n",
    "plt.plot(range(1, 35, 2), test_scores, marker=\"x\")\n",
    "plt.xlabel(\"k neighbors\")\n",
    "plt.ylabel(\"Testing accuracy Score\")\n",
    "plt.show()"
   ]
  },
  {
   "cell_type": "code",
<<<<<<< HEAD
   "execution_count": 53,
=======
   "execution_count": 45,
>>>>>>> c8dd488261b3ad16245dca7212435eb93a0a91c5
   "metadata": {},
   "outputs": [
    {
     "ename": "ValueError",
     "evalue": "Found input variables with inconsistent numbers of samples: [939, 1033]",
     "output_type": "error",
     "traceback": [
<<<<<<< HEAD
      "\u001b[1;31m---------------------------------------------------------------------------\u001b[0m",
      "\u001b[1;31mValueError\u001b[0m                                Traceback (most recent call last)",
      "\u001b[1;32m<ipython-input-53-5e0bb951d73b>\u001b[0m in \u001b[0;36m<module>\u001b[1;34m\u001b[0m\n\u001b[0;32m      1\u001b[0m \u001b[0mknn\u001b[0m \u001b[1;33m=\u001b[0m \u001b[0mKNeighborsClassifier\u001b[0m\u001b[1;33m(\u001b[0m\u001b[0mn_neighbors\u001b[0m\u001b[1;33m=\u001b[0m\u001b[1;36m5\u001b[0m\u001b[1;33m)\u001b[0m\u001b[1;33m\u001b[0m\u001b[1;33m\u001b[0m\u001b[0m\n\u001b[1;32m----> 2\u001b[1;33m \u001b[0mknn\u001b[0m\u001b[1;33m.\u001b[0m\u001b[0mfit\u001b[0m\u001b[1;33m(\u001b[0m\u001b[0mX_train_scaled\u001b[0m\u001b[1;33m,\u001b[0m \u001b[0my_train\u001b[0m\u001b[1;33m)\u001b[0m\u001b[1;33m\u001b[0m\u001b[1;33m\u001b[0m\u001b[0m\n\u001b[0m\u001b[0;32m      3\u001b[0m \u001b[0mprint\u001b[0m\u001b[1;33m(\u001b[0m\u001b[1;34m'k=5 Test Acc: %.3f'\u001b[0m \u001b[1;33m%\u001b[0m \u001b[0mknn\u001b[0m\u001b[1;33m.\u001b[0m\u001b[0mscore\u001b[0m\u001b[1;33m(\u001b[0m\u001b[0mX_test_scaled\u001b[0m\u001b[1;33m,\u001b[0m \u001b[0my_test\u001b[0m\u001b[1;33m)\u001b[0m\u001b[1;33m)\u001b[0m\u001b[1;33m\u001b[0m\u001b[1;33m\u001b[0m\u001b[0m\n",
      "\u001b[1;32m~\\Anaconda3\\lib\\site-packages\\sklearn\\neighbors\\base.py\u001b[0m in \u001b[0;36mfit\u001b[1;34m(self, X, y)\u001b[0m\n\u001b[0;32m    890\u001b[0m         \"\"\"\n\u001b[0;32m    891\u001b[0m         \u001b[1;32mif\u001b[0m \u001b[1;32mnot\u001b[0m \u001b[0misinstance\u001b[0m\u001b[1;33m(\u001b[0m\u001b[0mX\u001b[0m\u001b[1;33m,\u001b[0m \u001b[1;33m(\u001b[0m\u001b[0mKDTree\u001b[0m\u001b[1;33m,\u001b[0m \u001b[0mBallTree\u001b[0m\u001b[1;33m)\u001b[0m\u001b[1;33m)\u001b[0m\u001b[1;33m:\u001b[0m\u001b[1;33m\u001b[0m\u001b[1;33m\u001b[0m\u001b[0m\n\u001b[1;32m--> 892\u001b[1;33m             \u001b[0mX\u001b[0m\u001b[1;33m,\u001b[0m \u001b[0my\u001b[0m \u001b[1;33m=\u001b[0m \u001b[0mcheck_X_y\u001b[0m\u001b[1;33m(\u001b[0m\u001b[0mX\u001b[0m\u001b[1;33m,\u001b[0m \u001b[0my\u001b[0m\u001b[1;33m,\u001b[0m \u001b[1;34m\"csr\"\u001b[0m\u001b[1;33m,\u001b[0m \u001b[0mmulti_output\u001b[0m\u001b[1;33m=\u001b[0m\u001b[1;32mTrue\u001b[0m\u001b[1;33m)\u001b[0m\u001b[1;33m\u001b[0m\u001b[1;33m\u001b[0m\u001b[0m\n\u001b[0m\u001b[0;32m    893\u001b[0m \u001b[1;33m\u001b[0m\u001b[0m\n\u001b[0;32m    894\u001b[0m         \u001b[1;32mif\u001b[0m \u001b[0my\u001b[0m\u001b[1;33m.\u001b[0m\u001b[0mndim\u001b[0m \u001b[1;33m==\u001b[0m \u001b[1;36m1\u001b[0m \u001b[1;32mor\u001b[0m \u001b[0my\u001b[0m\u001b[1;33m.\u001b[0m\u001b[0mndim\u001b[0m \u001b[1;33m==\u001b[0m \u001b[1;36m2\u001b[0m \u001b[1;32mand\u001b[0m \u001b[0my\u001b[0m\u001b[1;33m.\u001b[0m\u001b[0mshape\u001b[0m\u001b[1;33m[\u001b[0m\u001b[1;36m1\u001b[0m\u001b[1;33m]\u001b[0m \u001b[1;33m==\u001b[0m \u001b[1;36m1\u001b[0m\u001b[1;33m:\u001b[0m\u001b[1;33m\u001b[0m\u001b[1;33m\u001b[0m\u001b[0m\n",
      "\u001b[1;32m~\\Anaconda3\\lib\\site-packages\\sklearn\\utils\\validation.py\u001b[0m in \u001b[0;36mcheck_X_y\u001b[1;34m(X, y, accept_sparse, accept_large_sparse, dtype, order, copy, force_all_finite, ensure_2d, allow_nd, multi_output, ensure_min_samples, ensure_min_features, y_numeric, warn_on_dtype, estimator)\u001b[0m\n\u001b[0;32m    727\u001b[0m         \u001b[0my\u001b[0m \u001b[1;33m=\u001b[0m \u001b[0my\u001b[0m\u001b[1;33m.\u001b[0m\u001b[0mastype\u001b[0m\u001b[1;33m(\u001b[0m\u001b[0mnp\u001b[0m\u001b[1;33m.\u001b[0m\u001b[0mfloat64\u001b[0m\u001b[1;33m)\u001b[0m\u001b[1;33m\u001b[0m\u001b[1;33m\u001b[0m\u001b[0m\n\u001b[0;32m    728\u001b[0m \u001b[1;33m\u001b[0m\u001b[0m\n\u001b[1;32m--> 729\u001b[1;33m     \u001b[0mcheck_consistent_length\u001b[0m\u001b[1;33m(\u001b[0m\u001b[0mX\u001b[0m\u001b[1;33m,\u001b[0m \u001b[0my\u001b[0m\u001b[1;33m)\u001b[0m\u001b[1;33m\u001b[0m\u001b[1;33m\u001b[0m\u001b[0m\n\u001b[0m\u001b[0;32m    730\u001b[0m \u001b[1;33m\u001b[0m\u001b[0m\n\u001b[0;32m    731\u001b[0m     \u001b[1;32mreturn\u001b[0m \u001b[0mX\u001b[0m\u001b[1;33m,\u001b[0m \u001b[0my\u001b[0m\u001b[1;33m\u001b[0m\u001b[1;33m\u001b[0m\u001b[0m\n",
      "\u001b[1;32m~\\Anaconda3\\lib\\site-packages\\sklearn\\utils\\validation.py\u001b[0m in \u001b[0;36mcheck_consistent_length\u001b[1;34m(*arrays)\u001b[0m\n\u001b[0;32m    203\u001b[0m     \u001b[1;32mif\u001b[0m \u001b[0mlen\u001b[0m\u001b[1;33m(\u001b[0m\u001b[0muniques\u001b[0m\u001b[1;33m)\u001b[0m \u001b[1;33m>\u001b[0m \u001b[1;36m1\u001b[0m\u001b[1;33m:\u001b[0m\u001b[1;33m\u001b[0m\u001b[1;33m\u001b[0m\u001b[0m\n\u001b[0;32m    204\u001b[0m         raise ValueError(\"Found input variables with inconsistent numbers of\"\n\u001b[1;32m--> 205\u001b[1;33m                          \" samples: %r\" % [int(l) for l in lengths])\n\u001b[0m\u001b[0;32m    206\u001b[0m \u001b[1;33m\u001b[0m\u001b[0m\n\u001b[0;32m    207\u001b[0m \u001b[1;33m\u001b[0m\u001b[0m\n",
      "\u001b[1;31mValueError\u001b[0m: Found input variables with inconsistent numbers of samples: [939, 1033]"
=======
      "\u001b[0;31m---------------------------------------------------------------------------\u001b[0m",
      "\u001b[0;31mValueError\u001b[0m                                Traceback (most recent call last)",
      "\u001b[0;32m<ipython-input-45-5e0bb951d73b>\u001b[0m in \u001b[0;36m<module>\u001b[0;34m\u001b[0m\n\u001b[1;32m      1\u001b[0m \u001b[0mknn\u001b[0m \u001b[0;34m=\u001b[0m \u001b[0mKNeighborsClassifier\u001b[0m\u001b[0;34m(\u001b[0m\u001b[0mn_neighbors\u001b[0m\u001b[0;34m=\u001b[0m\u001b[0;36m5\u001b[0m\u001b[0;34m)\u001b[0m\u001b[0;34m\u001b[0m\u001b[0;34m\u001b[0m\u001b[0m\n\u001b[0;32m----> 2\u001b[0;31m \u001b[0mknn\u001b[0m\u001b[0;34m.\u001b[0m\u001b[0mfit\u001b[0m\u001b[0;34m(\u001b[0m\u001b[0mX_train_scaled\u001b[0m\u001b[0;34m,\u001b[0m \u001b[0my_train\u001b[0m\u001b[0;34m)\u001b[0m\u001b[0;34m\u001b[0m\u001b[0;34m\u001b[0m\u001b[0m\n\u001b[0m\u001b[1;32m      3\u001b[0m \u001b[0mprint\u001b[0m\u001b[0;34m(\u001b[0m\u001b[0;34m'k=5 Test Acc: %.3f'\u001b[0m \u001b[0;34m%\u001b[0m \u001b[0mknn\u001b[0m\u001b[0;34m.\u001b[0m\u001b[0mscore\u001b[0m\u001b[0;34m(\u001b[0m\u001b[0mX_test_scaled\u001b[0m\u001b[0;34m,\u001b[0m \u001b[0my_test\u001b[0m\u001b[0;34m)\u001b[0m\u001b[0;34m)\u001b[0m\u001b[0;34m\u001b[0m\u001b[0;34m\u001b[0m\u001b[0m\n",
      "\u001b[0;32m/opt/anaconda3/envs/PythonData/lib/python3.8/site-packages/sklearn/neighbors/_base.py\u001b[0m in \u001b[0;36mfit\u001b[0;34m(self, X, y)\u001b[0m\n\u001b[1;32m   1129\u001b[0m         \"\"\"\n\u001b[1;32m   1130\u001b[0m         \u001b[0;32mif\u001b[0m \u001b[0;32mnot\u001b[0m \u001b[0misinstance\u001b[0m\u001b[0;34m(\u001b[0m\u001b[0mX\u001b[0m\u001b[0;34m,\u001b[0m \u001b[0;34m(\u001b[0m\u001b[0mKDTree\u001b[0m\u001b[0;34m,\u001b[0m \u001b[0mBallTree\u001b[0m\u001b[0;34m)\u001b[0m\u001b[0;34m)\u001b[0m\u001b[0;34m:\u001b[0m\u001b[0;34m\u001b[0m\u001b[0;34m\u001b[0m\u001b[0m\n\u001b[0;32m-> 1131\u001b[0;31m             X, y = self._validate_data(X, y, accept_sparse=\"csr\",\n\u001b[0m\u001b[1;32m   1132\u001b[0m                                        multi_output=True)\n\u001b[1;32m   1133\u001b[0m \u001b[0;34m\u001b[0m\u001b[0m\n",
      "\u001b[0;32m/opt/anaconda3/envs/PythonData/lib/python3.8/site-packages/sklearn/base.py\u001b[0m in \u001b[0;36m_validate_data\u001b[0;34m(self, X, y, reset, validate_separately, **check_params)\u001b[0m\n\u001b[1;32m    430\u001b[0m                 \u001b[0my\u001b[0m \u001b[0;34m=\u001b[0m \u001b[0mcheck_array\u001b[0m\u001b[0;34m(\u001b[0m\u001b[0my\u001b[0m\u001b[0;34m,\u001b[0m \u001b[0;34m**\u001b[0m\u001b[0mcheck_y_params\u001b[0m\u001b[0;34m)\u001b[0m\u001b[0;34m\u001b[0m\u001b[0;34m\u001b[0m\u001b[0m\n\u001b[1;32m    431\u001b[0m             \u001b[0;32melse\u001b[0m\u001b[0;34m:\u001b[0m\u001b[0;34m\u001b[0m\u001b[0;34m\u001b[0m\u001b[0m\n\u001b[0;32m--> 432\u001b[0;31m                 \u001b[0mX\u001b[0m\u001b[0;34m,\u001b[0m \u001b[0my\u001b[0m \u001b[0;34m=\u001b[0m \u001b[0mcheck_X_y\u001b[0m\u001b[0;34m(\u001b[0m\u001b[0mX\u001b[0m\u001b[0;34m,\u001b[0m \u001b[0my\u001b[0m\u001b[0;34m,\u001b[0m \u001b[0;34m**\u001b[0m\u001b[0mcheck_params\u001b[0m\u001b[0;34m)\u001b[0m\u001b[0;34m\u001b[0m\u001b[0;34m\u001b[0m\u001b[0m\n\u001b[0m\u001b[1;32m    433\u001b[0m             \u001b[0mout\u001b[0m \u001b[0;34m=\u001b[0m \u001b[0mX\u001b[0m\u001b[0;34m,\u001b[0m \u001b[0my\u001b[0m\u001b[0;34m\u001b[0m\u001b[0;34m\u001b[0m\u001b[0m\n\u001b[1;32m    434\u001b[0m \u001b[0;34m\u001b[0m\u001b[0m\n",
      "\u001b[0;32m/opt/anaconda3/envs/PythonData/lib/python3.8/site-packages/sklearn/utils/validation.py\u001b[0m in \u001b[0;36minner_f\u001b[0;34m(*args, **kwargs)\u001b[0m\n\u001b[1;32m     70\u001b[0m                           FutureWarning)\n\u001b[1;32m     71\u001b[0m         \u001b[0mkwargs\u001b[0m\u001b[0;34m.\u001b[0m\u001b[0mupdate\u001b[0m\u001b[0;34m(\u001b[0m\u001b[0;34m{\u001b[0m\u001b[0mk\u001b[0m\u001b[0;34m:\u001b[0m \u001b[0marg\u001b[0m \u001b[0;32mfor\u001b[0m \u001b[0mk\u001b[0m\u001b[0;34m,\u001b[0m \u001b[0marg\u001b[0m \u001b[0;32min\u001b[0m \u001b[0mzip\u001b[0m\u001b[0;34m(\u001b[0m\u001b[0msig\u001b[0m\u001b[0;34m.\u001b[0m\u001b[0mparameters\u001b[0m\u001b[0;34m,\u001b[0m \u001b[0margs\u001b[0m\u001b[0;34m)\u001b[0m\u001b[0;34m}\u001b[0m\u001b[0;34m)\u001b[0m\u001b[0;34m\u001b[0m\u001b[0;34m\u001b[0m\u001b[0m\n\u001b[0;32m---> 72\u001b[0;31m         \u001b[0;32mreturn\u001b[0m \u001b[0mf\u001b[0m\u001b[0;34m(\u001b[0m\u001b[0;34m**\u001b[0m\u001b[0mkwargs\u001b[0m\u001b[0;34m)\u001b[0m\u001b[0;34m\u001b[0m\u001b[0;34m\u001b[0m\u001b[0m\n\u001b[0m\u001b[1;32m     73\u001b[0m     \u001b[0;32mreturn\u001b[0m \u001b[0minner_f\u001b[0m\u001b[0;34m\u001b[0m\u001b[0;34m\u001b[0m\u001b[0m\n\u001b[1;32m     74\u001b[0m \u001b[0;34m\u001b[0m\u001b[0m\n",
      "\u001b[0;32m/opt/anaconda3/envs/PythonData/lib/python3.8/site-packages/sklearn/utils/validation.py\u001b[0m in \u001b[0;36mcheck_X_y\u001b[0;34m(X, y, accept_sparse, accept_large_sparse, dtype, order, copy, force_all_finite, ensure_2d, allow_nd, multi_output, ensure_min_samples, ensure_min_features, y_numeric, estimator)\u001b[0m\n\u001b[1;32m    810\u001b[0m         \u001b[0my\u001b[0m \u001b[0;34m=\u001b[0m \u001b[0my\u001b[0m\u001b[0;34m.\u001b[0m\u001b[0mastype\u001b[0m\u001b[0;34m(\u001b[0m\u001b[0mnp\u001b[0m\u001b[0;34m.\u001b[0m\u001b[0mfloat64\u001b[0m\u001b[0;34m)\u001b[0m\u001b[0;34m\u001b[0m\u001b[0;34m\u001b[0m\u001b[0m\n\u001b[1;32m    811\u001b[0m \u001b[0;34m\u001b[0m\u001b[0m\n\u001b[0;32m--> 812\u001b[0;31m     \u001b[0mcheck_consistent_length\u001b[0m\u001b[0;34m(\u001b[0m\u001b[0mX\u001b[0m\u001b[0;34m,\u001b[0m \u001b[0my\u001b[0m\u001b[0;34m)\u001b[0m\u001b[0;34m\u001b[0m\u001b[0;34m\u001b[0m\u001b[0m\n\u001b[0m\u001b[1;32m    813\u001b[0m \u001b[0;34m\u001b[0m\u001b[0m\n\u001b[1;32m    814\u001b[0m     \u001b[0;32mreturn\u001b[0m \u001b[0mX\u001b[0m\u001b[0;34m,\u001b[0m \u001b[0my\u001b[0m\u001b[0;34m\u001b[0m\u001b[0;34m\u001b[0m\u001b[0m\n",
      "\u001b[0;32m/opt/anaconda3/envs/PythonData/lib/python3.8/site-packages/sklearn/utils/validation.py\u001b[0m in \u001b[0;36mcheck_consistent_length\u001b[0;34m(*arrays)\u001b[0m\n\u001b[1;32m    253\u001b[0m     \u001b[0muniques\u001b[0m \u001b[0;34m=\u001b[0m \u001b[0mnp\u001b[0m\u001b[0;34m.\u001b[0m\u001b[0munique\u001b[0m\u001b[0;34m(\u001b[0m\u001b[0mlengths\u001b[0m\u001b[0;34m)\u001b[0m\u001b[0;34m\u001b[0m\u001b[0;34m\u001b[0m\u001b[0m\n\u001b[1;32m    254\u001b[0m     \u001b[0;32mif\u001b[0m \u001b[0mlen\u001b[0m\u001b[0;34m(\u001b[0m\u001b[0muniques\u001b[0m\u001b[0;34m)\u001b[0m \u001b[0;34m>\u001b[0m \u001b[0;36m1\u001b[0m\u001b[0;34m:\u001b[0m\u001b[0;34m\u001b[0m\u001b[0;34m\u001b[0m\u001b[0m\n\u001b[0;32m--> 255\u001b[0;31m         raise ValueError(\"Found input variables with inconsistent numbers of\"\n\u001b[0m\u001b[1;32m    256\u001b[0m                          \" samples: %r\" % [int(l) for l in lengths])\n\u001b[1;32m    257\u001b[0m \u001b[0;34m\u001b[0m\u001b[0m\n",
      "\u001b[0;31mValueError\u001b[0m: Found input variables with inconsistent numbers of samples: [939, 1033]"
>>>>>>> c8dd488261b3ad16245dca7212435eb93a0a91c5
     ]
    }
   ],
   "source": [
    "knn = KNeighborsClassifier(n_neighbors=5)\n",
    "knn.fit(X_train_scaled, y_train)\n",
    "print('k=5 Test Acc: %.3f' % knn.score(X_test_scaled, y_test))"
   ]
  },
  {
   "cell_type": "code",
   "execution_count": null,
   "metadata": {},
   "outputs": [],
   "source": []
  }
 ],
 "metadata": {
  "kernelspec": {
   "display_name": "Python 3",
   "language": "python",
   "name": "python3"
  },
  "language_info": {
   "codemirror_mode": {
    "name": "ipython",
    "version": 3
   },
   "file_extension": ".py",
   "mimetype": "text/x-python",
   "name": "python",
   "nbconvert_exporter": "python",
   "pygments_lexer": "ipython3",
   "version": "3.8.3"
  }
 },
 "nbformat": 4,
 "nbformat_minor": 2
}
