{
 "cells": [
  {
   "cell_type": "code",
   "execution_count": 1,
   "metadata": {},
   "outputs": [],
   "source": [
    "from sklearn import tree\n",
    "%matplotlib inline\n",
    "import matplotlib.pyplot as plt\n",
    "import pandas as pd\n",
    "import os\n",
    "import numpy as np"
   ]
  },
  {
   "cell_type": "code",
   "execution_count": 2,
   "metadata": {},
   "outputs": [],
   "source": [
    "df = pd.read_csv('student-mat-por_combinedData.csv')"
   ]
  },
  {
   "cell_type": "code",
   "execution_count": 3,
   "metadata": {},
   "outputs": [
    {
     "data": {
      "text/html": [
       "<div>\n",
       "<style scoped>\n",
       "    .dataframe tbody tr th:only-of-type {\n",
       "        vertical-align: middle;\n",
       "    }\n",
       "\n",
       "    .dataframe tbody tr th {\n",
       "        vertical-align: top;\n",
       "    }\n",
       "\n",
       "    .dataframe thead th {\n",
       "        text-align: right;\n",
       "    }\n",
       "</style>\n",
       "<table border=\"1\" class=\"dataframe\">\n",
       "  <thead>\n",
       "    <tr style=\"text-align: right;\">\n",
       "      <th></th>\n",
       "      <th>Unnamed: 0</th>\n",
       "      <th>school</th>\n",
       "      <th>sex</th>\n",
       "      <th>age</th>\n",
       "      <th>address</th>\n",
       "      <th>famsize</th>\n",
       "      <th>Pstatus</th>\n",
       "      <th>Medu</th>\n",
       "      <th>Fedu</th>\n",
       "      <th>Mjob</th>\n",
       "      <th>...</th>\n",
       "      <th>freetime</th>\n",
       "      <th>goout</th>\n",
       "      <th>Dalc</th>\n",
       "      <th>Walc</th>\n",
       "      <th>health</th>\n",
       "      <th>absences</th>\n",
       "      <th>G1</th>\n",
       "      <th>G2</th>\n",
       "      <th>G3</th>\n",
       "      <th>subject</th>\n",
       "    </tr>\n",
       "  </thead>\n",
       "  <tbody>\n",
       "    <tr>\n",
       "      <th>0</th>\n",
       "      <td>0</td>\n",
       "      <td>GP</td>\n",
       "      <td>F</td>\n",
       "      <td>18</td>\n",
       "      <td>U</td>\n",
       "      <td>GT3</td>\n",
       "      <td>A</td>\n",
       "      <td>4</td>\n",
       "      <td>4</td>\n",
       "      <td>at_home</td>\n",
       "      <td>...</td>\n",
       "      <td>3</td>\n",
       "      <td>4</td>\n",
       "      <td>1</td>\n",
       "      <td>1</td>\n",
       "      <td>3</td>\n",
       "      <td>6</td>\n",
       "      <td>5</td>\n",
       "      <td>6</td>\n",
       "      <td>6</td>\n",
       "      <td>Math</td>\n",
       "    </tr>\n",
       "    <tr>\n",
       "      <th>1</th>\n",
       "      <td>1</td>\n",
       "      <td>GP</td>\n",
       "      <td>F</td>\n",
       "      <td>17</td>\n",
       "      <td>U</td>\n",
       "      <td>GT3</td>\n",
       "      <td>T</td>\n",
       "      <td>1</td>\n",
       "      <td>1</td>\n",
       "      <td>at_home</td>\n",
       "      <td>...</td>\n",
       "      <td>3</td>\n",
       "      <td>3</td>\n",
       "      <td>1</td>\n",
       "      <td>1</td>\n",
       "      <td>3</td>\n",
       "      <td>4</td>\n",
       "      <td>5</td>\n",
       "      <td>5</td>\n",
       "      <td>6</td>\n",
       "      <td>Math</td>\n",
       "    </tr>\n",
       "    <tr>\n",
       "      <th>2</th>\n",
       "      <td>2</td>\n",
       "      <td>GP</td>\n",
       "      <td>F</td>\n",
       "      <td>15</td>\n",
       "      <td>U</td>\n",
       "      <td>LE3</td>\n",
       "      <td>T</td>\n",
       "      <td>1</td>\n",
       "      <td>1</td>\n",
       "      <td>at_home</td>\n",
       "      <td>...</td>\n",
       "      <td>3</td>\n",
       "      <td>2</td>\n",
       "      <td>2</td>\n",
       "      <td>3</td>\n",
       "      <td>3</td>\n",
       "      <td>10</td>\n",
       "      <td>7</td>\n",
       "      <td>8</td>\n",
       "      <td>10</td>\n",
       "      <td>Math</td>\n",
       "    </tr>\n",
       "    <tr>\n",
       "      <th>3</th>\n",
       "      <td>3</td>\n",
       "      <td>GP</td>\n",
       "      <td>F</td>\n",
       "      <td>15</td>\n",
       "      <td>U</td>\n",
       "      <td>GT3</td>\n",
       "      <td>T</td>\n",
       "      <td>4</td>\n",
       "      <td>2</td>\n",
       "      <td>health</td>\n",
       "      <td>...</td>\n",
       "      <td>2</td>\n",
       "      <td>2</td>\n",
       "      <td>1</td>\n",
       "      <td>1</td>\n",
       "      <td>5</td>\n",
       "      <td>2</td>\n",
       "      <td>15</td>\n",
       "      <td>14</td>\n",
       "      <td>15</td>\n",
       "      <td>Math</td>\n",
       "    </tr>\n",
       "    <tr>\n",
       "      <th>4</th>\n",
       "      <td>4</td>\n",
       "      <td>GP</td>\n",
       "      <td>F</td>\n",
       "      <td>16</td>\n",
       "      <td>U</td>\n",
       "      <td>GT3</td>\n",
       "      <td>T</td>\n",
       "      <td>3</td>\n",
       "      <td>3</td>\n",
       "      <td>other</td>\n",
       "      <td>...</td>\n",
       "      <td>3</td>\n",
       "      <td>2</td>\n",
       "      <td>1</td>\n",
       "      <td>2</td>\n",
       "      <td>5</td>\n",
       "      <td>4</td>\n",
       "      <td>6</td>\n",
       "      <td>10</td>\n",
       "      <td>10</td>\n",
       "      <td>Math</td>\n",
       "    </tr>\n",
       "  </tbody>\n",
       "</table>\n",
       "<p>5 rows × 35 columns</p>\n",
       "</div>"
      ],
      "text/plain": [
       "   Unnamed: 0 school sex  age address famsize Pstatus  Medu  Fedu     Mjob  \\\n",
       "0           0     GP   F   18       U     GT3       A     4     4  at_home   \n",
       "1           1     GP   F   17       U     GT3       T     1     1  at_home   \n",
       "2           2     GP   F   15       U     LE3       T     1     1  at_home   \n",
       "3           3     GP   F   15       U     GT3       T     4     2   health   \n",
       "4           4     GP   F   16       U     GT3       T     3     3    other   \n",
       "\n",
       "   ... freetime goout Dalc  Walc  health  absences  G1  G2  G3 subject  \n",
       "0  ...        3     4    1     1       3         6   5   6   6    Math  \n",
       "1  ...        3     3    1     1       3         4   5   5   6    Math  \n",
       "2  ...        3     2    2     3       3        10   7   8  10    Math  \n",
       "3  ...        2     2    1     1       5         2  15  14  15    Math  \n",
       "4  ...        3     2    1     2       5         4   6  10  10    Math  \n",
       "\n",
       "[5 rows x 35 columns]"
      ]
     },
     "execution_count": 3,
     "metadata": {},
     "output_type": "execute_result"
    }
   ],
   "source": [
    "df.head()"
   ]
  },
  {
   "cell_type": "code",
   "execution_count": 4,
   "metadata": {},
   "outputs": [],
   "source": [
    "# df.astype('str')"
   ]
  },
  {
   "cell_type": "code",
   "execution_count": 5,
   "metadata": {},
   "outputs": [],
   "source": [
    "# df1 = pd.read_csv('student-por.csv', sep = ';', header=0)\n",
    "# df1.head()"
   ]
  },
  {
   "cell_type": "code",
   "execution_count": 6,
   "metadata": {},
   "outputs": [],
   "source": [
    "# df1.astype('str')"
   ]
  },
  {
   "cell_type": "code",
   "execution_count": 7,
   "metadata": {},
   "outputs": [
    {
     "name": "stdout",
     "output_type": "stream",
     "text": [
      "[2, 2, 3, 3, 3, 3, 3, 2, 4, 3, 2, 3, 3, 3, 4, 3, 3, 3, 2, 3, 3, 3, 4, 3, 2, 2, 3, 3, 3, 3, 3, 4, 4, 3, 3, 2, 4, 3, 3, 3, 3, 3, 4, 3, 2, 2, 3, 4, 3, 2, 3, 3, 3, 3, 3, 3, 3, 3, 2, 4, 3, 3, 2, 2, 3, 3, 3, 2, 2, 4, 3, 3, 2, 3, 3, 3, 3, 3, 3, 2, 3, 3, 2, 3, 3, 2, 2, 3, 3, 2, 2, 4, 2, 3, 3, 3, 3, 3, 3, 2, 2, 4, 3, 2, 4, 3, 2, 4, 3, 4, 4, 3, 3, 4, 2, 4, 3, 3, 2, 3, 3, 3, 3, 3, 2, 3, 3, 2, 1, 4, 1, 1, 3, 3, 1, 1, 1, 1, 3, 3, 1, 2, 3, 3, 1, 3, 1, 3, 1, 3, 1, 3, 3, 1, 3, 2, 3, 3, 3, 3, 1, 2, 1, 3, 2, 3, 3, 4, 1, 3, 1, 4, 3, 1, 2, 2, 3, 2, 2, 3, 2, 3, 4, 2, 3, 3, 3, 3, 2, 3, 3, 2, 2, 3, 3, 3, 4, 3, 4, 3, 4, 3, 3, 2, 3, 2, 2, 3, 3, 2, 2, 3, 3, 2, 3, 3, 1, 2, 2, 3, 2, 1, 4, 3, 3, 2, 3, 3, 2, 3, 3, 3, 2, 3, 2, 3, 3, 3, 3, 1, 3, 3, 1, 3, 1, 4, 3, 2, 2, 3, 2, 3, 2, 2, 3, 2, 3, 3, 3, 1, 4, 2, 3, 2, 1, 4, 3, 3, 3, 1, 2, 3, 3, 3, 3, 3, 2, 2, 2, 3, 2, 3, 3, 3, 3, 3, 4, 3, 3, 3, 3, 3, 3, 4, 3, 3, 1, 2, 3, 4, 3, 3, 3, 4, 3, 3, 4, 2, 3, 3, 1, 3, 3, 3, 3, 3, 1, 2, 3, 3, 3, 2, 3, 3, 3, 3, 4, 3, 2, 3, 2, 3, 1, 1, 1, 3, 3, 1, 4, 3, 3, 1, 3, 1, 3, 3, 4, 2, 3, 3, 2, 3, 2, 2, 3, 2, 3, 3, 3, 4, 3, 3, 3, 3, 3, 3, 3, 1, 3, 3, 2, 3, 3, 2, 4, 3, 3, 3, 3, 3, 3, 2, 3, 1, 2, 3, 2, 1, 2, 1, 2, 4, 2, 3, 2, 3, 3, 3, 3, 3, 3, 3, 3, 4, 3, 3, 3, 3, 3, 3, 4, 3, 3, 2, 3, 3, 3, 3, 3, 3, 3, 3, 3, 3, 3, 3, 3, 3, 3, 3, 3, 3, 3, 3, 3, 3, 3, 3, 3, 3, 3, 3, 4, 3, 3, 3, 4, 2, 3, 3, 3, 3, 4, 3, 4, 4, 4, 3, 3, 3, 4, 3, 3, 3, 3, 3, 3, 3, 3, 3, 3, 3, 3, 3, 3, 3, 2, 3, 3, 3, 3, 3, 3, 3, 3, 3, 3, 3, 3, 3, 3, 3, 3, 3, 3, 2, 4, 3, 3, 4, 3, 3, 3, 3, 3, 3, 3, 3, 4, 3, 3, 4, 3, 3, 3, 3, 3, 3, 3, 3, 2, 3, 3, 3, 3, 3, 2, 3, 3, 3, 3, 3, 3, 3, 3, 3, 3, 3, 3, 3, 3, 3, 3, 2, 3, 2, 3, 3, 3, 3, 2, 3, 3, 3, 3, 3, 2, 3, 1, 3, 3, 3, 3, 2, 3, 3, 3, 1, 3, 2, 2, 3, 2, 2, 2, 3, 4, 3, 4, 3, 4, 3, 3, 3, 3, 3, 3, 3, 3, 3, 3, 4, 3, 4, 3, 3, 4, 3, 3, 3, 3, 3, 3, 3, 4, 3, 3, 4, 3, 3, 3, 3, 3, 3, 2, 3, 3, 3, 3, 3, 3, 3, 3, 3, 3, 3, 3, 3, 3, 3, 3, 3, 3, 4, 2, 4, 3, 3, 4, 3, 3, 3, 3, 2, 3, 4, 3, 3, 3, 3, 2, 2, 2, 3, 3, 3, 3, 2, 2, 3, 3, 3, 3, 3, 3, 3, 3, 3, 3, 3, 3, 4, 3, 3, 2, 3, 3, 2, 3, 2, 3, 3, 3, 3, 4, 3, 3, 3, 3, 3, 3, 4, 3, 3, 3, 3, 3, 3, 3, 3, 2, 4, 3, 3, 3, 3, 3, 4, 3, 4, 3, 4, 3, 3, 3, 3, 3, 3, 3, 3, 3, 3, 4, 3, 3, 3, 3, 4, 3, 3, 4, 4, 4, 4, 3, 3, 3, 3, 4, 4, 3, 3, 2, 4, 4, 3, 3, 3, 3, 3, 3, 4, 4, 3, 4, 3, 3, 3, 3, 4, 4, 3, 3, 3, 3, 2, 3, 3, 3, 4, 3, 3, 3, 4, 3, 3, 3, 3, 3, 3, 3, 3, 3, 3, 3, 3, 3, 3, 3, 4, 3, 4, 3, 3, 4, 4, 3, 3, 3, 4, 3, 3, 3, 3, 3, 4, 3, 4, 3, 3, 3, 4, 4, 3, 3, 4, 3, 3, 3, 3, 3, 3, 4, 2, 3, 3, 3, 2, 3, 3, 3, 2, 3, 3, 4, 1, 2, 3, 2, 3, 2, 3, 2, 4, 3, 3, 3, 3, 2, 2, 2, 3, 3, 3, 3, 3, 3, 3, 3, 3, 2, 3, 3, 3, 3, 3, 3, 4, 3, 3, 3, 2, 3, 2, 3, 3, 3, 2, 3, 2, 3, 3, 3, 2, 3, 3, 2, 3, 3, 2, 3, 3, 3, 3, 4, 2, 3, 2, 3, 3, 3, 3, 3, 2, 4, 4, 3, 2, 2, 2, 3, 4, 3, 2, 1, 2, 3, 2, 2, 2, 4, 3, 3, 2, 3, 2, 3, 2, 4, 3, 3, 3, 3, 3, 3, 3, 3, 3, 2, 3, 2, 4, 3, 3, 4, 3, 3, 3, 3, 3, 3, 3, 3, 3, 3, 3, 3, 3, 1, 3, 2, 2, 1, 2, 2, 2, 2, 2, 3, 3, 3, 3, 3, 3, 2, 3, 2, 2, 1, 3, 2, 1, 2, 2, 3, 2, 3, 3, 3, 4, 4, 4, 1, 3, 3, 3, 3, 3, 1, 3, 1, 4, 3, 3, 3, 1, 3, 3, 3, 3, 3, 3, 4, 3, 3, 3, 3, 2, 4, 2, 3, 1, 3, 3, 2, 4, 3, 2, 3, 4, 2, 4, 1, 4, 1, 1, 3, 3, 3, 3, 4, 2, 3, 3]\n"
     ]
    }
   ],
   "source": [
    "grade = []\n",
    "for x in df[\"G3\"]:\n",
    "    \n",
    "    if x > 15:\n",
    "        grade.append(4)\n",
    "    elif x >= 10:\n",
    "        grade.append(3)\n",
    "    elif x >= 5:\n",
    "        grade.append(2)\n",
    "    else:\n",
    "        grade.append(1)\n",
    "print(grade)\n"
   ]
  },
  {
   "cell_type": "code",
   "execution_count": 8,
   "metadata": {},
   "outputs": [
    {
     "data": {
      "text/html": [
       "<div>\n",
       "<style scoped>\n",
       "    .dataframe tbody tr th:only-of-type {\n",
       "        vertical-align: middle;\n",
       "    }\n",
       "\n",
       "    .dataframe tbody tr th {\n",
       "        vertical-align: top;\n",
       "    }\n",
       "\n",
       "    .dataframe thead th {\n",
       "        text-align: right;\n",
       "    }\n",
       "</style>\n",
       "<table border=\"1\" class=\"dataframe\">\n",
       "  <thead>\n",
       "    <tr style=\"text-align: right;\">\n",
       "      <th></th>\n",
       "      <th>Unnamed: 0</th>\n",
       "      <th>school</th>\n",
       "      <th>sex</th>\n",
       "      <th>age</th>\n",
       "      <th>address</th>\n",
       "      <th>famsize</th>\n",
       "      <th>Pstatus</th>\n",
       "      <th>Medu</th>\n",
       "      <th>Fedu</th>\n",
       "      <th>Mjob</th>\n",
       "      <th>...</th>\n",
       "      <th>goout</th>\n",
       "      <th>Dalc</th>\n",
       "      <th>Walc</th>\n",
       "      <th>health</th>\n",
       "      <th>absences</th>\n",
       "      <th>G1</th>\n",
       "      <th>G2</th>\n",
       "      <th>G3</th>\n",
       "      <th>subject</th>\n",
       "      <th>grade</th>\n",
       "    </tr>\n",
       "  </thead>\n",
       "  <tbody>\n",
       "    <tr>\n",
       "      <th>0</th>\n",
       "      <td>0</td>\n",
       "      <td>GP</td>\n",
       "      <td>F</td>\n",
       "      <td>18</td>\n",
       "      <td>U</td>\n",
       "      <td>GT3</td>\n",
       "      <td>A</td>\n",
       "      <td>4</td>\n",
       "      <td>4</td>\n",
       "      <td>at_home</td>\n",
       "      <td>...</td>\n",
       "      <td>4</td>\n",
       "      <td>1</td>\n",
       "      <td>1</td>\n",
       "      <td>3</td>\n",
       "      <td>6</td>\n",
       "      <td>5</td>\n",
       "      <td>6</td>\n",
       "      <td>6</td>\n",
       "      <td>Math</td>\n",
       "      <td>2</td>\n",
       "    </tr>\n",
       "    <tr>\n",
       "      <th>1</th>\n",
       "      <td>1</td>\n",
       "      <td>GP</td>\n",
       "      <td>F</td>\n",
       "      <td>17</td>\n",
       "      <td>U</td>\n",
       "      <td>GT3</td>\n",
       "      <td>T</td>\n",
       "      <td>1</td>\n",
       "      <td>1</td>\n",
       "      <td>at_home</td>\n",
       "      <td>...</td>\n",
       "      <td>3</td>\n",
       "      <td>1</td>\n",
       "      <td>1</td>\n",
       "      <td>3</td>\n",
       "      <td>4</td>\n",
       "      <td>5</td>\n",
       "      <td>5</td>\n",
       "      <td>6</td>\n",
       "      <td>Math</td>\n",
       "      <td>2</td>\n",
       "    </tr>\n",
       "    <tr>\n",
       "      <th>2</th>\n",
       "      <td>2</td>\n",
       "      <td>GP</td>\n",
       "      <td>F</td>\n",
       "      <td>15</td>\n",
       "      <td>U</td>\n",
       "      <td>LE3</td>\n",
       "      <td>T</td>\n",
       "      <td>1</td>\n",
       "      <td>1</td>\n",
       "      <td>at_home</td>\n",
       "      <td>...</td>\n",
       "      <td>2</td>\n",
       "      <td>2</td>\n",
       "      <td>3</td>\n",
       "      <td>3</td>\n",
       "      <td>10</td>\n",
       "      <td>7</td>\n",
       "      <td>8</td>\n",
       "      <td>10</td>\n",
       "      <td>Math</td>\n",
       "      <td>3</td>\n",
       "    </tr>\n",
       "    <tr>\n",
       "      <th>3</th>\n",
       "      <td>3</td>\n",
       "      <td>GP</td>\n",
       "      <td>F</td>\n",
       "      <td>15</td>\n",
       "      <td>U</td>\n",
       "      <td>GT3</td>\n",
       "      <td>T</td>\n",
       "      <td>4</td>\n",
       "      <td>2</td>\n",
       "      <td>health</td>\n",
       "      <td>...</td>\n",
       "      <td>2</td>\n",
       "      <td>1</td>\n",
       "      <td>1</td>\n",
       "      <td>5</td>\n",
       "      <td>2</td>\n",
       "      <td>15</td>\n",
       "      <td>14</td>\n",
       "      <td>15</td>\n",
       "      <td>Math</td>\n",
       "      <td>3</td>\n",
       "    </tr>\n",
       "    <tr>\n",
       "      <th>4</th>\n",
       "      <td>4</td>\n",
       "      <td>GP</td>\n",
       "      <td>F</td>\n",
       "      <td>16</td>\n",
       "      <td>U</td>\n",
       "      <td>GT3</td>\n",
       "      <td>T</td>\n",
       "      <td>3</td>\n",
       "      <td>3</td>\n",
       "      <td>other</td>\n",
       "      <td>...</td>\n",
       "      <td>2</td>\n",
       "      <td>1</td>\n",
       "      <td>2</td>\n",
       "      <td>5</td>\n",
       "      <td>4</td>\n",
       "      <td>6</td>\n",
       "      <td>10</td>\n",
       "      <td>10</td>\n",
       "      <td>Math</td>\n",
       "      <td>3</td>\n",
       "    </tr>\n",
       "    <tr>\n",
       "      <th>...</th>\n",
       "      <td>...</td>\n",
       "      <td>...</td>\n",
       "      <td>...</td>\n",
       "      <td>...</td>\n",
       "      <td>...</td>\n",
       "      <td>...</td>\n",
       "      <td>...</td>\n",
       "      <td>...</td>\n",
       "      <td>...</td>\n",
       "      <td>...</td>\n",
       "      <td>...</td>\n",
       "      <td>...</td>\n",
       "      <td>...</td>\n",
       "      <td>...</td>\n",
       "      <td>...</td>\n",
       "      <td>...</td>\n",
       "      <td>...</td>\n",
       "      <td>...</td>\n",
       "      <td>...</td>\n",
       "      <td>...</td>\n",
       "      <td>...</td>\n",
       "    </tr>\n",
       "    <tr>\n",
       "      <th>1039</th>\n",
       "      <td>1039</td>\n",
       "      <td>MS</td>\n",
       "      <td>F</td>\n",
       "      <td>19</td>\n",
       "      <td>R</td>\n",
       "      <td>GT3</td>\n",
       "      <td>T</td>\n",
       "      <td>2</td>\n",
       "      <td>3</td>\n",
       "      <td>services</td>\n",
       "      <td>...</td>\n",
       "      <td>2</td>\n",
       "      <td>1</td>\n",
       "      <td>2</td>\n",
       "      <td>5</td>\n",
       "      <td>4</td>\n",
       "      <td>10</td>\n",
       "      <td>11</td>\n",
       "      <td>10</td>\n",
       "      <td>Por</td>\n",
       "      <td>3</td>\n",
       "    </tr>\n",
       "    <tr>\n",
       "      <th>1040</th>\n",
       "      <td>1040</td>\n",
       "      <td>MS</td>\n",
       "      <td>F</td>\n",
       "      <td>18</td>\n",
       "      <td>U</td>\n",
       "      <td>LE3</td>\n",
       "      <td>T</td>\n",
       "      <td>3</td>\n",
       "      <td>1</td>\n",
       "      <td>teacher</td>\n",
       "      <td>...</td>\n",
       "      <td>4</td>\n",
       "      <td>1</td>\n",
       "      <td>1</td>\n",
       "      <td>1</td>\n",
       "      <td>4</td>\n",
       "      <td>15</td>\n",
       "      <td>15</td>\n",
       "      <td>16</td>\n",
       "      <td>Por</td>\n",
       "      <td>4</td>\n",
       "    </tr>\n",
       "    <tr>\n",
       "      <th>1041</th>\n",
       "      <td>1041</td>\n",
       "      <td>MS</td>\n",
       "      <td>F</td>\n",
       "      <td>18</td>\n",
       "      <td>U</td>\n",
       "      <td>GT3</td>\n",
       "      <td>T</td>\n",
       "      <td>1</td>\n",
       "      <td>1</td>\n",
       "      <td>other</td>\n",
       "      <td>...</td>\n",
       "      <td>1</td>\n",
       "      <td>1</td>\n",
       "      <td>1</td>\n",
       "      <td>5</td>\n",
       "      <td>6</td>\n",
       "      <td>11</td>\n",
       "      <td>12</td>\n",
       "      <td>9</td>\n",
       "      <td>Por</td>\n",
       "      <td>2</td>\n",
       "    </tr>\n",
       "    <tr>\n",
       "      <th>1042</th>\n",
       "      <td>1042</td>\n",
       "      <td>MS</td>\n",
       "      <td>M</td>\n",
       "      <td>17</td>\n",
       "      <td>U</td>\n",
       "      <td>LE3</td>\n",
       "      <td>T</td>\n",
       "      <td>3</td>\n",
       "      <td>1</td>\n",
       "      <td>services</td>\n",
       "      <td>...</td>\n",
       "      <td>5</td>\n",
       "      <td>3</td>\n",
       "      <td>4</td>\n",
       "      <td>2</td>\n",
       "      <td>6</td>\n",
       "      <td>10</td>\n",
       "      <td>10</td>\n",
       "      <td>10</td>\n",
       "      <td>Por</td>\n",
       "      <td>3</td>\n",
       "    </tr>\n",
       "    <tr>\n",
       "      <th>1043</th>\n",
       "      <td>1043</td>\n",
       "      <td>MS</td>\n",
       "      <td>M</td>\n",
       "      <td>18</td>\n",
       "      <td>R</td>\n",
       "      <td>LE3</td>\n",
       "      <td>T</td>\n",
       "      <td>3</td>\n",
       "      <td>2</td>\n",
       "      <td>services</td>\n",
       "      <td>...</td>\n",
       "      <td>1</td>\n",
       "      <td>3</td>\n",
       "      <td>4</td>\n",
       "      <td>5</td>\n",
       "      <td>4</td>\n",
       "      <td>10</td>\n",
       "      <td>11</td>\n",
       "      <td>11</td>\n",
       "      <td>Por</td>\n",
       "      <td>3</td>\n",
       "    </tr>\n",
       "  </tbody>\n",
       "</table>\n",
       "<p>1044 rows × 36 columns</p>\n",
       "</div>"
      ],
      "text/plain": [
       "      Unnamed: 0 school sex  age address famsize Pstatus  Medu  Fedu  \\\n",
       "0              0     GP   F   18       U     GT3       A     4     4   \n",
       "1              1     GP   F   17       U     GT3       T     1     1   \n",
       "2              2     GP   F   15       U     LE3       T     1     1   \n",
       "3              3     GP   F   15       U     GT3       T     4     2   \n",
       "4              4     GP   F   16       U     GT3       T     3     3   \n",
       "...          ...    ...  ..  ...     ...     ...     ...   ...   ...   \n",
       "1039        1039     MS   F   19       R     GT3       T     2     3   \n",
       "1040        1040     MS   F   18       U     LE3       T     3     1   \n",
       "1041        1041     MS   F   18       U     GT3       T     1     1   \n",
       "1042        1042     MS   M   17       U     LE3       T     3     1   \n",
       "1043        1043     MS   M   18       R     LE3       T     3     2   \n",
       "\n",
       "          Mjob  ... goout Dalc Walc  health  absences  G1  G2  G3 subject  \\\n",
       "0      at_home  ...     4    1    1       3         6   5   6   6    Math   \n",
       "1      at_home  ...     3    1    1       3         4   5   5   6    Math   \n",
       "2      at_home  ...     2    2    3       3        10   7   8  10    Math   \n",
       "3       health  ...     2    1    1       5         2  15  14  15    Math   \n",
       "4        other  ...     2    1    2       5         4   6  10  10    Math   \n",
       "...        ...  ...   ...  ...  ...     ...       ...  ..  ..  ..     ...   \n",
       "1039  services  ...     2    1    2       5         4  10  11  10     Por   \n",
       "1040   teacher  ...     4    1    1       1         4  15  15  16     Por   \n",
       "1041     other  ...     1    1    1       5         6  11  12   9     Por   \n",
       "1042  services  ...     5    3    4       2         6  10  10  10     Por   \n",
       "1043  services  ...     1    3    4       5         4  10  11  11     Por   \n",
       "\n",
       "     grade  \n",
       "0        2  \n",
       "1        2  \n",
       "2        3  \n",
       "3        3  \n",
       "4        3  \n",
       "...    ...  \n",
       "1039     3  \n",
       "1040     4  \n",
       "1041     2  \n",
       "1042     3  \n",
       "1043     3  \n",
       "\n",
       "[1044 rows x 36 columns]"
      ]
     },
     "execution_count": 8,
     "metadata": {},
     "output_type": "execute_result"
    }
   ],
   "source": [
    "df[\"grade\"] = grade\n",
    "df"
   ]
  },
  {
   "cell_type": "code",
   "execution_count": 9,
   "metadata": {},
   "outputs": [
    {
     "data": {
      "text/html": [
       "<div>\n",
       "<style scoped>\n",
       "    .dataframe tbody tr th:only-of-type {\n",
       "        vertical-align: middle;\n",
       "    }\n",
       "\n",
       "    .dataframe tbody tr th {\n",
       "        vertical-align: top;\n",
       "    }\n",
       "\n",
       "    .dataframe thead th {\n",
       "        text-align: right;\n",
       "    }\n",
       "</style>\n",
       "<table border=\"1\" class=\"dataframe\">\n",
       "  <thead>\n",
       "    <tr style=\"text-align: right;\">\n",
       "      <th></th>\n",
       "      <th>school</th>\n",
       "      <th>sex</th>\n",
       "      <th>age</th>\n",
       "      <th>address</th>\n",
       "      <th>famsize</th>\n",
       "      <th>Pstatus</th>\n",
       "      <th>Medu</th>\n",
       "      <th>Fedu</th>\n",
       "      <th>Mjob</th>\n",
       "      <th>Fjob</th>\n",
       "      <th>...</th>\n",
       "      <th>romantic</th>\n",
       "      <th>famrel</th>\n",
       "      <th>freetime</th>\n",
       "      <th>goout</th>\n",
       "      <th>Dalc</th>\n",
       "      <th>Walc</th>\n",
       "      <th>health</th>\n",
       "      <th>absences</th>\n",
       "      <th>subject</th>\n",
       "      <th>grade</th>\n",
       "    </tr>\n",
       "  </thead>\n",
       "  <tbody>\n",
       "    <tr>\n",
       "      <th>0</th>\n",
       "      <td>GP</td>\n",
       "      <td>F</td>\n",
       "      <td>18</td>\n",
       "      <td>U</td>\n",
       "      <td>GT3</td>\n",
       "      <td>A</td>\n",
       "      <td>4</td>\n",
       "      <td>4</td>\n",
       "      <td>at_home</td>\n",
       "      <td>teacher</td>\n",
       "      <td>...</td>\n",
       "      <td>no</td>\n",
       "      <td>4</td>\n",
       "      <td>3</td>\n",
       "      <td>4</td>\n",
       "      <td>1</td>\n",
       "      <td>1</td>\n",
       "      <td>3</td>\n",
       "      <td>6</td>\n",
       "      <td>Math</td>\n",
       "      <td>2</td>\n",
       "    </tr>\n",
       "    <tr>\n",
       "      <th>1</th>\n",
       "      <td>GP</td>\n",
       "      <td>F</td>\n",
       "      <td>17</td>\n",
       "      <td>U</td>\n",
       "      <td>GT3</td>\n",
       "      <td>T</td>\n",
       "      <td>1</td>\n",
       "      <td>1</td>\n",
       "      <td>at_home</td>\n",
       "      <td>other</td>\n",
       "      <td>...</td>\n",
       "      <td>no</td>\n",
       "      <td>5</td>\n",
       "      <td>3</td>\n",
       "      <td>3</td>\n",
       "      <td>1</td>\n",
       "      <td>1</td>\n",
       "      <td>3</td>\n",
       "      <td>4</td>\n",
       "      <td>Math</td>\n",
       "      <td>2</td>\n",
       "    </tr>\n",
       "    <tr>\n",
       "      <th>2</th>\n",
       "      <td>GP</td>\n",
       "      <td>F</td>\n",
       "      <td>15</td>\n",
       "      <td>U</td>\n",
       "      <td>LE3</td>\n",
       "      <td>T</td>\n",
       "      <td>1</td>\n",
       "      <td>1</td>\n",
       "      <td>at_home</td>\n",
       "      <td>other</td>\n",
       "      <td>...</td>\n",
       "      <td>no</td>\n",
       "      <td>4</td>\n",
       "      <td>3</td>\n",
       "      <td>2</td>\n",
       "      <td>2</td>\n",
       "      <td>3</td>\n",
       "      <td>3</td>\n",
       "      <td>10</td>\n",
       "      <td>Math</td>\n",
       "      <td>3</td>\n",
       "    </tr>\n",
       "    <tr>\n",
       "      <th>3</th>\n",
       "      <td>GP</td>\n",
       "      <td>F</td>\n",
       "      <td>15</td>\n",
       "      <td>U</td>\n",
       "      <td>GT3</td>\n",
       "      <td>T</td>\n",
       "      <td>4</td>\n",
       "      <td>2</td>\n",
       "      <td>health</td>\n",
       "      <td>services</td>\n",
       "      <td>...</td>\n",
       "      <td>yes</td>\n",
       "      <td>3</td>\n",
       "      <td>2</td>\n",
       "      <td>2</td>\n",
       "      <td>1</td>\n",
       "      <td>1</td>\n",
       "      <td>5</td>\n",
       "      <td>2</td>\n",
       "      <td>Math</td>\n",
       "      <td>3</td>\n",
       "    </tr>\n",
       "    <tr>\n",
       "      <th>4</th>\n",
       "      <td>GP</td>\n",
       "      <td>F</td>\n",
       "      <td>16</td>\n",
       "      <td>U</td>\n",
       "      <td>GT3</td>\n",
       "      <td>T</td>\n",
       "      <td>3</td>\n",
       "      <td>3</td>\n",
       "      <td>other</td>\n",
       "      <td>other</td>\n",
       "      <td>...</td>\n",
       "      <td>no</td>\n",
       "      <td>4</td>\n",
       "      <td>3</td>\n",
       "      <td>2</td>\n",
       "      <td>1</td>\n",
       "      <td>2</td>\n",
       "      <td>5</td>\n",
       "      <td>4</td>\n",
       "      <td>Math</td>\n",
       "      <td>3</td>\n",
       "    </tr>\n",
       "    <tr>\n",
       "      <th>...</th>\n",
       "      <td>...</td>\n",
       "      <td>...</td>\n",
       "      <td>...</td>\n",
       "      <td>...</td>\n",
       "      <td>...</td>\n",
       "      <td>...</td>\n",
       "      <td>...</td>\n",
       "      <td>...</td>\n",
       "      <td>...</td>\n",
       "      <td>...</td>\n",
       "      <td>...</td>\n",
       "      <td>...</td>\n",
       "      <td>...</td>\n",
       "      <td>...</td>\n",
       "      <td>...</td>\n",
       "      <td>...</td>\n",
       "      <td>...</td>\n",
       "      <td>...</td>\n",
       "      <td>...</td>\n",
       "      <td>...</td>\n",
       "      <td>...</td>\n",
       "    </tr>\n",
       "    <tr>\n",
       "      <th>1039</th>\n",
       "      <td>MS</td>\n",
       "      <td>F</td>\n",
       "      <td>19</td>\n",
       "      <td>R</td>\n",
       "      <td>GT3</td>\n",
       "      <td>T</td>\n",
       "      <td>2</td>\n",
       "      <td>3</td>\n",
       "      <td>services</td>\n",
       "      <td>other</td>\n",
       "      <td>...</td>\n",
       "      <td>no</td>\n",
       "      <td>5</td>\n",
       "      <td>4</td>\n",
       "      <td>2</td>\n",
       "      <td>1</td>\n",
       "      <td>2</td>\n",
       "      <td>5</td>\n",
       "      <td>4</td>\n",
       "      <td>Por</td>\n",
       "      <td>3</td>\n",
       "    </tr>\n",
       "    <tr>\n",
       "      <th>1040</th>\n",
       "      <td>MS</td>\n",
       "      <td>F</td>\n",
       "      <td>18</td>\n",
       "      <td>U</td>\n",
       "      <td>LE3</td>\n",
       "      <td>T</td>\n",
       "      <td>3</td>\n",
       "      <td>1</td>\n",
       "      <td>teacher</td>\n",
       "      <td>services</td>\n",
       "      <td>...</td>\n",
       "      <td>no</td>\n",
       "      <td>4</td>\n",
       "      <td>3</td>\n",
       "      <td>4</td>\n",
       "      <td>1</td>\n",
       "      <td>1</td>\n",
       "      <td>1</td>\n",
       "      <td>4</td>\n",
       "      <td>Por</td>\n",
       "      <td>4</td>\n",
       "    </tr>\n",
       "    <tr>\n",
       "      <th>1041</th>\n",
       "      <td>MS</td>\n",
       "      <td>F</td>\n",
       "      <td>18</td>\n",
       "      <td>U</td>\n",
       "      <td>GT3</td>\n",
       "      <td>T</td>\n",
       "      <td>1</td>\n",
       "      <td>1</td>\n",
       "      <td>other</td>\n",
       "      <td>other</td>\n",
       "      <td>...</td>\n",
       "      <td>no</td>\n",
       "      <td>1</td>\n",
       "      <td>1</td>\n",
       "      <td>1</td>\n",
       "      <td>1</td>\n",
       "      <td>1</td>\n",
       "      <td>5</td>\n",
       "      <td>6</td>\n",
       "      <td>Por</td>\n",
       "      <td>2</td>\n",
       "    </tr>\n",
       "    <tr>\n",
       "      <th>1042</th>\n",
       "      <td>MS</td>\n",
       "      <td>M</td>\n",
       "      <td>17</td>\n",
       "      <td>U</td>\n",
       "      <td>LE3</td>\n",
       "      <td>T</td>\n",
       "      <td>3</td>\n",
       "      <td>1</td>\n",
       "      <td>services</td>\n",
       "      <td>services</td>\n",
       "      <td>...</td>\n",
       "      <td>no</td>\n",
       "      <td>2</td>\n",
       "      <td>4</td>\n",
       "      <td>5</td>\n",
       "      <td>3</td>\n",
       "      <td>4</td>\n",
       "      <td>2</td>\n",
       "      <td>6</td>\n",
       "      <td>Por</td>\n",
       "      <td>3</td>\n",
       "    </tr>\n",
       "    <tr>\n",
       "      <th>1043</th>\n",
       "      <td>MS</td>\n",
       "      <td>M</td>\n",
       "      <td>18</td>\n",
       "      <td>R</td>\n",
       "      <td>LE3</td>\n",
       "      <td>T</td>\n",
       "      <td>3</td>\n",
       "      <td>2</td>\n",
       "      <td>services</td>\n",
       "      <td>other</td>\n",
       "      <td>...</td>\n",
       "      <td>no</td>\n",
       "      <td>4</td>\n",
       "      <td>4</td>\n",
       "      <td>1</td>\n",
       "      <td>3</td>\n",
       "      <td>4</td>\n",
       "      <td>5</td>\n",
       "      <td>4</td>\n",
       "      <td>Por</td>\n",
       "      <td>3</td>\n",
       "    </tr>\n",
       "  </tbody>\n",
       "</table>\n",
       "<p>1044 rows × 32 columns</p>\n",
       "</div>"
      ],
      "text/plain": [
       "     school sex  age address famsize Pstatus  Medu  Fedu      Mjob      Fjob  \\\n",
       "0        GP   F   18       U     GT3       A     4     4   at_home   teacher   \n",
       "1        GP   F   17       U     GT3       T     1     1   at_home     other   \n",
       "2        GP   F   15       U     LE3       T     1     1   at_home     other   \n",
       "3        GP   F   15       U     GT3       T     4     2    health  services   \n",
       "4        GP   F   16       U     GT3       T     3     3     other     other   \n",
       "...     ...  ..  ...     ...     ...     ...   ...   ...       ...       ...   \n",
       "1039     MS   F   19       R     GT3       T     2     3  services     other   \n",
       "1040     MS   F   18       U     LE3       T     3     1   teacher  services   \n",
       "1041     MS   F   18       U     GT3       T     1     1     other     other   \n",
       "1042     MS   M   17       U     LE3       T     3     1  services  services   \n",
       "1043     MS   M   18       R     LE3       T     3     2  services     other   \n",
       "\n",
       "      ... romantic famrel  freetime  goout  Dalc Walc health absences subject  \\\n",
       "0     ...       no      4         3      4     1    1      3        6    Math   \n",
       "1     ...       no      5         3      3     1    1      3        4    Math   \n",
       "2     ...       no      4         3      2     2    3      3       10    Math   \n",
       "3     ...      yes      3         2      2     1    1      5        2    Math   \n",
       "4     ...       no      4         3      2     1    2      5        4    Math   \n",
       "...   ...      ...    ...       ...    ...   ...  ...    ...      ...     ...   \n",
       "1039  ...       no      5         4      2     1    2      5        4     Por   \n",
       "1040  ...       no      4         3      4     1    1      1        4     Por   \n",
       "1041  ...       no      1         1      1     1    1      5        6     Por   \n",
       "1042  ...       no      2         4      5     3    4      2        6     Por   \n",
       "1043  ...       no      4         4      1     3    4      5        4     Por   \n",
       "\n",
       "     grade  \n",
       "0        2  \n",
       "1        2  \n",
       "2        3  \n",
       "3        3  \n",
       "4        3  \n",
       "...    ...  \n",
       "1039     3  \n",
       "1040     4  \n",
       "1041     2  \n",
       "1042     3  \n",
       "1043     3  \n",
       "\n",
       "[1044 rows x 32 columns]"
      ]
     },
     "execution_count": 9,
     "metadata": {},
     "output_type": "execute_result"
    }
   ],
   "source": [
    "new_df = df.drop(columns = [\"G2\",\"G1\",\"G3\",\"Unnamed: 0\"])\n",
    "new_df"
   ]
  },
  {
   "cell_type": "code",
   "execution_count": 10,
   "metadata": {},
   "outputs": [
    {
     "data": {
      "text/plain": [
       "0       2\n",
       "1       2\n",
       "2       3\n",
       "3       3\n",
       "4       3\n",
       "       ..\n",
       "1039    3\n",
       "1040    4\n",
       "1041    2\n",
       "1042    3\n",
       "1043    3\n",
       "Name: grade, Length: 1044, dtype: int64"
      ]
     },
     "execution_count": 10,
     "metadata": {},
     "output_type": "execute_result"
    }
   ],
   "source": [
    "data = new_df.values\n",
    "X = new_df.drop(columns =[\"grade\"])\n",
    "y = new_df['grade']\n",
    "y"
   ]
  },
  {
   "cell_type": "code",
   "execution_count": 11,
   "metadata": {},
   "outputs": [
    {
     "data": {
      "text/plain": [
<<<<<<< HEAD
       "['freetime', 'studytime', 'health', 'Walc', 'goout']"
=======
       "['freetime', 'age', 'health', 'Walc', 'goout']"
>>>>>>> c8dd488261b3ad16245dca7212435eb93a0a91c5
      ]
     },
     "execution_count": 11,
     "metadata": {},
     "output_type": "execute_result"
    }
   ],
   "source": [
    "cat_columns = [\"school\",\"sex\",\"address\",\"famsize\",\"Pstatus\",\"Mjob\",\"Fjob\",\"reason\",\"guardian\",\"schoolsup\",\"famsup\",\"paid\",\"activities\",\"nursery\",\"higher\",\"internet\",\"romantic\",\"subject\"]\n",
    "cat_columns2 = [\"freetime\",\"studytime\",\"health\",\"Walc\",\"goout\"]\n",
    "cat_columns2"
   ]
  },
  {
   "cell_type": "code",
   "execution_count": 12,
   "metadata": {},
   "outputs": [],
   "source": [
    "from sklearn.preprocessing import LabelEncoder\n",
    "from sklearn.preprocessing import OneHotEncoder\n",
    "label_encoder = LabelEncoder()"
   ]
  },
  {
   "cell_type": "code",
   "execution_count": 13,
   "metadata": {},
   "outputs": [
    {
     "data": {
      "text/html": [
       "<div>\n",
       "<style scoped>\n",
       "    .dataframe tbody tr th:only-of-type {\n",
       "        vertical-align: middle;\n",
       "    }\n",
       "\n",
       "    .dataframe tbody tr th {\n",
       "        vertical-align: top;\n",
       "    }\n",
       "\n",
       "    .dataframe thead th {\n",
       "        text-align: right;\n",
       "    }\n",
       "</style>\n",
       "<table border=\"1\" class=\"dataframe\">\n",
       "  <thead>\n",
       "    <tr style=\"text-align: right;\">\n",
       "      <th></th>\n",
       "      <th>school</th>\n",
       "      <th>sex</th>\n",
       "      <th>age</th>\n",
       "      <th>address</th>\n",
       "      <th>famsize</th>\n",
       "      <th>Pstatus</th>\n",
       "      <th>Medu</th>\n",
       "      <th>Fedu</th>\n",
       "      <th>Mjob</th>\n",
       "      <th>Fjob</th>\n",
       "      <th>...</th>\n",
       "      <th>internet</th>\n",
       "      <th>romantic</th>\n",
       "      <th>famrel</th>\n",
       "      <th>freetime</th>\n",
       "      <th>goout</th>\n",
       "      <th>Dalc</th>\n",
       "      <th>Walc</th>\n",
       "      <th>health</th>\n",
       "      <th>absences</th>\n",
       "      <th>subject</th>\n",
       "    </tr>\n",
       "  </thead>\n",
       "  <tbody>\n",
       "    <tr>\n",
       "      <th>0</th>\n",
       "      <td>0</td>\n",
       "      <td>0</td>\n",
       "      <td>18</td>\n",
       "      <td>1</td>\n",
       "      <td>0</td>\n",
       "      <td>0</td>\n",
       "      <td>4</td>\n",
       "      <td>4</td>\n",
       "      <td>0</td>\n",
       "      <td>4</td>\n",
       "      <td>...</td>\n",
       "      <td>0</td>\n",
       "      <td>0</td>\n",
       "      <td>4</td>\n",
       "      <td>3</td>\n",
       "      <td>4</td>\n",
       "      <td>1</td>\n",
       "      <td>1</td>\n",
       "      <td>3</td>\n",
       "      <td>6</td>\n",
       "      <td>0</td>\n",
       "    </tr>\n",
       "    <tr>\n",
       "      <th>1</th>\n",
       "      <td>0</td>\n",
       "      <td>0</td>\n",
       "      <td>17</td>\n",
       "      <td>1</td>\n",
       "      <td>0</td>\n",
       "      <td>1</td>\n",
       "      <td>1</td>\n",
       "      <td>1</td>\n",
       "      <td>0</td>\n",
       "      <td>2</td>\n",
       "      <td>...</td>\n",
       "      <td>1</td>\n",
       "      <td>0</td>\n",
       "      <td>5</td>\n",
       "      <td>3</td>\n",
       "      <td>3</td>\n",
       "      <td>1</td>\n",
       "      <td>1</td>\n",
       "      <td>3</td>\n",
       "      <td>4</td>\n",
       "      <td>0</td>\n",
       "    </tr>\n",
       "    <tr>\n",
       "      <th>2</th>\n",
       "      <td>0</td>\n",
       "      <td>0</td>\n",
       "      <td>15</td>\n",
       "      <td>1</td>\n",
       "      <td>1</td>\n",
       "      <td>1</td>\n",
       "      <td>1</td>\n",
       "      <td>1</td>\n",
       "      <td>0</td>\n",
       "      <td>2</td>\n",
       "      <td>...</td>\n",
       "      <td>1</td>\n",
       "      <td>0</td>\n",
       "      <td>4</td>\n",
       "      <td>3</td>\n",
       "      <td>2</td>\n",
       "      <td>2</td>\n",
       "      <td>3</td>\n",
       "      <td>3</td>\n",
       "      <td>10</td>\n",
       "      <td>0</td>\n",
       "    </tr>\n",
       "    <tr>\n",
       "      <th>3</th>\n",
       "      <td>0</td>\n",
       "      <td>0</td>\n",
       "      <td>15</td>\n",
       "      <td>1</td>\n",
       "      <td>0</td>\n",
       "      <td>1</td>\n",
       "      <td>4</td>\n",
       "      <td>2</td>\n",
       "      <td>1</td>\n",
       "      <td>3</td>\n",
       "      <td>...</td>\n",
       "      <td>1</td>\n",
       "      <td>1</td>\n",
       "      <td>3</td>\n",
       "      <td>2</td>\n",
       "      <td>2</td>\n",
       "      <td>1</td>\n",
       "      <td>1</td>\n",
       "      <td>5</td>\n",
       "      <td>2</td>\n",
       "      <td>0</td>\n",
       "    </tr>\n",
       "    <tr>\n",
       "      <th>4</th>\n",
       "      <td>0</td>\n",
       "      <td>0</td>\n",
       "      <td>16</td>\n",
       "      <td>1</td>\n",
       "      <td>0</td>\n",
       "      <td>1</td>\n",
       "      <td>3</td>\n",
       "      <td>3</td>\n",
       "      <td>2</td>\n",
       "      <td>2</td>\n",
       "      <td>...</td>\n",
       "      <td>0</td>\n",
       "      <td>0</td>\n",
       "      <td>4</td>\n",
       "      <td>3</td>\n",
       "      <td>2</td>\n",
       "      <td>1</td>\n",
       "      <td>2</td>\n",
       "      <td>5</td>\n",
       "      <td>4</td>\n",
       "      <td>0</td>\n",
       "    </tr>\n",
       "    <tr>\n",
       "      <th>...</th>\n",
       "      <td>...</td>\n",
       "      <td>...</td>\n",
       "      <td>...</td>\n",
       "      <td>...</td>\n",
       "      <td>...</td>\n",
       "      <td>...</td>\n",
       "      <td>...</td>\n",
       "      <td>...</td>\n",
       "      <td>...</td>\n",
       "      <td>...</td>\n",
       "      <td>...</td>\n",
       "      <td>...</td>\n",
       "      <td>...</td>\n",
       "      <td>...</td>\n",
       "      <td>...</td>\n",
       "      <td>...</td>\n",
       "      <td>...</td>\n",
       "      <td>...</td>\n",
       "      <td>...</td>\n",
       "      <td>...</td>\n",
       "      <td>...</td>\n",
       "    </tr>\n",
       "    <tr>\n",
       "      <th>1039</th>\n",
       "      <td>1</td>\n",
       "      <td>0</td>\n",
       "      <td>19</td>\n",
       "      <td>0</td>\n",
       "      <td>0</td>\n",
       "      <td>1</td>\n",
       "      <td>2</td>\n",
       "      <td>3</td>\n",
       "      <td>3</td>\n",
       "      <td>2</td>\n",
       "      <td>...</td>\n",
       "      <td>1</td>\n",
       "      <td>0</td>\n",
       "      <td>5</td>\n",
       "      <td>4</td>\n",
       "      <td>2</td>\n",
       "      <td>1</td>\n",
       "      <td>2</td>\n",
       "      <td>5</td>\n",
       "      <td>4</td>\n",
       "      <td>1</td>\n",
       "    </tr>\n",
       "    <tr>\n",
       "      <th>1040</th>\n",
       "      <td>1</td>\n",
       "      <td>0</td>\n",
       "      <td>18</td>\n",
       "      <td>1</td>\n",
       "      <td>1</td>\n",
       "      <td>1</td>\n",
       "      <td>3</td>\n",
       "      <td>1</td>\n",
       "      <td>4</td>\n",
       "      <td>3</td>\n",
       "      <td>...</td>\n",
       "      <td>1</td>\n",
       "      <td>0</td>\n",
       "      <td>4</td>\n",
       "      <td>3</td>\n",
       "      <td>4</td>\n",
       "      <td>1</td>\n",
       "      <td>1</td>\n",
       "      <td>1</td>\n",
       "      <td>4</td>\n",
       "      <td>1</td>\n",
       "    </tr>\n",
       "    <tr>\n",
       "      <th>1041</th>\n",
       "      <td>1</td>\n",
       "      <td>0</td>\n",
       "      <td>18</td>\n",
       "      <td>1</td>\n",
       "      <td>0</td>\n",
       "      <td>1</td>\n",
       "      <td>1</td>\n",
       "      <td>1</td>\n",
       "      <td>2</td>\n",
       "      <td>2</td>\n",
       "      <td>...</td>\n",
       "      <td>0</td>\n",
       "      <td>0</td>\n",
       "      <td>1</td>\n",
       "      <td>1</td>\n",
       "      <td>1</td>\n",
       "      <td>1</td>\n",
       "      <td>1</td>\n",
       "      <td>5</td>\n",
       "      <td>6</td>\n",
       "      <td>1</td>\n",
       "    </tr>\n",
       "    <tr>\n",
       "      <th>1042</th>\n",
       "      <td>1</td>\n",
       "      <td>1</td>\n",
       "      <td>17</td>\n",
       "      <td>1</td>\n",
       "      <td>1</td>\n",
       "      <td>1</td>\n",
       "      <td>3</td>\n",
       "      <td>1</td>\n",
       "      <td>3</td>\n",
       "      <td>3</td>\n",
       "      <td>...</td>\n",
       "      <td>1</td>\n",
       "      <td>0</td>\n",
       "      <td>2</td>\n",
       "      <td>4</td>\n",
       "      <td>5</td>\n",
       "      <td>3</td>\n",
       "      <td>4</td>\n",
       "      <td>2</td>\n",
       "      <td>6</td>\n",
       "      <td>1</td>\n",
       "    </tr>\n",
       "    <tr>\n",
       "      <th>1043</th>\n",
       "      <td>1</td>\n",
       "      <td>1</td>\n",
       "      <td>18</td>\n",
       "      <td>0</td>\n",
       "      <td>1</td>\n",
       "      <td>1</td>\n",
       "      <td>3</td>\n",
       "      <td>2</td>\n",
       "      <td>3</td>\n",
       "      <td>2</td>\n",
       "      <td>...</td>\n",
       "      <td>1</td>\n",
       "      <td>0</td>\n",
       "      <td>4</td>\n",
       "      <td>4</td>\n",
       "      <td>1</td>\n",
       "      <td>3</td>\n",
       "      <td>4</td>\n",
       "      <td>5</td>\n",
       "      <td>4</td>\n",
       "      <td>1</td>\n",
       "    </tr>\n",
       "  </tbody>\n",
       "</table>\n",
       "<p>1044 rows × 31 columns</p>\n",
       "</div>"
      ],
      "text/plain": [
       "      school  sex  age  address  famsize  Pstatus  Medu  Fedu  Mjob  Fjob  \\\n",
       "0          0    0   18        1        0        0     4     4     0     4   \n",
       "1          0    0   17        1        0        1     1     1     0     2   \n",
       "2          0    0   15        1        1        1     1     1     0     2   \n",
       "3          0    0   15        1        0        1     4     2     1     3   \n",
       "4          0    0   16        1        0        1     3     3     2     2   \n",
       "...      ...  ...  ...      ...      ...      ...   ...   ...   ...   ...   \n",
       "1039       1    0   19        0        0        1     2     3     3     2   \n",
       "1040       1    0   18        1        1        1     3     1     4     3   \n",
       "1041       1    0   18        1        0        1     1     1     2     2   \n",
       "1042       1    1   17        1        1        1     3     1     3     3   \n",
       "1043       1    1   18        0        1        1     3     2     3     2   \n",
       "\n",
       "      ...  internet  romantic  famrel  freetime  goout  Dalc  Walc  health  \\\n",
       "0     ...         0         0       4         3      4     1     1       3   \n",
       "1     ...         1         0       5         3      3     1     1       3   \n",
       "2     ...         1         0       4         3      2     2     3       3   \n",
       "3     ...         1         1       3         2      2     1     1       5   \n",
       "4     ...         0         0       4         3      2     1     2       5   \n",
       "...   ...       ...       ...     ...       ...    ...   ...   ...     ...   \n",
       "1039  ...         1         0       5         4      2     1     2       5   \n",
       "1040  ...         1         0       4         3      4     1     1       1   \n",
       "1041  ...         0         0       1         1      1     1     1       5   \n",
       "1042  ...         1         0       2         4      5     3     4       2   \n",
       "1043  ...         1         0       4         4      1     3     4       5   \n",
       "\n",
       "      absences  subject  \n",
       "0            6        0  \n",
       "1            4        0  \n",
       "2           10        0  \n",
       "3            2        0  \n",
       "4            4        0  \n",
       "...        ...      ...  \n",
       "1039         4        1  \n",
       "1040         4        1  \n",
       "1041         6        1  \n",
       "1042         6        1  \n",
       "1043         4        1  \n",
       "\n",
       "[1044 rows x 31 columns]"
      ]
     },
     "execution_count": 13,
     "metadata": {},
     "output_type": "execute_result"
    }
   ],
   "source": [
    "X[cat_columns] = X[cat_columns].apply(LabelEncoder().fit_transform)\n",
    "X"
   ]
  },
  {
   "cell_type": "code",
   "execution_count": 14,
   "metadata": {},
   "outputs": [],
   "source": [
    "X2= X[cat_columns2]\n",
    "X2= X2.apply(LabelEncoder().fit_transform)"
   ]
  },
  {
   "cell_type": "code",
   "execution_count": 15,
   "metadata": {},
   "outputs": [
    {
     "data": {
      "text/html": [
       "<div>\n",
       "<style scoped>\n",
       "    .dataframe tbody tr th:only-of-type {\n",
       "        vertical-align: middle;\n",
       "    }\n",
       "\n",
       "    .dataframe tbody tr th {\n",
       "        vertical-align: top;\n",
       "    }\n",
       "\n",
       "    .dataframe thead th {\n",
       "        text-align: right;\n",
       "    }\n",
       "</style>\n",
       "<table border=\"1\" class=\"dataframe\">\n",
       "  <thead>\n",
       "    <tr style=\"text-align: right;\">\n",
       "      <th></th>\n",
       "      <th>freetime</th>\n",
<<<<<<< HEAD
       "      <th>studytime</th>\n",
=======
       "      <th>age</th>\n",
>>>>>>> c8dd488261b3ad16245dca7212435eb93a0a91c5
       "      <th>health</th>\n",
       "      <th>Walc</th>\n",
       "      <th>goout</th>\n",
       "    </tr>\n",
       "  </thead>\n",
       "  <tbody>\n",
       "    <tr>\n",
<<<<<<< HEAD
       "      <td>0</td>\n",
       "      <td>2</td>\n",
       "      <td>1</td>\n",
       "      <td>2</td>\n",
       "      <td>0</td>\n",
=======
       "      <th>0</th>\n",
       "      <td>2</td>\n",
>>>>>>> c8dd488261b3ad16245dca7212435eb93a0a91c5
       "      <td>3</td>\n",
       "    </tr>\n",
       "    <tr>\n",
       "      <td>1</td>\n",
       "      <td>2</td>\n",
       "      <td>1</td>\n",
       "      <td>2</td>\n",
       "      <td>0</td>\n",
       "      <td>2</td>\n",
       "    </tr>\n",
       "    <tr>\n",
       "      <td>2</td>\n",
       "      <td>2</td>\n",
       "      <td>1</td>\n",
       "      <td>2</td>\n",
       "      <td>2</td>\n",
       "      <td>1</td>\n",
       "    </tr>\n",
       "    <tr>\n",
       "      <td>3</td>\n",
<<<<<<< HEAD
       "      <td>1</td>\n",
       "      <td>2</td>\n",
       "      <td>4</td>\n",
       "      <td>0</td>\n",
       "      <td>1</td>\n",
       "    </tr>\n",
       "    <tr>\n",
       "      <td>4</td>\n",
       "      <td>2</td>\n",
       "      <td>1</td>\n",
       "      <td>4</td>\n",
       "      <td>1</td>\n",
       "      <td>1</td>\n",
       "    </tr>\n",
       "    <tr>\n",
       "      <td>...</td>\n",
       "      <td>...</td>\n",
       "      <td>...</td>\n",
       "      <td>...</td>\n",
       "      <td>...</td>\n",
       "      <td>...</td>\n",
       "    </tr>\n",
       "    <tr>\n",
       "      <td>1039</td>\n",
       "      <td>3</td>\n",
=======
       "    </tr>\n",
       "    <tr>\n",
       "      <th>1</th>\n",
>>>>>>> c8dd488261b3ad16245dca7212435eb93a0a91c5
       "      <td>2</td>\n",
       "      <td>4</td>\n",
       "      <td>1</td>\n",
       "      <td>1</td>\n",
       "    </tr>\n",
       "    <tr>\n",
       "      <td>1040</td>\n",
       "      <td>2</td>\n",
<<<<<<< HEAD
       "      <td>1</td>\n",
       "      <td>0</td>\n",
       "      <td>0</td>\n",
       "      <td>3</td>\n",
       "    </tr>\n",
       "    <tr>\n",
       "      <td>1041</td>\n",
       "      <td>0</td>\n",
       "      <td>1</td>\n",
       "      <td>4</td>\n",
       "      <td>0</td>\n",
       "      <td>0</td>\n",
       "    </tr>\n",
       "    <tr>\n",
       "      <td>1042</td>\n",
       "      <td>3</td>\n",
       "      <td>0</td>\n",
       "      <td>1</td>\n",
       "      <td>3</td>\n",
       "      <td>4</td>\n",
       "    </tr>\n",
       "    <tr>\n",
       "      <td>1043</td>\n",
       "      <td>3</td>\n",
       "      <td>0</td>\n",
       "      <td>4</td>\n",
       "      <td>3</td>\n",
       "      <td>0</td>\n",
       "    </tr>\n",
       "  </tbody>\n",
       "</table>\n",
       "<p>1044 rows × 5 columns</p>\n",
       "</div>"
      ],
      "text/plain": [
       "      freetime  studytime  health  Walc  goout\n",
       "0            2          1       2     0      3\n",
       "1            2          1       2     0      2\n",
       "2            2          1       2     2      1\n",
       "3            1          2       4     0      1\n",
       "4            2          1       4     1      1\n",
       "...        ...        ...     ...   ...    ...\n",
       "1039         3          2       4     1      1\n",
       "1040         2          1       0     0      3\n",
       "1041         0          1       4     0      0\n",
       "1042         3          0       1     3      4\n",
       "1043         3          0       4     3      0\n",
       "\n",
       "[1044 rows x 5 columns]"
      ]
     },
     "execution_count": 15,
     "metadata": {},
     "output_type": "execute_result"
    }
   ],
   "source": [
    "X2"
   ]
  },
  {
   "cell_type": "code",
   "execution_count": 16,
   "metadata": {},
   "outputs": [
    {
     "data": {
      "text/plain": [
       "0       2\n",
       "1       2\n",
       "2       3\n",
       "3       3\n",
       "4       3\n",
       "       ..\n",
       "1039    3\n",
       "1040    4\n",
       "1041    2\n",
       "1042    3\n",
       "1043    3\n",
       "Name: grade, Length: 1044, dtype: int64"
      ]
     },
     "execution_count": 16,
     "metadata": {},
     "output_type": "execute_result"
    }
   ],
   "source": [
    "y"
   ]
  },
  {
   "cell_type": "code",
   "execution_count": 17,
   "metadata": {},
   "outputs": [],
   "source": [
    "from sklearn.model_selection import train_test_split\n",
    "\n",
    "X_train, X_test, y_train, y_test = train_test_split(X, y, test_size=0.01,random_state=52)"
   ]
  },
  {
   "cell_type": "code",
   "execution_count": 18,
   "metadata": {},
   "outputs": [
    {
     "data": {
      "text/html": [
       "<div>\n",
       "<style scoped>\n",
       "    .dataframe tbody tr th:only-of-type {\n",
       "        vertical-align: middle;\n",
       "    }\n",
       "\n",
       "    .dataframe tbody tr th {\n",
       "        vertical-align: top;\n",
       "    }\n",
       "\n",
       "    .dataframe thead th {\n",
       "        text-align: right;\n",
       "    }\n",
       "</style>\n",
       "<table border=\"1\" class=\"dataframe\">\n",
       "  <thead>\n",
       "    <tr style=\"text-align: right;\">\n",
       "      <th></th>\n",
       "      <th>school</th>\n",
       "      <th>sex</th>\n",
       "      <th>age</th>\n",
       "      <th>address</th>\n",
       "      <th>famsize</th>\n",
       "      <th>Pstatus</th>\n",
       "      <th>Medu</th>\n",
       "      <th>Fedu</th>\n",
       "      <th>Mjob</th>\n",
       "      <th>Fjob</th>\n",
       "      <th>...</th>\n",
       "      <th>internet</th>\n",
       "      <th>romantic</th>\n",
       "      <th>famrel</th>\n",
       "      <th>freetime</th>\n",
       "      <th>goout</th>\n",
       "      <th>Dalc</th>\n",
       "      <th>Walc</th>\n",
       "      <th>health</th>\n",
       "      <th>absences</th>\n",
       "      <th>subject</th>\n",
       "    </tr>\n",
       "  </thead>\n",
       "  <tbody>\n",
       "    <tr>\n",
       "      <td>331</td>\n",
       "      <td>0</td>\n",
       "      <td>0</td>\n",
       "      <td>17</td>\n",
       "      <td>0</td>\n",
       "      <td>0</td>\n",
       "      <td>1</td>\n",
=======
>>>>>>> c8dd488261b3ad16245dca7212435eb93a0a91c5
       "      <td>2</td>\n",
       "      <td>4</td>\n",
       "      <td>0</td>\n",
       "      <td>2</td>\n",
       "      <td>...</td>\n",
       "      <td>1</td>\n",
       "      <td>1</td>\n",
       "      <td>4</td>\n",
       "      <td>4</td>\n",
       "      <td>3</td>\n",
       "      <td>1</td>\n",
       "      <td>1</td>\n",
       "      <td>5</td>\n",
       "      <td>7</td>\n",
       "      <td>0</td>\n",
       "      <td>2</td>\n",
       "    </tr>\n",
       "    <tr>\n",
<<<<<<< HEAD
       "      <td>369</td>\n",
       "      <td>1</td>\n",
       "      <td>0</td>\n",
       "      <td>18</td>\n",
       "      <td>0</td>\n",
       "      <td>0</td>\n",
       "      <td>1</td>\n",
       "      <td>4</td>\n",
       "      <td>4</td>\n",
       "      <td>2</td>\n",
       "      <td>4</td>\n",
       "      <td>...</td>\n",
       "      <td>1</td>\n",
       "      <td>1</td>\n",
       "      <td>3</td>\n",
       "      <td>2</td>\n",
       "      <td>2</td>\n",
       "      <td>4</td>\n",
       "      <td>2</td>\n",
       "      <td>5</td>\n",
       "      <td>10</td>\n",
=======
       "      <th>2</th>\n",
       "      <td>2</td>\n",
>>>>>>> c8dd488261b3ad16245dca7212435eb93a0a91c5
       "      <td>0</td>\n",
       "    </tr>\n",
       "    <tr>\n",
       "      <td>777</td>\n",
       "      <td>0</td>\n",
       "      <td>0</td>\n",
       "      <td>17</td>\n",
       "      <td>1</td>\n",
       "      <td>0</td>\n",
       "      <td>1</td>\n",
       "      <td>3</td>\n",
       "      <td>3</td>\n",
       "      <td>0</td>\n",
       "      <td>2</td>\n",
       "      <td>...</td>\n",
       "      <td>1</td>\n",
       "      <td>0</td>\n",
       "      <td>4</td>\n",
       "      <td>2</td>\n",
       "      <td>5</td>\n",
       "      <td>2</td>\n",
       "      <td>5</td>\n",
       "      <td>5</td>\n",
       "      <td>2</td>\n",
       "      <td>1</td>\n",
       "    </tr>\n",
       "    <tr>\n",
       "      <td>691</td>\n",
       "      <td>0</td>\n",
       "      <td>1</td>\n",
       "      <td>18</td>\n",
       "      <td>1</td>\n",
       "      <td>0</td>\n",
       "      <td>1</td>\n",
       "      <td>2</td>\n",
       "      <td>1</td>\n",
       "      <td>2</td>\n",
       "      <td>2</td>\n",
       "      <td>...</td>\n",
       "      <td>1</td>\n",
       "      <td>0</td>\n",
       "      <td>5</td>\n",
       "      <td>2</td>\n",
       "      <td>4</td>\n",
       "      <td>1</td>\n",
       "      <td>2</td>\n",
       "      <td>4</td>\n",
       "      <td>2</td>\n",
       "      <td>1</td>\n",
       "    </tr>\n",
       "    <tr>\n",
       "      <td>193</td>\n",
       "      <td>0</td>\n",
       "      <td>1</td>\n",
       "      <td>16</td>\n",
       "      <td>0</td>\n",
       "      <td>0</td>\n",
       "      <td>1</td>\n",
       "      <td>3</td>\n",
       "      <td>3</td>\n",
       "      <td>3</td>\n",
       "      <td>3</td>\n",
       "      <td>...</td>\n",
       "      <td>1</td>\n",
       "      <td>0</td>\n",
       "      <td>4</td>\n",
       "      <td>3</td>\n",
       "      <td>2</td>\n",
       "      <td>3</td>\n",
       "      <td>4</td>\n",
       "      <td>5</td>\n",
       "      <td>8</td>\n",
       "      <td>0</td>\n",
       "    </tr>\n",
       "    <tr>\n",
       "      <td>...</td>\n",
       "      <td>...</td>\n",
       "      <td>...</td>\n",
       "      <td>...</td>\n",
       "      <td>...</td>\n",
       "      <td>...</td>\n",
       "      <td>...</td>\n",
       "      <td>...</td>\n",
       "      <td>...</td>\n",
       "      <td>...</td>\n",
       "      <td>...</td>\n",
       "      <td>...</td>\n",
       "      <td>...</td>\n",
       "      <td>...</td>\n",
       "      <td>...</td>\n",
       "      <td>...</td>\n",
       "      <td>...</td>\n",
       "      <td>...</td>\n",
       "      <td>...</td>\n",
       "      <td>...</td>\n",
       "      <td>...</td>\n",
       "      <td>...</td>\n",
       "    </tr>\n",
       "    <tr>\n",
       "      <td>924</td>\n",
       "      <td>1</td>\n",
       "      <td>0</td>\n",
       "      <td>16</td>\n",
       "      <td>1</td>\n",
<<<<<<< HEAD
       "      <td>1</td>\n",
       "      <td>1</td>\n",
       "      <td>4</td>\n",
       "      <td>4</td>\n",
       "      <td>3</td>\n",
       "      <td>3</td>\n",
       "      <td>...</td>\n",
       "      <td>0</td>\n",
       "      <td>0</td>\n",
       "      <td>5</td>\n",
       "      <td>1</td>\n",
       "      <td>3</td>\n",
       "      <td>1</td>\n",
       "      <td>2</td>\n",
       "      <td>5</td>\n",
       "      <td>1</td>\n",
       "      <td>1</td>\n",
       "    </tr>\n",
       "    <tr>\n",
       "      <td>86</td>\n",
       "      <td>0</td>\n",
       "      <td>0</td>\n",
       "      <td>16</td>\n",
       "      <td>1</td>\n",
       "      <td>1</td>\n",
       "      <td>1</td>\n",
       "      <td>2</td>\n",
       "      <td>2</td>\n",
       "      <td>0</td>\n",
       "      <td>2</td>\n",
       "      <td>...</td>\n",
       "      <td>0</td>\n",
       "      <td>0</td>\n",
       "      <td>4</td>\n",
       "      <td>3</td>\n",
       "      <td>4</td>\n",
       "      <td>1</td>\n",
       "      <td>2</td>\n",
       "      <td>2</td>\n",
       "      <td>4</td>\n",
       "      <td>0</td>\n",
       "    </tr>\n",
       "    <tr>\n",
       "      <td>151</td>\n",
       "      <td>0</td>\n",
       "      <td>1</td>\n",
       "      <td>16</td>\n",
       "      <td>1</td>\n",
       "      <td>1</td>\n",
       "      <td>1</td>\n",
       "      <td>2</td>\n",
=======
       "    </tr>\n",
       "    <tr>\n",
       "      <th>3</th>\n",
>>>>>>> c8dd488261b3ad16245dca7212435eb93a0a91c5
       "      <td>1</td>\n",
       "      <td>0</td>\n",
       "      <td>2</td>\n",
       "      <td>...</td>\n",
       "      <td>0</td>\n",
       "      <td>1</td>\n",
<<<<<<< HEAD
       "      <td>4</td>\n",
       "      <td>4</td>\n",
       "      <td>4</td>\n",
       "      <td>3</td>\n",
       "      <td>5</td>\n",
       "      <td>5</td>\n",
       "      <td>6</td>\n",
       "      <td>0</td>\n",
       "    </tr>\n",
       "    <tr>\n",
       "      <td>779</td>\n",
       "      <td>0</td>\n",
       "      <td>1</td>\n",
       "      <td>19</td>\n",
       "      <td>0</td>\n",
       "      <td>0</td>\n",
       "      <td>1</td>\n",
=======
       "    </tr>\n",
       "    <tr>\n",
       "      <th>4</th>\n",
       "      <td>2</td>\n",
       "      <td>1</td>\n",
       "      <td>4</td>\n",
       "      <td>1</td>\n",
       "      <td>1</td>\n",
       "    </tr>\n",
       "    <tr>\n",
       "      <th>...</th>\n",
       "      <td>...</td>\n",
       "      <td>...</td>\n",
       "      <td>...</td>\n",
       "      <td>...</td>\n",
       "      <td>...</td>\n",
       "    </tr>\n",
       "    <tr>\n",
       "      <th>1039</th>\n",
       "      <td>3</td>\n",
       "      <td>4</td>\n",
       "      <td>4</td>\n",
       "      <td>1</td>\n",
       "      <td>1</td>\n",
       "    </tr>\n",
       "    <tr>\n",
       "      <th>1040</th>\n",
       "      <td>2</td>\n",
>>>>>>> c8dd488261b3ad16245dca7212435eb93a0a91c5
       "      <td>3</td>\n",
       "      <td>2</td>\n",
       "      <td>0</td>\n",
       "      <td>3</td>\n",
<<<<<<< HEAD
       "      <td>...</td>\n",
       "      <td>0</td>\n",
       "      <td>1</td>\n",
       "      <td>5</td>\n",
=======
       "    </tr>\n",
       "    <tr>\n",
       "      <th>1041</th>\n",
       "      <td>0</td>\n",
>>>>>>> c8dd488261b3ad16245dca7212435eb93a0a91c5
       "      <td>3</td>\n",
       "      <td>4</td>\n",
       "      <td>2</td>\n",
       "      <td>2</td>\n",
       "      <td>5</td>\n",
       "      <td>0</td>\n",
       "    </tr>\n",
       "    <tr>\n",
<<<<<<< HEAD
       "      <td>1013</td>\n",
       "      <td>1</td>\n",
       "      <td>0</td>\n",
       "      <td>18</td>\n",
       "      <td>0</td>\n",
       "      <td>1</td>\n",
       "      <td>0</td>\n",
       "      <td>1</td>\n",
       "      <td>2</td>\n",
       "      <td>0</td>\n",
=======
       "      <th>1042</th>\n",
       "      <td>3</td>\n",
>>>>>>> c8dd488261b3ad16245dca7212435eb93a0a91c5
       "      <td>2</td>\n",
       "      <td>...</td>\n",
       "      <td>0</td>\n",
       "      <td>1</td>\n",
       "      <td>4</td>\n",
       "      <td>3</td>\n",
       "      <td>4</td>\n",
<<<<<<< HEAD
       "      <td>1</td>\n",
=======
       "    </tr>\n",
       "    <tr>\n",
       "      <th>1043</th>\n",
       "      <td>3</td>\n",
       "      <td>3</td>\n",
>>>>>>> c8dd488261b3ad16245dca7212435eb93a0a91c5
       "      <td>4</td>\n",
       "      <td>5</td>\n",
       "      <td>0</td>\n",
       "    </tr>\n",
       "  </tbody>\n",
       "</table>\n",
<<<<<<< HEAD
       "<p>1033 rows × 31 columns</p>\n",
       "</div>"
      ],
      "text/plain": [
       "      school  sex  age  address  famsize  Pstatus  Medu  Fedu  Mjob  Fjob  \\\n",
       "331        0    0   17        0        0        1     2     4     0     2   \n",
       "369        1    0   18        0        0        1     4     4     2     4   \n",
       "777        0    0   17        1        0        1     3     3     0     2   \n",
       "691        0    1   18        1        0        1     2     1     2     2   \n",
       "193        0    1   16        0        0        1     3     3     3     3   \n",
       "...      ...  ...  ...      ...      ...      ...   ...   ...   ...   ...   \n",
       "924        1    0   16        1        1        1     4     4     3     3   \n",
       "86         0    0   16        1        1        1     2     2     0     2   \n",
       "151        0    1   16        1        1        1     2     1     0     2   \n",
       "779        0    1   19        0        0        1     3     2     0     3   \n",
       "1013       1    0   18        0        1        0     1     2     0     2   \n",
       "\n",
       "      ...  internet  romantic  famrel  freetime  goout  Dalc  Walc  health  \\\n",
       "331   ...         1         1       4         4      3     1     1       5   \n",
       "369   ...         1         1       3         2      2     4     2       5   \n",
       "777   ...         1         0       4         2      5     2     5       5   \n",
       "691   ...         1         0       5         2      4     1     2       4   \n",
       "193   ...         1         0       4         3      2     3     4       5   \n",
       "...   ...       ...       ...     ...       ...    ...   ...   ...     ...   \n",
       "924   ...         0         0       5         1      3     1     2       5   \n",
       "86    ...         0         0       4         3      4     1     2       2   \n",
       "151   ...         0         1       4         4      4     3     5       5   \n",
       "779   ...         0         1       5         3      4     2     2       5   \n",
       "1013  ...         0         1       4         3      4     1     4       5   \n",
       "\n",
       "      absences  subject  \n",
       "331          7        0  \n",
       "369         10        0  \n",
       "777          2        1  \n",
       "691          2        1  \n",
       "193          8        0  \n",
       "...        ...      ...  \n",
       "924          1        1  \n",
       "86           4        0  \n",
       "151          6        0  \n",
       "779          0        1  \n",
       "1013         0        1  \n",
       "\n",
       "[1033 rows x 31 columns]"
      ]
     },
     "execution_count": 18,
=======
       "<p>1044 rows × 5 columns</p>\n",
       "</div>"
      ],
      "text/plain": [
       "      freetime  age  health  Walc  goout\n",
       "0            2    3       2     0      3\n",
       "1            2    2       2     0      2\n",
       "2            2    0       2     2      1\n",
       "3            1    0       4     0      1\n",
       "4            2    1       4     1      1\n",
       "...        ...  ...     ...   ...    ...\n",
       "1039         3    4       4     1      1\n",
       "1040         2    3       0     0      3\n",
       "1041         0    3       4     0      0\n",
       "1042         3    2       1     3      4\n",
       "1043         3    3       4     3      0\n",
       "\n",
       "[1044 rows x 5 columns]"
      ]
     },
     "execution_count": 15,
>>>>>>> c8dd488261b3ad16245dca7212435eb93a0a91c5
     "metadata": {},
     "output_type": "execute_result"
    }
   ],
   "source": [
    "X_train"
   ]
  },
  {
   "cell_type": "code",
<<<<<<< HEAD
   "execution_count": 19,
=======
   "execution_count": 16,
>>>>>>> c8dd488261b3ad16245dca7212435eb93a0a91c5
   "metadata": {},
   "outputs": [
    {
     "data": {
      "text/plain": [
       "799     4\n",
       "632     3\n",
       "639     3\n",
       "344     3\n",
       "27      3\n",
       "933     3\n",
       "704     3\n",
       "356     3\n",
       "320     3\n",
       "1038    3\n",
       "698     3\n",
       "Name: grade, dtype: int64"
      ]
     },
<<<<<<< HEAD
     "execution_count": 19,
=======
     "execution_count": 16,
>>>>>>> c8dd488261b3ad16245dca7212435eb93a0a91c5
     "metadata": {},
     "output_type": "execute_result"
    }
   ],
   "source": [
<<<<<<< HEAD
    "y_test"
=======
    "y"
   ]
  },
  {
   "cell_type": "code",
   "execution_count": 17,
   "metadata": {},
   "outputs": [],
   "source": [
    "from sklearn.model_selection import train_test_split\n",
    "\n",
    "X_train, X_test, y_train, y_test = train_test_split(X, y, test_size=0.01,random_state=52)"
   ]
  },
  {
   "cell_type": "code",
   "execution_count": 18,
   "metadata": {},
   "outputs": [
    {
     "data": {
      "text/html": [
       "<div>\n",
       "<style scoped>\n",
       "    .dataframe tbody tr th:only-of-type {\n",
       "        vertical-align: middle;\n",
       "    }\n",
       "\n",
       "    .dataframe tbody tr th {\n",
       "        vertical-align: top;\n",
       "    }\n",
       "\n",
       "    .dataframe thead th {\n",
       "        text-align: right;\n",
       "    }\n",
       "</style>\n",
       "<table border=\"1\" class=\"dataframe\">\n",
       "  <thead>\n",
       "    <tr style=\"text-align: right;\">\n",
       "      <th></th>\n",
       "      <th>school</th>\n",
       "      <th>sex</th>\n",
       "      <th>age</th>\n",
       "      <th>address</th>\n",
       "      <th>famsize</th>\n",
       "      <th>Pstatus</th>\n",
       "      <th>Medu</th>\n",
       "      <th>Fedu</th>\n",
       "      <th>Mjob</th>\n",
       "      <th>Fjob</th>\n",
       "      <th>...</th>\n",
       "      <th>internet</th>\n",
       "      <th>romantic</th>\n",
       "      <th>famrel</th>\n",
       "      <th>freetime</th>\n",
       "      <th>goout</th>\n",
       "      <th>Dalc</th>\n",
       "      <th>Walc</th>\n",
       "      <th>health</th>\n",
       "      <th>absences</th>\n",
       "      <th>subject</th>\n",
       "    </tr>\n",
       "  </thead>\n",
       "  <tbody>\n",
       "    <tr>\n",
       "      <th>331</th>\n",
       "      <td>0</td>\n",
       "      <td>0</td>\n",
       "      <td>17</td>\n",
       "      <td>0</td>\n",
       "      <td>0</td>\n",
       "      <td>1</td>\n",
       "      <td>2</td>\n",
       "      <td>4</td>\n",
       "      <td>0</td>\n",
       "      <td>2</td>\n",
       "      <td>...</td>\n",
       "      <td>1</td>\n",
       "      <td>1</td>\n",
       "      <td>4</td>\n",
       "      <td>4</td>\n",
       "      <td>3</td>\n",
       "      <td>1</td>\n",
       "      <td>1</td>\n",
       "      <td>5</td>\n",
       "      <td>7</td>\n",
       "      <td>0</td>\n",
       "    </tr>\n",
       "    <tr>\n",
       "      <th>369</th>\n",
       "      <td>1</td>\n",
       "      <td>0</td>\n",
       "      <td>18</td>\n",
       "      <td>0</td>\n",
       "      <td>0</td>\n",
       "      <td>1</td>\n",
       "      <td>4</td>\n",
       "      <td>4</td>\n",
       "      <td>2</td>\n",
       "      <td>4</td>\n",
       "      <td>...</td>\n",
       "      <td>1</td>\n",
       "      <td>1</td>\n",
       "      <td>3</td>\n",
       "      <td>2</td>\n",
       "      <td>2</td>\n",
       "      <td>4</td>\n",
       "      <td>2</td>\n",
       "      <td>5</td>\n",
       "      <td>10</td>\n",
       "      <td>0</td>\n",
       "    </tr>\n",
       "    <tr>\n",
       "      <th>777</th>\n",
       "      <td>0</td>\n",
       "      <td>0</td>\n",
       "      <td>17</td>\n",
       "      <td>1</td>\n",
       "      <td>0</td>\n",
       "      <td>1</td>\n",
       "      <td>3</td>\n",
       "      <td>3</td>\n",
       "      <td>0</td>\n",
       "      <td>2</td>\n",
       "      <td>...</td>\n",
       "      <td>1</td>\n",
       "      <td>0</td>\n",
       "      <td>4</td>\n",
       "      <td>2</td>\n",
       "      <td>5</td>\n",
       "      <td>2</td>\n",
       "      <td>5</td>\n",
       "      <td>5</td>\n",
       "      <td>2</td>\n",
       "      <td>1</td>\n",
       "    </tr>\n",
       "    <tr>\n",
       "      <th>691</th>\n",
       "      <td>0</td>\n",
       "      <td>1</td>\n",
       "      <td>18</td>\n",
       "      <td>1</td>\n",
       "      <td>0</td>\n",
       "      <td>1</td>\n",
       "      <td>2</td>\n",
       "      <td>1</td>\n",
       "      <td>2</td>\n",
       "      <td>2</td>\n",
       "      <td>...</td>\n",
       "      <td>1</td>\n",
       "      <td>0</td>\n",
       "      <td>5</td>\n",
       "      <td>2</td>\n",
       "      <td>4</td>\n",
       "      <td>1</td>\n",
       "      <td>2</td>\n",
       "      <td>4</td>\n",
       "      <td>2</td>\n",
       "      <td>1</td>\n",
       "    </tr>\n",
       "    <tr>\n",
       "      <th>193</th>\n",
       "      <td>0</td>\n",
       "      <td>1</td>\n",
       "      <td>16</td>\n",
       "      <td>0</td>\n",
       "      <td>0</td>\n",
       "      <td>1</td>\n",
       "      <td>3</td>\n",
       "      <td>3</td>\n",
       "      <td>3</td>\n",
       "      <td>3</td>\n",
       "      <td>...</td>\n",
       "      <td>1</td>\n",
       "      <td>0</td>\n",
       "      <td>4</td>\n",
       "      <td>3</td>\n",
       "      <td>2</td>\n",
       "      <td>3</td>\n",
       "      <td>4</td>\n",
       "      <td>5</td>\n",
       "      <td>8</td>\n",
       "      <td>0</td>\n",
       "    </tr>\n",
       "    <tr>\n",
       "      <th>...</th>\n",
       "      <td>...</td>\n",
       "      <td>...</td>\n",
       "      <td>...</td>\n",
       "      <td>...</td>\n",
       "      <td>...</td>\n",
       "      <td>...</td>\n",
       "      <td>...</td>\n",
       "      <td>...</td>\n",
       "      <td>...</td>\n",
       "      <td>...</td>\n",
       "      <td>...</td>\n",
       "      <td>...</td>\n",
       "      <td>...</td>\n",
       "      <td>...</td>\n",
       "      <td>...</td>\n",
       "      <td>...</td>\n",
       "      <td>...</td>\n",
       "      <td>...</td>\n",
       "      <td>...</td>\n",
       "      <td>...</td>\n",
       "      <td>...</td>\n",
       "    </tr>\n",
       "    <tr>\n",
       "      <th>924</th>\n",
       "      <td>1</td>\n",
       "      <td>0</td>\n",
       "      <td>16</td>\n",
       "      <td>1</td>\n",
       "      <td>1</td>\n",
       "      <td>1</td>\n",
       "      <td>4</td>\n",
       "      <td>4</td>\n",
       "      <td>3</td>\n",
       "      <td>3</td>\n",
       "      <td>...</td>\n",
       "      <td>0</td>\n",
       "      <td>0</td>\n",
       "      <td>5</td>\n",
       "      <td>1</td>\n",
       "      <td>3</td>\n",
       "      <td>1</td>\n",
       "      <td>2</td>\n",
       "      <td>5</td>\n",
       "      <td>1</td>\n",
       "      <td>1</td>\n",
       "    </tr>\n",
       "    <tr>\n",
       "      <th>86</th>\n",
       "      <td>0</td>\n",
       "      <td>0</td>\n",
       "      <td>16</td>\n",
       "      <td>1</td>\n",
       "      <td>1</td>\n",
       "      <td>1</td>\n",
       "      <td>2</td>\n",
       "      <td>2</td>\n",
       "      <td>0</td>\n",
       "      <td>2</td>\n",
       "      <td>...</td>\n",
       "      <td>0</td>\n",
       "      <td>0</td>\n",
       "      <td>4</td>\n",
       "      <td>3</td>\n",
       "      <td>4</td>\n",
       "      <td>1</td>\n",
       "      <td>2</td>\n",
       "      <td>2</td>\n",
       "      <td>4</td>\n",
       "      <td>0</td>\n",
       "    </tr>\n",
       "    <tr>\n",
       "      <th>151</th>\n",
       "      <td>0</td>\n",
       "      <td>1</td>\n",
       "      <td>16</td>\n",
       "      <td>1</td>\n",
       "      <td>1</td>\n",
       "      <td>1</td>\n",
       "      <td>2</td>\n",
       "      <td>1</td>\n",
       "      <td>0</td>\n",
       "      <td>2</td>\n",
       "      <td>...</td>\n",
       "      <td>0</td>\n",
       "      <td>1</td>\n",
       "      <td>4</td>\n",
       "      <td>4</td>\n",
       "      <td>4</td>\n",
       "      <td>3</td>\n",
       "      <td>5</td>\n",
       "      <td>5</td>\n",
       "      <td>6</td>\n",
       "      <td>0</td>\n",
       "    </tr>\n",
       "    <tr>\n",
       "      <th>779</th>\n",
       "      <td>0</td>\n",
       "      <td>1</td>\n",
       "      <td>19</td>\n",
       "      <td>0</td>\n",
       "      <td>0</td>\n",
       "      <td>1</td>\n",
       "      <td>3</td>\n",
       "      <td>2</td>\n",
       "      <td>0</td>\n",
       "      <td>3</td>\n",
       "      <td>...</td>\n",
       "      <td>0</td>\n",
       "      <td>1</td>\n",
       "      <td>5</td>\n",
       "      <td>3</td>\n",
       "      <td>4</td>\n",
       "      <td>2</td>\n",
       "      <td>2</td>\n",
       "      <td>5</td>\n",
       "      <td>0</td>\n",
       "      <td>1</td>\n",
       "    </tr>\n",
       "    <tr>\n",
       "      <th>1013</th>\n",
       "      <td>1</td>\n",
       "      <td>0</td>\n",
       "      <td>18</td>\n",
       "      <td>0</td>\n",
       "      <td>1</td>\n",
       "      <td>0</td>\n",
       "      <td>1</td>\n",
       "      <td>2</td>\n",
       "      <td>0</td>\n",
       "      <td>2</td>\n",
       "      <td>...</td>\n",
       "      <td>0</td>\n",
       "      <td>1</td>\n",
       "      <td>4</td>\n",
       "      <td>3</td>\n",
       "      <td>4</td>\n",
       "      <td>1</td>\n",
       "      <td>4</td>\n",
       "      <td>5</td>\n",
       "      <td>0</td>\n",
       "      <td>1</td>\n",
       "    </tr>\n",
       "  </tbody>\n",
       "</table>\n",
       "<p>1033 rows × 31 columns</p>\n",
       "</div>"
      ],
      "text/plain": [
       "      school  sex  age  address  famsize  Pstatus  Medu  Fedu  Mjob  Fjob  \\\n",
       "331        0    0   17        0        0        1     2     4     0     2   \n",
       "369        1    0   18        0        0        1     4     4     2     4   \n",
       "777        0    0   17        1        0        1     3     3     0     2   \n",
       "691        0    1   18        1        0        1     2     1     2     2   \n",
       "193        0    1   16        0        0        1     3     3     3     3   \n",
       "...      ...  ...  ...      ...      ...      ...   ...   ...   ...   ...   \n",
       "924        1    0   16        1        1        1     4     4     3     3   \n",
       "86         0    0   16        1        1        1     2     2     0     2   \n",
       "151        0    1   16        1        1        1     2     1     0     2   \n",
       "779        0    1   19        0        0        1     3     2     0     3   \n",
       "1013       1    0   18        0        1        0     1     2     0     2   \n",
       "\n",
       "      ...  internet  romantic  famrel  freetime  goout  Dalc  Walc  health  \\\n",
       "331   ...         1         1       4         4      3     1     1       5   \n",
       "369   ...         1         1       3         2      2     4     2       5   \n",
       "777   ...         1         0       4         2      5     2     5       5   \n",
       "691   ...         1         0       5         2      4     1     2       4   \n",
       "193   ...         1         0       4         3      2     3     4       5   \n",
       "...   ...       ...       ...     ...       ...    ...   ...   ...     ...   \n",
       "924   ...         0         0       5         1      3     1     2       5   \n",
       "86    ...         0         0       4         3      4     1     2       2   \n",
       "151   ...         0         1       4         4      4     3     5       5   \n",
       "779   ...         0         1       5         3      4     2     2       5   \n",
       "1013  ...         0         1       4         3      4     1     4       5   \n",
       "\n",
       "      absences  subject  \n",
       "331          7        0  \n",
       "369         10        0  \n",
       "777          2        1  \n",
       "691          2        1  \n",
       "193          8        0  \n",
       "...        ...      ...  \n",
       "924          1        1  \n",
       "86           4        0  \n",
       "151          6        0  \n",
       "779          0        1  \n",
       "1013         0        1  \n",
       "\n",
       "[1033 rows x 31 columns]"
      ]
     },
     "execution_count": 18,
     "metadata": {},
     "output_type": "execute_result"
    }
   ],
   "source": [
    "X_train"
>>>>>>> c8dd488261b3ad16245dca7212435eb93a0a91c5
   ]
  },
  {
   "cell_type": "code",
<<<<<<< HEAD
   "execution_count": 20,
=======
   "execution_count": 19,
>>>>>>> c8dd488261b3ad16245dca7212435eb93a0a91c5
   "metadata": {},
   "outputs": [
    {
     "data": {
      "text/plain": [
<<<<<<< HEAD
       "LogisticRegression(C=1.0, class_weight=None, dual=False, fit_intercept=True,\n",
       "                   intercept_scaling=1, l1_ratio=None, max_iter=100,\n",
       "                   multi_class='warn', n_jobs=None, penalty='l2',\n",
       "                   random_state=None, solver='warn', tol=0.0001, verbose=0,\n",
       "                   warm_start=False)"
      ]
     },
     "execution_count": 20,
=======
       "799     4\n",
       "632     3\n",
       "639     3\n",
       "344     3\n",
       "27      3\n",
       "933     3\n",
       "704     3\n",
       "356     3\n",
       "320     3\n",
       "1038    3\n",
       "698     3\n",
       "Name: grade, dtype: int64"
      ]
     },
     "execution_count": 19,
>>>>>>> c8dd488261b3ad16245dca7212435eb93a0a91c5
     "metadata": {},
     "output_type": "execute_result"
    }
   ],
   "source": [
    "from sklearn.linear_model import LogisticRegression \n",
    "# import statsmodels.api as sm\n",
    "classifier = LogisticRegression()\n",
    "classifier"
   ]
  },
  {
   "cell_type": "code",
<<<<<<< HEAD
   "execution_count": 21,
=======
   "execution_count": 20,
>>>>>>> c8dd488261b3ad16245dca7212435eb93a0a91c5
   "metadata": {},
   "outputs": [
    {
     "name": "stderr",
     "output_type": "stream",
     "text": [
      "C:\\Users\\prasa\\Anaconda3\\lib\\site-packages\\sklearn\\linear_model\\logistic.py:432: FutureWarning: Default solver will be changed to 'lbfgs' in 0.22. Specify a solver to silence this warning.\n",
      "  FutureWarning)\n",
      "C:\\Users\\prasa\\Anaconda3\\lib\\site-packages\\sklearn\\linear_model\\logistic.py:469: FutureWarning: Default multi_class will be changed to 'auto' in 0.22. Specify the multi_class option to silence this warning.\n",
      "  \"this warning.\", FutureWarning)\n"
     ]
    },
    {
     "data": {
      "text/plain": [
       "LogisticRegression()"
      ]
     },
<<<<<<< HEAD
     "execution_count": 21,
=======
     "execution_count": 20,
>>>>>>> c8dd488261b3ad16245dca7212435eb93a0a91c5
     "metadata": {},
     "output_type": "execute_result"
    }
   ],
   "source": [
<<<<<<< HEAD
    " classifier.fit(X_train, y_train)"
=======
    "from sklearn.linear_model import LogisticRegression \n",
    "# import statsmodels.api as sm\n",
    "classifier = LogisticRegression()\n",
    "classifier"
>>>>>>> c8dd488261b3ad16245dca7212435eb93a0a91c5
   ]
  },
  {
   "cell_type": "code",
<<<<<<< HEAD
   "execution_count": 22,
   "metadata": {},
   "outputs": [
    {
=======
   "execution_count": 21,
   "metadata": {},
   "outputs": [
    {
     "name": "stderr",
     "output_type": "stream",
     "text": [
      "/opt/anaconda3/envs/PythonData/lib/python3.8/site-packages/sklearn/linear_model/_logistic.py:762: ConvergenceWarning: lbfgs failed to converge (status=1):\n",
      "STOP: TOTAL NO. of ITERATIONS REACHED LIMIT.\n",
      "\n",
      "Increase the number of iterations (max_iter) or scale the data as shown in:\n",
      "    https://scikit-learn.org/stable/modules/preprocessing.html\n",
      "Please also refer to the documentation for alternative solver options:\n",
      "    https://scikit-learn.org/stable/modules/linear_model.html#logistic-regression\n",
      "  n_iter_i = _check_optimize_result(\n"
     ]
    },
    {
>>>>>>> c8dd488261b3ad16245dca7212435eb93a0a91c5
     "data": {
      "text/plain": [
       "LogisticRegression()"
      ]
     },
<<<<<<< HEAD
     "execution_count": 22,
=======
     "execution_count": 21,
>>>>>>> c8dd488261b3ad16245dca7212435eb93a0a91c5
     "metadata": {},
     "output_type": "execute_result"
    }
   ],
   "source": [
<<<<<<< HEAD
    "LogisticRegression()"
=======
    " classifier.fit(X_train, y_train)"
>>>>>>> c8dd488261b3ad16245dca7212435eb93a0a91c5
   ]
  },
  {
   "cell_type": "code",
<<<<<<< HEAD
   "execution_count": 23,
=======
   "execution_count": 22,
>>>>>>> c8dd488261b3ad16245dca7212435eb93a0a91c5
   "metadata": {},
   "outputs": [],
   "source": [
    "# classifier.classes_\n"
   ]
  },
  {
   "cell_type": "code",
<<<<<<< HEAD
   "execution_count": 24,
=======
   "execution_count": 23,
>>>>>>> c8dd488261b3ad16245dca7212435eb93a0a91c5
   "metadata": {},
   "outputs": [
    {
     "name": "stdout",
     "output_type": "stream",
     "text": [
<<<<<<< HEAD
      "Training Data Score: 0.6999031945788964\n",
=======
      "Training Data Score: 0.7018393030009681\n",
>>>>>>> c8dd488261b3ad16245dca7212435eb93a0a91c5
      "Testing Data Score: 0.9090909090909091\n"
     ]
    }
   ],
   "source": [
    "print(f\"Training Data Score: {classifier.score(X_train, y_train)}\")\n",
    "print(f\"Testing Data Score: {classifier.score(X_test, y_test)}\")"
   ]
  },
  {
   "cell_type": "code",
<<<<<<< HEAD
   "execution_count": 25,
=======
   "execution_count": 24,
>>>>>>> c8dd488261b3ad16245dca7212435eb93a0a91c5
   "metadata": {},
   "outputs": [],
   "source": [
    "predictions = classifier.predict(X_test)\n",
    "predictions_table=pd.DataFrame({\"Predictions\": predictions, \"Actual\": y_test})"
   ]
  },
  {
   "cell_type": "code",
<<<<<<< HEAD
   "execution_count": 26,
=======
   "execution_count": 25,
>>>>>>> c8dd488261b3ad16245dca7212435eb93a0a91c5
   "metadata": {},
   "outputs": [
    {
     "data": {
      "text/html": [
       "<div>\n",
       "<style scoped>\n",
       "    .dataframe tbody tr th:only-of-type {\n",
       "        vertical-align: middle;\n",
       "    }\n",
       "\n",
       "    .dataframe tbody tr th {\n",
       "        vertical-align: top;\n",
       "    }\n",
       "\n",
       "    .dataframe thead th {\n",
       "        text-align: right;\n",
       "    }\n",
       "</style>\n",
       "<table border=\"1\" class=\"dataframe\">\n",
       "  <thead>\n",
       "    <tr style=\"text-align: right;\">\n",
       "      <th></th>\n",
       "      <th>Predictions</th>\n",
       "      <th>Actual</th>\n",
       "    </tr>\n",
       "  </thead>\n",
       "  <tbody>\n",
       "    <tr>\n",
<<<<<<< HEAD
       "      <td>799</td>\n",
=======
       "      <th>799</th>\n",
>>>>>>> c8dd488261b3ad16245dca7212435eb93a0a91c5
       "      <td>3</td>\n",
       "      <td>4</td>\n",
       "    </tr>\n",
       "    <tr>\n",
<<<<<<< HEAD
       "      <td>632</td>\n",
=======
       "      <th>632</th>\n",
>>>>>>> c8dd488261b3ad16245dca7212435eb93a0a91c5
       "      <td>3</td>\n",
       "      <td>3</td>\n",
       "    </tr>\n",
       "    <tr>\n",
<<<<<<< HEAD
       "      <td>639</td>\n",
=======
       "      <th>639</th>\n",
>>>>>>> c8dd488261b3ad16245dca7212435eb93a0a91c5
       "      <td>3</td>\n",
       "      <td>3</td>\n",
       "    </tr>\n",
       "    <tr>\n",
<<<<<<< HEAD
       "      <td>344</td>\n",
=======
       "      <th>344</th>\n",
>>>>>>> c8dd488261b3ad16245dca7212435eb93a0a91c5
       "      <td>3</td>\n",
       "      <td>3</td>\n",
       "    </tr>\n",
       "    <tr>\n",
<<<<<<< HEAD
       "      <td>27</td>\n",
=======
       "      <th>27</th>\n",
>>>>>>> c8dd488261b3ad16245dca7212435eb93a0a91c5
       "      <td>3</td>\n",
       "      <td>3</td>\n",
       "    </tr>\n",
       "    <tr>\n",
<<<<<<< HEAD
       "      <td>933</td>\n",
=======
       "      <th>933</th>\n",
>>>>>>> c8dd488261b3ad16245dca7212435eb93a0a91c5
       "      <td>3</td>\n",
       "      <td>3</td>\n",
       "    </tr>\n",
       "    <tr>\n",
<<<<<<< HEAD
       "      <td>704</td>\n",
=======
       "      <th>704</th>\n",
>>>>>>> c8dd488261b3ad16245dca7212435eb93a0a91c5
       "      <td>3</td>\n",
       "      <td>3</td>\n",
       "    </tr>\n",
       "    <tr>\n",
<<<<<<< HEAD
       "      <td>356</td>\n",
=======
       "      <th>356</th>\n",
>>>>>>> c8dd488261b3ad16245dca7212435eb93a0a91c5
       "      <td>3</td>\n",
       "      <td>3</td>\n",
       "    </tr>\n",
       "    <tr>\n",
<<<<<<< HEAD
       "      <td>320</td>\n",
=======
       "      <th>320</th>\n",
>>>>>>> c8dd488261b3ad16245dca7212435eb93a0a91c5
       "      <td>3</td>\n",
       "      <td>3</td>\n",
       "    </tr>\n",
       "    <tr>\n",
<<<<<<< HEAD
       "      <td>1038</td>\n",
=======
       "      <th>1038</th>\n",
>>>>>>> c8dd488261b3ad16245dca7212435eb93a0a91c5
       "      <td>3</td>\n",
       "      <td>3</td>\n",
       "    </tr>\n",
       "    <tr>\n",
<<<<<<< HEAD
       "      <td>698</td>\n",
=======
       "      <th>698</th>\n",
>>>>>>> c8dd488261b3ad16245dca7212435eb93a0a91c5
       "      <td>3</td>\n",
       "      <td>3</td>\n",
       "    </tr>\n",
       "  </tbody>\n",
       "</table>\n",
       "</div>"
      ],
      "text/plain": [
       "      Predictions  Actual\n",
       "799             3       4\n",
       "632             3       3\n",
       "639             3       3\n",
       "344             3       3\n",
       "27              3       3\n",
       "933             3       3\n",
       "704             3       3\n",
       "356             3       3\n",
       "320             3       3\n",
       "1038            3       3\n",
       "698             3       3"
      ]
     },
<<<<<<< HEAD
     "execution_count": 26,
=======
     "execution_count": 25,
>>>>>>> c8dd488261b3ad16245dca7212435eb93a0a91c5
     "metadata": {},
     "output_type": "execute_result"
    }
   ],
   "source": [
    "predictions_table"
   ]
  },
  {
   "cell_type": "code",
<<<<<<< HEAD
   "execution_count": 27,
=======
   "execution_count": 26,
>>>>>>> c8dd488261b3ad16245dca7212435eb93a0a91c5
   "metadata": {},
   "outputs": [
    {
     "data": {
      "text/plain": [
<<<<<<< HEAD
       "0.6363636363636364"
      ]
     },
     "execution_count": 27,
=======
       "0.5454545454545454"
      ]
     },
     "execution_count": 26,
>>>>>>> c8dd488261b3ad16245dca7212435eb93a0a91c5
     "metadata": {},
     "output_type": "execute_result"
    }
   ],
   "source": [
    "clf = tree.DecisionTreeClassifier()\n",
    "clf = clf.fit(X_train, y_train)\n",
    "clf.score(X_test, y_test)"
   ]
  },
  {
   "cell_type": "code",
<<<<<<< HEAD
   "execution_count": 28,
=======
   "execution_count": 27,
>>>>>>> c8dd488261b3ad16245dca7212435eb93a0a91c5
   "metadata": {},
   "outputs": [
    {
     "data": {
      "text/plain": [
<<<<<<< HEAD
       "0.8181818181818182"
      ]
     },
     "execution_count": 28,
=======
       "0.9090909090909091"
      ]
     },
     "execution_count": 27,
>>>>>>> c8dd488261b3ad16245dca7212435eb93a0a91c5
     "metadata": {},
     "output_type": "execute_result"
    }
   ],
   "source": [
    "from sklearn.ensemble import RandomForestClassifier\n",
    "rf = RandomForestClassifier(n_estimators=200)\n",
    "rf = rf.fit(X_train, y_train)\n",
    "rf.score(X_test, y_test)"
   ]
  },
  {
   "cell_type": "code",
<<<<<<< HEAD
   "execution_count": 29,
=======
   "execution_count": 28,
>>>>>>> c8dd488261b3ad16245dca7212435eb93a0a91c5
   "metadata": {},
   "outputs": [],
   "source": [
    "feature_names= X.columns"
   ]
  },
  {
   "cell_type": "code",
<<<<<<< HEAD
   "execution_count": 30,
   "metadata": {},
=======
   "execution_count": 29,
   "metadata": {
    "scrolled": true
   },
>>>>>>> c8dd488261b3ad16245dca7212435eb93a0a91c5
   "outputs": [
    {
     "data": {
      "text/plain": [
<<<<<<< HEAD
       "[(0.09166283559642596, 'absences'),\n",
       " (0.05200201019473332, 'failures'),\n",
       " (0.04813341230805425, 'goout'),\n",
       " (0.04728106629021669, 'subject'),\n",
       " (0.046955850369660525, 'freetime'),\n",
       " (0.04528091335647201, 'age'),\n",
       " (0.04407496671874277, 'health'),\n",
       " (0.04183487948665414, 'Mjob'),\n",
       " (0.04182655804773156, 'Walc'),\n",
       " (0.040775105389367954, 'Fedu'),\n",
       " (0.04001618013693569, 'famrel'),\n",
       " (0.03994886356984057, 'Medu'),\n",
       " (0.038536836706264226, 'Fjob'),\n",
       " (0.03820052957869942, 'reason'),\n",
       " (0.03651268477008214, 'studytime'),\n",
       " (0.027210773163879636, 'traveltime'),\n",
       " (0.025120247031548335, 'Dalc'),\n",
       " (0.023200353846471188, 'guardian'),\n",
       " (0.02227337157426966, 'paid'),\n",
       " (0.020993397079575166, 'activities'),\n",
       " (0.0208363128378014, 'famsup'),\n",
       " (0.02020976001701076, 'sex'),\n",
       " (0.02007397163860605, 'romantic'),\n",
       " (0.019390010918667204, 'school'),\n",
       " (0.019159027904636756, 'famsize'),\n",
       " (0.01630090048109433, 'higher'),\n",
       " (0.016182762349241372, 'address'),\n",
       " (0.015816082066719528, 'nursery'),\n",
       " (0.015382984547725024, 'internet'),\n",
       " (0.013902372491780545, 'schoolsup'),\n",
       " (0.010904979531091898, 'Pstatus')]"
      ]
     },
     "execution_count": 30,
=======
       "[(0.09077634638068995, 'absences'),\n",
       " (0.05417541598205958, 'failures'),\n",
       " (0.04901391473624202, 'goout'),\n",
       " (0.047174212502515404, 'age'),\n",
       " (0.04694989936104766, 'subject'),\n",
       " (0.04635877321051381, 'freetime'),\n",
       " (0.045151292593428476, 'health'),\n",
       " (0.04194496327790188, 'Fedu'),\n",
       " (0.04192424993982068, 'Walc'),\n",
       " (0.04063305383862839, 'Mjob'),\n",
       " (0.03984739192807113, 'famrel'),\n",
       " (0.038647104445049575, 'Medu'),\n",
       " (0.0383941830464514, 'reason'),\n",
       " (0.03835787287864527, 'Fjob'),\n",
       " (0.03609793763140931, 'studytime'),\n",
       " (0.02829847040249873, 'traveltime'),\n",
       " (0.024882843392114894, 'Dalc'),\n",
       " (0.02239787792859147, 'paid'),\n",
       " (0.021926636154196513, 'guardian'),\n",
       " (0.020839574510878985, 'famsup'),\n",
       " (0.020666108109560027, 'activities'),\n",
       " (0.020164108327447403, 'sex'),\n",
       " (0.01894087405539808, 'romantic'),\n",
       " (0.0185759052305171, 'school'),\n",
       " (0.01847406517055085, 'famsize'),\n",
       " (0.01768224910705, 'address'),\n",
       " (0.016912423093964006, 'nursery'),\n",
       " (0.016243824203307725, 'higher'),\n",
       " (0.015192078435717902, 'internet'),\n",
       " (0.01252220505653201, 'schoolsup'),\n",
       " (0.01083414506919973, 'Pstatus')]"
      ]
     },
     "execution_count": 29,
>>>>>>> c8dd488261b3ad16245dca7212435eb93a0a91c5
     "metadata": {},
     "output_type": "execute_result"
    }
   ],
   "source": [
    "sorted(zip(rf.feature_importances_, feature_names), reverse=True)"
   ]
  },
  {
   "cell_type": "code",
<<<<<<< HEAD
   "execution_count": 31,
=======
   "execution_count": 48,
>>>>>>> c8dd488261b3ad16245dca7212435eb93a0a91c5
   "metadata": {},
   "outputs": [
    {
     "data": {
<<<<<<< HEAD
      "image/png": "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\n",
=======
      "image/png": "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\n",
>>>>>>> c8dd488261b3ad16245dca7212435eb93a0a91c5
      "text/plain": [
       "<Figure size 720x720 with 1 Axes>"
      ]
     },
     "metadata": {
      "needs_background": "light"
     },
     "output_type": "display_data"
    }
   ],
   "source": [
    "importances = rf.feature_importances_\n",
    "indices = np.argsort(importances)\n",
    "\n",
    "plt.figure(figsize=(10,10))\n",
    "plt.title('Feature Importances')\n",
    "plt.barh(range(len(indices)), importances[indices], color='#008B8B', align='center')\n",
    "plt.yticks(range(len(indices)), feature_names[indices])\n",
    "plt.xlabel('Relative Importance')\n",
    "\n",
    "plt.savefig('static/images/feature_importances.JPG')\n",
    "plt.show()"
   ]
  },
  {
   "cell_type": "code",
<<<<<<< HEAD
   "execution_count": 32,
=======
   "execution_count": 31,
>>>>>>> c8dd488261b3ad16245dca7212435eb93a0a91c5
   "metadata": {},
   "outputs": [],
   "source": [
    "from sklearn.model_selection import train_test_split\n",
    "\n",
    "X2_train, X2_test, y2_train, y2_test = train_test_split(X2, y, test_size=0.1,random_state=42)"
   ]
  },
  {
   "cell_type": "code",
<<<<<<< HEAD
   "execution_count": 33,
=======
   "execution_count": 32,
>>>>>>> c8dd488261b3ad16245dca7212435eb93a0a91c5
   "metadata": {},
   "outputs": [
    {
     "data": {
      "text/plain": [
       "LogisticRegression()"
      ]
     },
<<<<<<< HEAD
     "execution_count": 33,
=======
     "execution_count": 32,
>>>>>>> c8dd488261b3ad16245dca7212435eb93a0a91c5
     "metadata": {},
     "output_type": "execute_result"
    }
   ],
   "source": [
    "from sklearn.linear_model import LogisticRegression\n",
    "classifier = LogisticRegression()\n",
    "classifier"
   ]
  },
  {
   "cell_type": "code",
<<<<<<< HEAD
   "execution_count": 34,
   "metadata": {},
   "outputs": [
    {
     "data": {
      "text/plain": [
       "LogisticRegression(C=1.0, class_weight=None, dual=False, fit_intercept=True,\n",
       "                   intercept_scaling=1, l1_ratio=None, max_iter=100,\n",
       "                   multi_class='warn', n_jobs=None, penalty='l2',\n",
       "                   random_state=None, solver='warn', tol=0.0001, verbose=0,\n",
       "                   warm_start=False)"
      ]
     },
     "execution_count": 34,
     "metadata": {},
     "output_type": "execute_result"
    }
   ],
   "source": [
    "LogisticRegression()"
   ]
  },
  {
   "cell_type": "code",
   "execution_count": 35,
=======
   "execution_count": 33,
>>>>>>> c8dd488261b3ad16245dca7212435eb93a0a91c5
   "metadata": {},
   "outputs": [
    {
     "data": {
      "text/plain": [
       "LogisticRegression()"
      ]
     },
<<<<<<< HEAD
     "execution_count": 35,
=======
     "execution_count": 33,
>>>>>>> c8dd488261b3ad16245dca7212435eb93a0a91c5
     "metadata": {},
     "output_type": "execute_result"
    }
   ],
   "source": [
    "classifier.fit(X2_train, y2_train)"
   ]
  },
  {
   "cell_type": "code",
<<<<<<< HEAD
   "execution_count": 36,
   "metadata": {},
   "outputs": [
    {
     "data": {
      "text/plain": [
       "LogisticRegression(C=1.0, class_weight=None, dual=False, fit_intercept=True,\n",
       "                   intercept_scaling=1, l1_ratio=None, max_iter=100,\n",
       "                   multi_class='warn', n_jobs=None, penalty='l2',\n",
       "                   random_state=None, solver='warn', tol=0.0001, verbose=0,\n",
       "                   warm_start=False)"
      ]
     },
     "execution_count": 36,
     "metadata": {},
     "output_type": "execute_result"
    }
   ],
   "source": [
    "LogisticRegression()"
   ]
  },
  {
   "cell_type": "code",
   "execution_count": 37,
=======
   "execution_count": 34,
>>>>>>> c8dd488261b3ad16245dca7212435eb93a0a91c5
   "metadata": {},
   "outputs": [
    {
     "name": "stdout",
     "output_type": "stream",
     "text": [
<<<<<<< HEAD
      "Training 2 Data Score: 0.6698615548455804\n",
=======
      "Training 2 Data Score: 0.6719914802981896\n",
>>>>>>> c8dd488261b3ad16245dca7212435eb93a0a91c5
      "Testing 2 Data Score: 0.6\n"
     ]
    }
   ],
   "source": [
    "print(f\"Training 2 Data Score: {classifier.score(X2_train, y2_train)}\")\n",
    "print(f\"Testing 2 Data Score: {classifier.score(X2_test, y2_test)}\")"
   ]
  },
  {
   "cell_type": "code",
<<<<<<< HEAD
   "execution_count": 38,
=======
   "execution_count": 35,
>>>>>>> c8dd488261b3ad16245dca7212435eb93a0a91c5
   "metadata": {},
   "outputs": [],
   "source": [
    "predictions2 = classifier.predict(X2_test)\n",
    "predictions_table2=pd.DataFrame({\"Predictions\": predictions2, \"Actual\": y2_test})"
   ]
  },
  {
   "cell_type": "code",
<<<<<<< HEAD
   "execution_count": 39,
=======
   "execution_count": 36,
>>>>>>> c8dd488261b3ad16245dca7212435eb93a0a91c5
   "metadata": {},
   "outputs": [
    {
     "data": {
      "text/html": [
       "<div>\n",
       "<style scoped>\n",
       "    .dataframe tbody tr th:only-of-type {\n",
       "        vertical-align: middle;\n",
       "    }\n",
       "\n",
       "    .dataframe tbody tr th {\n",
       "        vertical-align: top;\n",
       "    }\n",
       "\n",
       "    .dataframe thead th {\n",
       "        text-align: right;\n",
       "    }\n",
       "</style>\n",
       "<table border=\"1\" class=\"dataframe\">\n",
       "  <thead>\n",
       "    <tr style=\"text-align: right;\">\n",
       "      <th></th>\n",
       "      <th>Predictions</th>\n",
       "      <th>Actual</th>\n",
       "    </tr>\n",
       "  </thead>\n",
       "  <tbody>\n",
       "    <tr>\n",
<<<<<<< HEAD
       "      <td>971</td>\n",
=======
       "      <th>971</th>\n",
>>>>>>> c8dd488261b3ad16245dca7212435eb93a0a91c5
       "      <td>3</td>\n",
       "      <td>3</td>\n",
       "    </tr>\n",
       "    <tr>\n",
<<<<<<< HEAD
       "      <td>280</td>\n",
=======
       "      <th>280</th>\n",
>>>>>>> c8dd488261b3ad16245dca7212435eb93a0a91c5
       "      <td>3</td>\n",
       "      <td>2</td>\n",
       "    </tr>\n",
       "    <tr>\n",
<<<<<<< HEAD
       "      <td>536</td>\n",
=======
       "      <th>536</th>\n",
>>>>>>> c8dd488261b3ad16245dca7212435eb93a0a91c5
       "      <td>3</td>\n",
       "      <td>3</td>\n",
       "    </tr>\n",
       "    <tr>\n",
<<<<<<< HEAD
       "      <td>824</td>\n",
=======
       "      <th>824</th>\n",
>>>>>>> c8dd488261b3ad16245dca7212435eb93a0a91c5
       "      <td>3</td>\n",
       "      <td>3</td>\n",
       "    </tr>\n",
       "    <tr>\n",
<<<<<<< HEAD
       "      <td>644</td>\n",
=======
       "      <th>644</th>\n",
>>>>>>> c8dd488261b3ad16245dca7212435eb93a0a91c5
       "      <td>3</td>\n",
       "      <td>3</td>\n",
       "    </tr>\n",
       "    <tr>\n",
       "      <th>...</th>\n",
       "      <td>...</td>\n",
       "      <td>...</td>\n",
       "    </tr>\n",
       "    <tr>\n",
<<<<<<< HEAD
       "      <td>928</td>\n",
=======
       "      <th>928</th>\n",
>>>>>>> c8dd488261b3ad16245dca7212435eb93a0a91c5
       "      <td>3</td>\n",
       "      <td>4</td>\n",
       "    </tr>\n",
       "    <tr>\n",
<<<<<<< HEAD
       "      <td>445</td>\n",
=======
       "      <th>445</th>\n",
>>>>>>> c8dd488261b3ad16245dca7212435eb93a0a91c5
       "      <td>3</td>\n",
       "      <td>3</td>\n",
       "    </tr>\n",
       "    <tr>\n",
<<<<<<< HEAD
       "      <td>54</td>\n",
=======
       "      <th>54</th>\n",
>>>>>>> c8dd488261b3ad16245dca7212435eb93a0a91c5
       "      <td>3</td>\n",
       "      <td>3</td>\n",
       "    </tr>\n",
       "    <tr>\n",
<<<<<<< HEAD
       "      <td>23</td>\n",
=======
       "      <th>23</th>\n",
>>>>>>> c8dd488261b3ad16245dca7212435eb93a0a91c5
       "      <td>3</td>\n",
       "      <td>3</td>\n",
       "    </tr>\n",
       "    <tr>\n",
<<<<<<< HEAD
       "      <td>440</td>\n",
=======
       "      <th>440</th>\n",
>>>>>>> c8dd488261b3ad16245dca7212435eb93a0a91c5
       "      <td>3</td>\n",
       "      <td>3</td>\n",
       "    </tr>\n",
       "  </tbody>\n",
       "</table>\n",
       "<p>105 rows × 2 columns</p>\n",
       "</div>"
      ],
      "text/plain": [
       "     Predictions  Actual\n",
       "971            3       3\n",
       "280            3       2\n",
       "536            3       3\n",
       "824            3       3\n",
       "644            3       3\n",
       "..           ...     ...\n",
       "928            3       4\n",
       "445            3       3\n",
       "54             3       3\n",
       "23             3       3\n",
       "440            3       3\n",
       "\n",
       "[105 rows x 2 columns]"
      ]
     },
<<<<<<< HEAD
     "execution_count": 39,
=======
     "execution_count": 36,
>>>>>>> c8dd488261b3ad16245dca7212435eb93a0a91c5
     "metadata": {},
     "output_type": "execute_result"
    }
   ],
   "source": [
    "predictions_table2"
   ]
  },
  {
   "cell_type": "code",
<<<<<<< HEAD
   "execution_count": 40,
   "metadata": {},
   "outputs": [
    {
     "data": {
      "text/plain": [
       "['Lg.joblib']"
      ]
     },
     "execution_count": 40,
     "metadata": {},
     "output_type": "execute_result"
    }
   ],
   "source": [
    "# Save the model\n",
    "from joblib import dump, load\n",
    "\n",
    "dump(classifier, 'Lg.joblib') \n"
   ]
  },
  {
   "cell_type": "code",
   "execution_count": 41,
=======
   "execution_count": 37,
>>>>>>> c8dd488261b3ad16245dca7212435eb93a0a91c5
   "metadata": {},
   "outputs": [
    {
     "data": {
      "text/plain": [
<<<<<<< HEAD
       "0.5238095238095238"
      ]
     },
     "execution_count": 41,
=======
       "['Lg.joblib']"
      ]
     },
     "execution_count": 37,
     "metadata": {},
     "output_type": "execute_result"
    }
   ],
   "source": [
    "# Save the model\n",
    "# from joblib import dump, load\n",
    "\n",
    "# dump(classifier, 'Lg.joblib') \n"
   ]
  },
  {
   "cell_type": "code",
   "execution_count": 38,
   "metadata": {},
   "outputs": [
    {
     "data": {
      "text/plain": [
       "0.44761904761904764"
      ]
     },
     "execution_count": 38,
>>>>>>> c8dd488261b3ad16245dca7212435eb93a0a91c5
     "metadata": {},
     "output_type": "execute_result"
    }
   ],
   "source": [
    "clf2 = tree.DecisionTreeClassifier()\n",
    "clf2 = clf2.fit(X2_train, y2_train)\n",
    "clf2.score(X2_test, y2_test)"
   ]
  },
  {
   "cell_type": "code",
<<<<<<< HEAD
   "execution_count": 42,
=======
   "execution_count": 39,
>>>>>>> c8dd488261b3ad16245dca7212435eb93a0a91c5
   "metadata": {},
   "outputs": [
    {
     "data": {
      "text/plain": [
<<<<<<< HEAD
       "0.5428571428571428"
      ]
     },
     "execution_count": 42,
=======
       "0.5142857142857142"
      ]
     },
     "execution_count": 39,
>>>>>>> c8dd488261b3ad16245dca7212435eb93a0a91c5
     "metadata": {},
     "output_type": "execute_result"
    }
   ],
   "source": [
    "from sklearn.ensemble import RandomForestClassifier\n",
    "rf2 = RandomForestClassifier(n_estimators=200)\n",
    "rf2 = rf2.fit(X2_train, y2_train)\n",
    "rf2.score(X2_test, y2_test)"
   ]
  },
  {
   "cell_type": "code",
<<<<<<< HEAD
   "execution_count": 43,
=======
   "execution_count": 40,
>>>>>>> c8dd488261b3ad16245dca7212435eb93a0a91c5
   "metadata": {},
   "outputs": [
    {
     "data": {
      "text/plain": [
<<<<<<< HEAD
       "[(0.2500020254332422, 'health'),\n",
       " (0.22314347617124558, 'freetime'),\n",
       " (0.19584810233174968, 'goout'),\n",
       " (0.17360349691721266, 'Walc'),\n",
       " (0.15740289914654967, 'studytime')]"
      ]
     },
     "execution_count": 43,
=======
       "[(0.22356482577574405, 'health'),\n",
       " (0.21323734088739585, 'age'),\n",
       " (0.20539487442686644, 'freetime'),\n",
       " (0.18415457182180536, 'goout'),\n",
       " (0.17364838708818828, 'Walc')]"
      ]
     },
     "execution_count": 40,
>>>>>>> c8dd488261b3ad16245dca7212435eb93a0a91c5
     "metadata": {},
     "output_type": "execute_result"
    }
   ],
   "source": [
    "feature_names2= X2.columns\n",
    "sorted(zip(rf2.feature_importances_, feature_names2), reverse=True)"
   ]
  },
  {
   "cell_type": "code",
<<<<<<< HEAD
   "execution_count": 44,
=======
   "execution_count": 41,
>>>>>>> c8dd488261b3ad16245dca7212435eb93a0a91c5
   "metadata": {},
   "outputs": [],
   "source": [
    "from sklearn.neighbors import KNeighborsClassifier\n",
    "from sklearn.preprocessing import StandardScaler\n",
    "X_scaler = StandardScaler().fit(X2_train)"
   ]
  },
  {
   "cell_type": "code",
<<<<<<< HEAD
   "execution_count": 45,
=======
   "execution_count": 42,
>>>>>>> c8dd488261b3ad16245dca7212435eb93a0a91c5
   "metadata": {},
   "outputs": [],
   "source": [
    "X_train_scaled = X_scaler.transform(X2_train)\n",
    "X_test_scaled = X_scaler.transform(X2_test)"
   ]
  },
  {
   "cell_type": "code",
<<<<<<< HEAD
   "execution_count": 46,
=======
   "execution_count": 43,
>>>>>>> c8dd488261b3ad16245dca7212435eb93a0a91c5
   "metadata": {},
   "outputs": [
    {
     "name": "stdout",
     "output_type": "stream",
     "text": [
<<<<<<< HEAD
      "k: 1, Train/Test Score: 0.738/0.467\n",
      "k: 3, Train/Test Score: 0.717/0.486\n",
      "k: 5, Train/Test Score: 0.693/0.571\n",
      "k: 7, Train/Test Score: 0.687/0.600\n",
      "k: 9, Train/Test Score: 0.682/0.610\n",
      "k: 11, Train/Test Score: 0.675/0.600\n",
      "k: 13, Train/Test Score: 0.670/0.600\n",
      "k: 15, Train/Test Score: 0.668/0.600\n",
      "k: 17, Train/Test Score: 0.670/0.600\n",
      "k: 19, Train/Test Score: 0.669/0.600\n",
      "k: 21, Train/Test Score: 0.669/0.600\n",
      "k: 23, Train/Test Score: 0.670/0.600\n",
      "k: 25, Train/Test Score: 0.670/0.600\n",
      "k: 27, Train/Test Score: 0.670/0.600\n",
      "k: 29, Train/Test Score: 0.670/0.600\n",
=======
      "k: 1, Train/Test Score: 0.756/0.514\n",
      "k: 3, Train/Test Score: 0.717/0.457\n",
      "k: 5, Train/Test Score: 0.693/0.524\n",
      "k: 7, Train/Test Score: 0.686/0.543\n",
      "k: 9, Train/Test Score: 0.681/0.552\n",
      "k: 11, Train/Test Score: 0.674/0.571\n",
      "k: 13, Train/Test Score: 0.669/0.581\n",
      "k: 15, Train/Test Score: 0.670/0.600\n",
      "k: 17, Train/Test Score: 0.673/0.610\n",
      "k: 19, Train/Test Score: 0.672/0.610\n",
      "k: 21, Train/Test Score: 0.671/0.600\n",
      "k: 23, Train/Test Score: 0.668/0.600\n",
      "k: 25, Train/Test Score: 0.669/0.600\n",
      "k: 27, Train/Test Score: 0.669/0.600\n",
      "k: 29, Train/Test Score: 0.669/0.600\n",
>>>>>>> c8dd488261b3ad16245dca7212435eb93a0a91c5
      "k: 31, Train/Test Score: 0.670/0.600\n",
      "k: 33, Train/Test Score: 0.670/0.600\n"
     ]
    }
   ],
   "source": [
    "train_scores = []\n",
    "test_scores = []\n",
    "for k in range(1, 35, 2):\n",
    "    knn = KNeighborsClassifier(n_neighbors=k)\n",
    "    knn.fit(X_train_scaled, y2_train)\n",
    "    train_score = knn.score(X_train_scaled, y2_train)\n",
    "    test_score = knn.score(X_test_scaled, y2_test)\n",
    "    train_scores.append(train_score)\n",
    "    test_scores.append(test_score)\n",
    "    print(f\"k: {k}, Train/Test Score: {train_score:.3f}/{test_score:.3f}\")"
   ]
  },
  {
   "cell_type": "code",
<<<<<<< HEAD
   "execution_count": 47,
=======
   "execution_count": 44,
>>>>>>> c8dd488261b3ad16245dca7212435eb93a0a91c5
   "metadata": {},
   "outputs": [
    {
     "data": {
<<<<<<< HEAD
      "image/png": "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\n",
=======
      "image/png": "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\n",
>>>>>>> c8dd488261b3ad16245dca7212435eb93a0a91c5
      "text/plain": [
       "<Figure size 432x288 with 1 Axes>"
      ]
     },
     "metadata": {
      "needs_background": "light"
     },
     "output_type": "display_data"
    }
   ],
   "source": [
    "plt.plot(range(1, 35, 2), train_scores, marker='o')\n",
    "plt.plot(range(1, 35, 2), test_scores, marker=\"x\")\n",
    "plt.xlabel(\"k neighbors\")\n",
    "plt.ylabel(\"Testing accuracy Score\")\n",
    "plt.show()"
   ]
  },
  {
   "cell_type": "code",
<<<<<<< HEAD
   "execution_count": 53,
=======
   "execution_count": 45,
>>>>>>> c8dd488261b3ad16245dca7212435eb93a0a91c5
   "metadata": {},
   "outputs": [
    {
     "ename": "ValueError",
     "evalue": "Found input variables with inconsistent numbers of samples: [939, 1033]",
     "output_type": "error",
     "traceback": [
<<<<<<< HEAD
      "\u001b[1;31m---------------------------------------------------------------------------\u001b[0m",
      "\u001b[1;31mValueError\u001b[0m                                Traceback (most recent call last)",
      "\u001b[1;32m<ipython-input-53-5e0bb951d73b>\u001b[0m in \u001b[0;36m<module>\u001b[1;34m\u001b[0m\n\u001b[0;32m      1\u001b[0m \u001b[0mknn\u001b[0m \u001b[1;33m=\u001b[0m \u001b[0mKNeighborsClassifier\u001b[0m\u001b[1;33m(\u001b[0m\u001b[0mn_neighbors\u001b[0m\u001b[1;33m=\u001b[0m\u001b[1;36m5\u001b[0m\u001b[1;33m)\u001b[0m\u001b[1;33m\u001b[0m\u001b[1;33m\u001b[0m\u001b[0m\n\u001b[1;32m----> 2\u001b[1;33m \u001b[0mknn\u001b[0m\u001b[1;33m.\u001b[0m\u001b[0mfit\u001b[0m\u001b[1;33m(\u001b[0m\u001b[0mX_train_scaled\u001b[0m\u001b[1;33m,\u001b[0m \u001b[0my_train\u001b[0m\u001b[1;33m)\u001b[0m\u001b[1;33m\u001b[0m\u001b[1;33m\u001b[0m\u001b[0m\n\u001b[0m\u001b[0;32m      3\u001b[0m \u001b[0mprint\u001b[0m\u001b[1;33m(\u001b[0m\u001b[1;34m'k=5 Test Acc: %.3f'\u001b[0m \u001b[1;33m%\u001b[0m \u001b[0mknn\u001b[0m\u001b[1;33m.\u001b[0m\u001b[0mscore\u001b[0m\u001b[1;33m(\u001b[0m\u001b[0mX_test_scaled\u001b[0m\u001b[1;33m,\u001b[0m \u001b[0my_test\u001b[0m\u001b[1;33m)\u001b[0m\u001b[1;33m)\u001b[0m\u001b[1;33m\u001b[0m\u001b[1;33m\u001b[0m\u001b[0m\n",
      "\u001b[1;32m~\\Anaconda3\\lib\\site-packages\\sklearn\\neighbors\\base.py\u001b[0m in \u001b[0;36mfit\u001b[1;34m(self, X, y)\u001b[0m\n\u001b[0;32m    890\u001b[0m         \"\"\"\n\u001b[0;32m    891\u001b[0m         \u001b[1;32mif\u001b[0m \u001b[1;32mnot\u001b[0m \u001b[0misinstance\u001b[0m\u001b[1;33m(\u001b[0m\u001b[0mX\u001b[0m\u001b[1;33m,\u001b[0m \u001b[1;33m(\u001b[0m\u001b[0mKDTree\u001b[0m\u001b[1;33m,\u001b[0m \u001b[0mBallTree\u001b[0m\u001b[1;33m)\u001b[0m\u001b[1;33m)\u001b[0m\u001b[1;33m:\u001b[0m\u001b[1;33m\u001b[0m\u001b[1;33m\u001b[0m\u001b[0m\n\u001b[1;32m--> 892\u001b[1;33m             \u001b[0mX\u001b[0m\u001b[1;33m,\u001b[0m \u001b[0my\u001b[0m \u001b[1;33m=\u001b[0m \u001b[0mcheck_X_y\u001b[0m\u001b[1;33m(\u001b[0m\u001b[0mX\u001b[0m\u001b[1;33m,\u001b[0m \u001b[0my\u001b[0m\u001b[1;33m,\u001b[0m \u001b[1;34m\"csr\"\u001b[0m\u001b[1;33m,\u001b[0m \u001b[0mmulti_output\u001b[0m\u001b[1;33m=\u001b[0m\u001b[1;32mTrue\u001b[0m\u001b[1;33m)\u001b[0m\u001b[1;33m\u001b[0m\u001b[1;33m\u001b[0m\u001b[0m\n\u001b[0m\u001b[0;32m    893\u001b[0m \u001b[1;33m\u001b[0m\u001b[0m\n\u001b[0;32m    894\u001b[0m         \u001b[1;32mif\u001b[0m \u001b[0my\u001b[0m\u001b[1;33m.\u001b[0m\u001b[0mndim\u001b[0m \u001b[1;33m==\u001b[0m \u001b[1;36m1\u001b[0m \u001b[1;32mor\u001b[0m \u001b[0my\u001b[0m\u001b[1;33m.\u001b[0m\u001b[0mndim\u001b[0m \u001b[1;33m==\u001b[0m \u001b[1;36m2\u001b[0m \u001b[1;32mand\u001b[0m \u001b[0my\u001b[0m\u001b[1;33m.\u001b[0m\u001b[0mshape\u001b[0m\u001b[1;33m[\u001b[0m\u001b[1;36m1\u001b[0m\u001b[1;33m]\u001b[0m \u001b[1;33m==\u001b[0m \u001b[1;36m1\u001b[0m\u001b[1;33m:\u001b[0m\u001b[1;33m\u001b[0m\u001b[1;33m\u001b[0m\u001b[0m\n",
      "\u001b[1;32m~\\Anaconda3\\lib\\site-packages\\sklearn\\utils\\validation.py\u001b[0m in \u001b[0;36mcheck_X_y\u001b[1;34m(X, y, accept_sparse, accept_large_sparse, dtype, order, copy, force_all_finite, ensure_2d, allow_nd, multi_output, ensure_min_samples, ensure_min_features, y_numeric, warn_on_dtype, estimator)\u001b[0m\n\u001b[0;32m    727\u001b[0m         \u001b[0my\u001b[0m \u001b[1;33m=\u001b[0m \u001b[0my\u001b[0m\u001b[1;33m.\u001b[0m\u001b[0mastype\u001b[0m\u001b[1;33m(\u001b[0m\u001b[0mnp\u001b[0m\u001b[1;33m.\u001b[0m\u001b[0mfloat64\u001b[0m\u001b[1;33m)\u001b[0m\u001b[1;33m\u001b[0m\u001b[1;33m\u001b[0m\u001b[0m\n\u001b[0;32m    728\u001b[0m \u001b[1;33m\u001b[0m\u001b[0m\n\u001b[1;32m--> 729\u001b[1;33m     \u001b[0mcheck_consistent_length\u001b[0m\u001b[1;33m(\u001b[0m\u001b[0mX\u001b[0m\u001b[1;33m,\u001b[0m \u001b[0my\u001b[0m\u001b[1;33m)\u001b[0m\u001b[1;33m\u001b[0m\u001b[1;33m\u001b[0m\u001b[0m\n\u001b[0m\u001b[0;32m    730\u001b[0m \u001b[1;33m\u001b[0m\u001b[0m\n\u001b[0;32m    731\u001b[0m     \u001b[1;32mreturn\u001b[0m \u001b[0mX\u001b[0m\u001b[1;33m,\u001b[0m \u001b[0my\u001b[0m\u001b[1;33m\u001b[0m\u001b[1;33m\u001b[0m\u001b[0m\n",
      "\u001b[1;32m~\\Anaconda3\\lib\\site-packages\\sklearn\\utils\\validation.py\u001b[0m in \u001b[0;36mcheck_consistent_length\u001b[1;34m(*arrays)\u001b[0m\n\u001b[0;32m    203\u001b[0m     \u001b[1;32mif\u001b[0m \u001b[0mlen\u001b[0m\u001b[1;33m(\u001b[0m\u001b[0muniques\u001b[0m\u001b[1;33m)\u001b[0m \u001b[1;33m>\u001b[0m \u001b[1;36m1\u001b[0m\u001b[1;33m:\u001b[0m\u001b[1;33m\u001b[0m\u001b[1;33m\u001b[0m\u001b[0m\n\u001b[0;32m    204\u001b[0m         raise ValueError(\"Found input variables with inconsistent numbers of\"\n\u001b[1;32m--> 205\u001b[1;33m                          \" samples: %r\" % [int(l) for l in lengths])\n\u001b[0m\u001b[0;32m    206\u001b[0m \u001b[1;33m\u001b[0m\u001b[0m\n\u001b[0;32m    207\u001b[0m \u001b[1;33m\u001b[0m\u001b[0m\n",
      "\u001b[1;31mValueError\u001b[0m: Found input variables with inconsistent numbers of samples: [939, 1033]"
=======
      "\u001b[0;31m---------------------------------------------------------------------------\u001b[0m",
      "\u001b[0;31mValueError\u001b[0m                                Traceback (most recent call last)",
      "\u001b[0;32m<ipython-input-45-5e0bb951d73b>\u001b[0m in \u001b[0;36m<module>\u001b[0;34m\u001b[0m\n\u001b[1;32m      1\u001b[0m \u001b[0mknn\u001b[0m \u001b[0;34m=\u001b[0m \u001b[0mKNeighborsClassifier\u001b[0m\u001b[0;34m(\u001b[0m\u001b[0mn_neighbors\u001b[0m\u001b[0;34m=\u001b[0m\u001b[0;36m5\u001b[0m\u001b[0;34m)\u001b[0m\u001b[0;34m\u001b[0m\u001b[0;34m\u001b[0m\u001b[0m\n\u001b[0;32m----> 2\u001b[0;31m \u001b[0mknn\u001b[0m\u001b[0;34m.\u001b[0m\u001b[0mfit\u001b[0m\u001b[0;34m(\u001b[0m\u001b[0mX_train_scaled\u001b[0m\u001b[0;34m,\u001b[0m \u001b[0my_train\u001b[0m\u001b[0;34m)\u001b[0m\u001b[0;34m\u001b[0m\u001b[0;34m\u001b[0m\u001b[0m\n\u001b[0m\u001b[1;32m      3\u001b[0m \u001b[0mprint\u001b[0m\u001b[0;34m(\u001b[0m\u001b[0;34m'k=5 Test Acc: %.3f'\u001b[0m \u001b[0;34m%\u001b[0m \u001b[0mknn\u001b[0m\u001b[0;34m.\u001b[0m\u001b[0mscore\u001b[0m\u001b[0;34m(\u001b[0m\u001b[0mX_test_scaled\u001b[0m\u001b[0;34m,\u001b[0m \u001b[0my_test\u001b[0m\u001b[0;34m)\u001b[0m\u001b[0;34m)\u001b[0m\u001b[0;34m\u001b[0m\u001b[0;34m\u001b[0m\u001b[0m\n",
      "\u001b[0;32m/opt/anaconda3/envs/PythonData/lib/python3.8/site-packages/sklearn/neighbors/_base.py\u001b[0m in \u001b[0;36mfit\u001b[0;34m(self, X, y)\u001b[0m\n\u001b[1;32m   1129\u001b[0m         \"\"\"\n\u001b[1;32m   1130\u001b[0m         \u001b[0;32mif\u001b[0m \u001b[0;32mnot\u001b[0m \u001b[0misinstance\u001b[0m\u001b[0;34m(\u001b[0m\u001b[0mX\u001b[0m\u001b[0;34m,\u001b[0m \u001b[0;34m(\u001b[0m\u001b[0mKDTree\u001b[0m\u001b[0;34m,\u001b[0m \u001b[0mBallTree\u001b[0m\u001b[0;34m)\u001b[0m\u001b[0;34m)\u001b[0m\u001b[0;34m:\u001b[0m\u001b[0;34m\u001b[0m\u001b[0;34m\u001b[0m\u001b[0m\n\u001b[0;32m-> 1131\u001b[0;31m             X, y = self._validate_data(X, y, accept_sparse=\"csr\",\n\u001b[0m\u001b[1;32m   1132\u001b[0m                                        multi_output=True)\n\u001b[1;32m   1133\u001b[0m \u001b[0;34m\u001b[0m\u001b[0m\n",
      "\u001b[0;32m/opt/anaconda3/envs/PythonData/lib/python3.8/site-packages/sklearn/base.py\u001b[0m in \u001b[0;36m_validate_data\u001b[0;34m(self, X, y, reset, validate_separately, **check_params)\u001b[0m\n\u001b[1;32m    430\u001b[0m                 \u001b[0my\u001b[0m \u001b[0;34m=\u001b[0m \u001b[0mcheck_array\u001b[0m\u001b[0;34m(\u001b[0m\u001b[0my\u001b[0m\u001b[0;34m,\u001b[0m \u001b[0;34m**\u001b[0m\u001b[0mcheck_y_params\u001b[0m\u001b[0;34m)\u001b[0m\u001b[0;34m\u001b[0m\u001b[0;34m\u001b[0m\u001b[0m\n\u001b[1;32m    431\u001b[0m             \u001b[0;32melse\u001b[0m\u001b[0;34m:\u001b[0m\u001b[0;34m\u001b[0m\u001b[0;34m\u001b[0m\u001b[0m\n\u001b[0;32m--> 432\u001b[0;31m                 \u001b[0mX\u001b[0m\u001b[0;34m,\u001b[0m \u001b[0my\u001b[0m \u001b[0;34m=\u001b[0m \u001b[0mcheck_X_y\u001b[0m\u001b[0;34m(\u001b[0m\u001b[0mX\u001b[0m\u001b[0;34m,\u001b[0m \u001b[0my\u001b[0m\u001b[0;34m,\u001b[0m \u001b[0;34m**\u001b[0m\u001b[0mcheck_params\u001b[0m\u001b[0;34m)\u001b[0m\u001b[0;34m\u001b[0m\u001b[0;34m\u001b[0m\u001b[0m\n\u001b[0m\u001b[1;32m    433\u001b[0m             \u001b[0mout\u001b[0m \u001b[0;34m=\u001b[0m \u001b[0mX\u001b[0m\u001b[0;34m,\u001b[0m \u001b[0my\u001b[0m\u001b[0;34m\u001b[0m\u001b[0;34m\u001b[0m\u001b[0m\n\u001b[1;32m    434\u001b[0m \u001b[0;34m\u001b[0m\u001b[0m\n",
      "\u001b[0;32m/opt/anaconda3/envs/PythonData/lib/python3.8/site-packages/sklearn/utils/validation.py\u001b[0m in \u001b[0;36minner_f\u001b[0;34m(*args, **kwargs)\u001b[0m\n\u001b[1;32m     70\u001b[0m                           FutureWarning)\n\u001b[1;32m     71\u001b[0m         \u001b[0mkwargs\u001b[0m\u001b[0;34m.\u001b[0m\u001b[0mupdate\u001b[0m\u001b[0;34m(\u001b[0m\u001b[0;34m{\u001b[0m\u001b[0mk\u001b[0m\u001b[0;34m:\u001b[0m \u001b[0marg\u001b[0m \u001b[0;32mfor\u001b[0m \u001b[0mk\u001b[0m\u001b[0;34m,\u001b[0m \u001b[0marg\u001b[0m \u001b[0;32min\u001b[0m \u001b[0mzip\u001b[0m\u001b[0;34m(\u001b[0m\u001b[0msig\u001b[0m\u001b[0;34m.\u001b[0m\u001b[0mparameters\u001b[0m\u001b[0;34m,\u001b[0m \u001b[0margs\u001b[0m\u001b[0;34m)\u001b[0m\u001b[0;34m}\u001b[0m\u001b[0;34m)\u001b[0m\u001b[0;34m\u001b[0m\u001b[0;34m\u001b[0m\u001b[0m\n\u001b[0;32m---> 72\u001b[0;31m         \u001b[0;32mreturn\u001b[0m \u001b[0mf\u001b[0m\u001b[0;34m(\u001b[0m\u001b[0;34m**\u001b[0m\u001b[0mkwargs\u001b[0m\u001b[0;34m)\u001b[0m\u001b[0;34m\u001b[0m\u001b[0;34m\u001b[0m\u001b[0m\n\u001b[0m\u001b[1;32m     73\u001b[0m     \u001b[0;32mreturn\u001b[0m \u001b[0minner_f\u001b[0m\u001b[0;34m\u001b[0m\u001b[0;34m\u001b[0m\u001b[0m\n\u001b[1;32m     74\u001b[0m \u001b[0;34m\u001b[0m\u001b[0m\n",
      "\u001b[0;32m/opt/anaconda3/envs/PythonData/lib/python3.8/site-packages/sklearn/utils/validation.py\u001b[0m in \u001b[0;36mcheck_X_y\u001b[0;34m(X, y, accept_sparse, accept_large_sparse, dtype, order, copy, force_all_finite, ensure_2d, allow_nd, multi_output, ensure_min_samples, ensure_min_features, y_numeric, estimator)\u001b[0m\n\u001b[1;32m    810\u001b[0m         \u001b[0my\u001b[0m \u001b[0;34m=\u001b[0m \u001b[0my\u001b[0m\u001b[0;34m.\u001b[0m\u001b[0mastype\u001b[0m\u001b[0;34m(\u001b[0m\u001b[0mnp\u001b[0m\u001b[0;34m.\u001b[0m\u001b[0mfloat64\u001b[0m\u001b[0;34m)\u001b[0m\u001b[0;34m\u001b[0m\u001b[0;34m\u001b[0m\u001b[0m\n\u001b[1;32m    811\u001b[0m \u001b[0;34m\u001b[0m\u001b[0m\n\u001b[0;32m--> 812\u001b[0;31m     \u001b[0mcheck_consistent_length\u001b[0m\u001b[0;34m(\u001b[0m\u001b[0mX\u001b[0m\u001b[0;34m,\u001b[0m \u001b[0my\u001b[0m\u001b[0;34m)\u001b[0m\u001b[0;34m\u001b[0m\u001b[0;34m\u001b[0m\u001b[0m\n\u001b[0m\u001b[1;32m    813\u001b[0m \u001b[0;34m\u001b[0m\u001b[0m\n\u001b[1;32m    814\u001b[0m     \u001b[0;32mreturn\u001b[0m \u001b[0mX\u001b[0m\u001b[0;34m,\u001b[0m \u001b[0my\u001b[0m\u001b[0;34m\u001b[0m\u001b[0;34m\u001b[0m\u001b[0m\n",
      "\u001b[0;32m/opt/anaconda3/envs/PythonData/lib/python3.8/site-packages/sklearn/utils/validation.py\u001b[0m in \u001b[0;36mcheck_consistent_length\u001b[0;34m(*arrays)\u001b[0m\n\u001b[1;32m    253\u001b[0m     \u001b[0muniques\u001b[0m \u001b[0;34m=\u001b[0m \u001b[0mnp\u001b[0m\u001b[0;34m.\u001b[0m\u001b[0munique\u001b[0m\u001b[0;34m(\u001b[0m\u001b[0mlengths\u001b[0m\u001b[0;34m)\u001b[0m\u001b[0;34m\u001b[0m\u001b[0;34m\u001b[0m\u001b[0m\n\u001b[1;32m    254\u001b[0m     \u001b[0;32mif\u001b[0m \u001b[0mlen\u001b[0m\u001b[0;34m(\u001b[0m\u001b[0muniques\u001b[0m\u001b[0;34m)\u001b[0m \u001b[0;34m>\u001b[0m \u001b[0;36m1\u001b[0m\u001b[0;34m:\u001b[0m\u001b[0;34m\u001b[0m\u001b[0;34m\u001b[0m\u001b[0m\n\u001b[0;32m--> 255\u001b[0;31m         raise ValueError(\"Found input variables with inconsistent numbers of\"\n\u001b[0m\u001b[1;32m    256\u001b[0m                          \" samples: %r\" % [int(l) for l in lengths])\n\u001b[1;32m    257\u001b[0m \u001b[0;34m\u001b[0m\u001b[0m\n",
      "\u001b[0;31mValueError\u001b[0m: Found input variables with inconsistent numbers of samples: [939, 1033]"
>>>>>>> c8dd488261b3ad16245dca7212435eb93a0a91c5
     ]
    }
   ],
   "source": [
    "knn = KNeighborsClassifier(n_neighbors=5)\n",
    "knn.fit(X_train_scaled, y_train)\n",
    "print('k=5 Test Acc: %.3f' % knn.score(X_test_scaled, y_test))"
   ]
  },
  {
   "cell_type": "code",
   "execution_count": null,
   "metadata": {},
   "outputs": [],
   "source": []
  }
 ],
 "metadata": {
  "kernelspec": {
   "display_name": "Python 3",
   "language": "python",
   "name": "python3"
  },
  "language_info": {
   "codemirror_mode": {
    "name": "ipython",
    "version": 3
   },
   "file_extension": ".py",
   "mimetype": "text/x-python",
   "name": "python",
   "nbconvert_exporter": "python",
   "pygments_lexer": "ipython3",
   "version": "3.8.3"
  }
 },
 "nbformat": 4,
 "nbformat_minor": 2
}
